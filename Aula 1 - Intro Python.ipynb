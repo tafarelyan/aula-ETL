{
 "cells": [
  {
   "cell_type": "markdown",
   "metadata": {},
   "source": [
    "# Variáveis"
   ]
  },
  {
   "cell_type": "code",
   "execution_count": 2,
   "metadata": {},
   "outputs": [],
   "source": [
    "inteiro = 12\n",
    "real = 1.2\n",
    "string = 'Olá Mundo'\n",
    "lista = [1, 2, 3, 4, 5]"
   ]
  },
  {
   "cell_type": "code",
   "execution_count": 3,
   "metadata": {},
   "outputs": [
    {
     "name": "stdout",
     "output_type": "stream",
     "text": [
      "1 2 3 4 5 6 7 8 9 \n",
      "Numero escolhido: 7\n",
      "impar\n",
      "1 2 3 4 5 6 7 8 9 10 "
     ]
    }
   ],
   "source": [
    "# Manipulando sequencias\n",
    "string[0] # O\n",
    "string[1:3] # lá\n",
    "string + 's' # Olá Mundos\n",
    "\n",
    "lista[0] # 1\n",
    "lista[1:3] # [2, 3]\n",
    "lista.append(6) # [1, 2, 3, 4, 5, 6]\n",
    "\n",
    "len(string) # 9\n",
    "len(lista) # 5\n",
    "\n",
    "#while\n",
    "i = 1\n",
    "while i < 10:\n",
    "    print(i, end=' ')\n",
    "    i = i + 1\n",
    "\n",
    "# if\n",
    "num = 7\n",
    "print('\\nNumero escolhido:', num)\n",
    "if num % 2 == 0:\n",
    "    print('par')\n",
    "else:\n",
    "    print('impar')\n",
    "    \n",
    "# for\n",
    "for i in range(1, 11):\n",
    "    print(i, end=' ')"
   ]
  },
  {
   "cell_type": "markdown",
   "metadata": {},
   "source": [
    "# Exercício 1\n",
    "Faça um programa que peça uma nota, entre 0 e 10. Mostra uma mensagem caso o valor seja inválido e continue pedindo até que o usuário informa um valor válido."
   ]
  },
  {
   "cell_type": "code",
   "execution_count": 4,
   "metadata": {},
   "outputs": [
    {
     "name": "stdout",
     "output_type": "stream",
     "text": [
      "Digite uma nota: 9\n",
      "Válido\n"
     ]
    }
   ],
   "source": [
    "invalido = True\n",
    "\n",
    "while invalido == True:\n",
    "    nota = int(input('Digite uma nota: '))\n",
    "    \n",
    "    if nota > 10:\n",
    "        print('Inválido')\n",
    "    else:\n",
    "        print('Válido')\n",
    "        invalido = False"
   ]
  },
  {
   "cell_type": "markdown",
   "metadata": {},
   "source": [
    "# Exercício 2\n",
    "Faça um programa que leia um número de telefone, e corrija o número no caso deste conter somente 7 dígitos, e acrescente 3 no final. O usuário pode informar o número com ou sem traço separador."
   ]
  },
  {
   "cell_type": "code",
   "execution_count": 6,
   "metadata": {},
   "outputs": [
    {
     "name": "stdout",
     "output_type": "stream",
     "text": [
      "1234-5673\n"
     ]
    }
   ],
   "source": [
    "telefone = '1234-567'\n",
    "\n",
    "if len(telefone) == 7 or (len(telefone) == 8 and '-' in telefone):\n",
    "    telefone = telefone + '3'\n",
    "    \n",
    "print(telefone)"
   ]
  }
 ],
 "metadata": {
  "kernelspec": {
   "display_name": "Python 3",
   "language": "python",
   "name": "python3"
  },
  "language_info": {
   "codemirror_mode": {
    "name": "ipython",
    "version": 3
   },
   "file_extension": ".py",
   "mimetype": "text/x-python",
   "name": "python",
   "nbconvert_exporter": "python",
   "pygments_lexer": "ipython3",
   "version": "3.7.6"
  },
  "toc": {
   "base_numbering": 1,
   "nav_menu": {},
   "number_sections": true,
   "sideBar": true,
   "skip_h1_title": false,
   "title_cell": "Table of Contents",
   "title_sidebar": "Contents",
   "toc_cell": false,
   "toc_position": {},
   "toc_section_display": true,
   "toc_window_display": false
  }
 },
 "nbformat": 4,
 "nbformat_minor": 4
}
