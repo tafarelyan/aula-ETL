{
 "cells": [
  {
   "cell_type": "markdown",
   "metadata": {},
   "source": [
    "# Revisão Pandas"
   ]
  },
  {
   "cell_type": "markdown",
   "metadata": {},
   "source": [
    "## Lendo uma base de dados"
   ]
  },
  {
   "cell_type": "code",
   "execution_count": 2,
   "metadata": {},
   "outputs": [
    {
     "data": {
      "text/html": [
       "<div>\n",
       "<style scoped>\n",
       "    .dataframe tbody tr th:only-of-type {\n",
       "        vertical-align: middle;\n",
       "    }\n",
       "\n",
       "    .dataframe tbody tr th {\n",
       "        vertical-align: top;\n",
       "    }\n",
       "\n",
       "    .dataframe thead th {\n",
       "        text-align: right;\n",
       "    }\n",
       "</style>\n",
       "<table border=\"1\" class=\"dataframe\">\n",
       "  <thead>\n",
       "    <tr style=\"text-align: right;\">\n",
       "      <th></th>\n",
       "      <th>Date</th>\n",
       "      <th>SB</th>\n",
       "      <th>Winner</th>\n",
       "      <th>Winner Pts</th>\n",
       "      <th>Loser</th>\n",
       "      <th>Loser Pts</th>\n",
       "      <th>MVP</th>\n",
       "      <th>Stadium</th>\n",
       "      <th>City</th>\n",
       "      <th>State</th>\n",
       "    </tr>\n",
       "  </thead>\n",
       "  <tbody>\n",
       "    <tr>\n",
       "      <th>0</th>\n",
       "      <td>Feb 2 2020</td>\n",
       "      <td>LIV (54)</td>\n",
       "      <td>Kansas City Chiefs</td>\n",
       "      <td>31</td>\n",
       "      <td>San Francisco 49ers</td>\n",
       "      <td>20</td>\n",
       "      <td>Patrick Mahomes</td>\n",
       "      <td>Hard Rock Stadium</td>\n",
       "      <td>Miami Gardens</td>\n",
       "      <td>Florida</td>\n",
       "    </tr>\n",
       "    <tr>\n",
       "      <th>1</th>\n",
       "      <td>Feb 3 2019</td>\n",
       "      <td>LIII (53)</td>\n",
       "      <td>New England Patriots</td>\n",
       "      <td>13</td>\n",
       "      <td>Los Angeles Rams</td>\n",
       "      <td>3</td>\n",
       "      <td>Julian Edelman</td>\n",
       "      <td>Mercedes-Benz Stadium</td>\n",
       "      <td>Atlanta</td>\n",
       "      <td>Georgia</td>\n",
       "    </tr>\n",
       "    <tr>\n",
       "      <th>2</th>\n",
       "      <td>Feb 4 2018</td>\n",
       "      <td>LII (52)</td>\n",
       "      <td>Philadelphia Eagles</td>\n",
       "      <td>41</td>\n",
       "      <td>New England Patriots</td>\n",
       "      <td>33</td>\n",
       "      <td>Nick Foles</td>\n",
       "      <td>U.S. Bank Stadium</td>\n",
       "      <td>Minneapolis</td>\n",
       "      <td>Minnesota</td>\n",
       "    </tr>\n",
       "    <tr>\n",
       "      <th>3</th>\n",
       "      <td>Feb 5 2017</td>\n",
       "      <td>LI (51)</td>\n",
       "      <td>New England Patriots</td>\n",
       "      <td>34</td>\n",
       "      <td>Atlanta Falcons</td>\n",
       "      <td>28</td>\n",
       "      <td>Tom Brady</td>\n",
       "      <td>NRG Stadium</td>\n",
       "      <td>Houston</td>\n",
       "      <td>Texas</td>\n",
       "    </tr>\n",
       "    <tr>\n",
       "      <th>4</th>\n",
       "      <td>Feb 7 2016</td>\n",
       "      <td>50</td>\n",
       "      <td>Denver Broncos</td>\n",
       "      <td>24</td>\n",
       "      <td>Carolina Panthers</td>\n",
       "      <td>10</td>\n",
       "      <td>Von Miller</td>\n",
       "      <td>Levi's Stadium</td>\n",
       "      <td>Santa Clara</td>\n",
       "      <td>California</td>\n",
       "    </tr>\n",
       "  </tbody>\n",
       "</table>\n",
       "</div>"
      ],
      "text/plain": [
       "         Date         SB                Winner  Winner Pts  \\\n",
       "0  Feb 2 2020   LIV (54)    Kansas City Chiefs          31   \n",
       "1  Feb 3 2019  LIII (53)  New England Patriots          13   \n",
       "2  Feb 4 2018   LII (52)   Philadelphia Eagles          41   \n",
       "3  Feb 5 2017    LI (51)  New England Patriots          34   \n",
       "4  Feb 7 2016         50        Denver Broncos          24   \n",
       "\n",
       "                  Loser  Loser Pts              MVP                Stadium  \\\n",
       "0   San Francisco 49ers         20  Patrick Mahomes      Hard Rock Stadium   \n",
       "1      Los Angeles Rams          3   Julian Edelman  Mercedes-Benz Stadium   \n",
       "2  New England Patriots         33       Nick Foles      U.S. Bank Stadium   \n",
       "3       Atlanta Falcons         28        Tom Brady            NRG Stadium   \n",
       "4     Carolina Panthers         10       Von Miller         Levi's Stadium   \n",
       "\n",
       "            City       State  \n",
       "0  Miami Gardens     Florida  \n",
       "1        Atlanta     Georgia  \n",
       "2    Minneapolis   Minnesota  \n",
       "3        Houston       Texas  \n",
       "4    Santa Clara  California  "
      ]
     },
     "execution_count": 2,
     "metadata": {},
     "output_type": "execute_result"
    }
   ],
   "source": [
    "import pandas as pd\n",
    "df = pd.read_csv('superbowl.csv', sep=',')\n",
    "df.head()"
   ]
  },
  {
   "cell_type": "markdown",
   "metadata": {},
   "source": [
    "## Entendendo as colunas"
   ]
  },
  {
   "cell_type": "code",
   "execution_count": 3,
   "metadata": {},
   "outputs": [
    {
     "data": {
      "text/plain": [
       "Date          object\n",
       "SB            object\n",
       "Winner        object\n",
       "Winner Pts     int64\n",
       "Loser         object\n",
       "Loser Pts      int64\n",
       "MVP           object\n",
       "Stadium       object\n",
       "City          object\n",
       "State         object\n",
       "dtype: object"
      ]
     },
     "execution_count": 3,
     "metadata": {},
     "output_type": "execute_result"
    }
   ],
   "source": [
    "df.dtypes"
   ]
  },
  {
   "cell_type": "code",
   "execution_count": 15,
   "metadata": {},
   "outputs": [
    {
     "data": {
      "text/plain": [
       "(54, 10)"
      ]
     },
     "execution_count": 15,
     "metadata": {},
     "output_type": "execute_result"
    }
   ],
   "source": [
    "df.shape"
   ]
  },
  {
   "cell_type": "markdown",
   "metadata": {},
   "source": [
    "## Manipulando as colunas"
   ]
  },
  {
   "cell_type": "code",
   "execution_count": 19,
   "metadata": {},
   "outputs": [
    {
     "data": {
      "text/plain": [
       "0    Feb 2 2020\n",
       "1    Feb 3 2019\n",
       "2    Feb 4 2018\n",
       "3    Feb 5 2017\n",
       "4    Feb 7 2016\n",
       "Name: Date, dtype: object"
      ]
     },
     "execution_count": 19,
     "metadata": {},
     "output_type": "execute_result"
    }
   ],
   "source": [
    "df['Date'].head()"
   ]
  },
  {
   "cell_type": "code",
   "execution_count": 20,
   "metadata": {},
   "outputs": [
    {
     "data": {
      "text/plain": [
       "0    31\n",
       "1    13\n",
       "2    41\n",
       "3    34\n",
       "4    24\n",
       "Name: Winner Pts, dtype: int64"
      ]
     },
     "execution_count": 20,
     "metadata": {},
     "output_type": "execute_result"
    }
   ],
   "source": [
    "df['Winner Pts'].head()"
   ]
  },
  {
   "cell_type": "code",
   "execution_count": 22,
   "metadata": {},
   "outputs": [
    {
     "name": "stdout",
     "output_type": "stream",
     "text": [
      "Soma: 1626\n",
      "Média: 30.11111111111111\n",
      "Contagem:  54\n"
     ]
    }
   ],
   "source": [
    "pontos = df['Winner Pts']\n",
    "print('Soma:', pontos.sum())\n",
    "print('Média:', pontos.mean())\n",
    "print('Contagem: ', pontos.count())"
   ]
  },
  {
   "cell_type": "markdown",
   "metadata": {},
   "source": [
    "## Ordenando os valores"
   ]
  },
  {
   "cell_type": "markdown",
   "metadata": {},
   "source": [
    "- Quais 5 edições os times ganharam o maior número de pontos?"
   ]
  },
  {
   "cell_type": "code",
   "execution_count": null,
   "metadata": {},
   "outputs": [],
   "source": []
  },
  {
   "cell_type": "markdown",
   "metadata": {},
   "source": [
    "- Ordene os nomes dos MVPs de todas as edições do superbowl em ordem crescente"
   ]
  },
  {
   "cell_type": "code",
   "execution_count": null,
   "metadata": {},
   "outputs": [],
   "source": []
  },
  {
   "cell_type": "markdown",
   "metadata": {},
   "source": [
    "## Operações de filtro"
   ]
  },
  {
   "cell_type": "markdown",
   "metadata": {},
   "source": [
    "- Quantas superbowls foram realizadas na Orange Bowl (Florida)?"
   ]
  },
  {
   "cell_type": "code",
   "execution_count": null,
   "metadata": {},
   "outputs": [],
   "source": []
  },
  {
   "cell_type": "markdown",
   "metadata": {},
   "source": [
    "- Quantas superbowls foram realizadas na Florida?"
   ]
  },
  {
   "cell_type": "code",
   "execution_count": null,
   "metadata": {},
   "outputs": [],
   "source": []
  },
  {
   "cell_type": "markdown",
   "metadata": {},
   "source": [
    "## Agrupamento"
   ]
  },
  {
   "cell_type": "markdown",
   "metadata": {},
   "source": [
    "- Quantas superbowls foram realizadas em cada estado?"
   ]
  },
  {
   "cell_type": "code",
   "execution_count": null,
   "metadata": {},
   "outputs": [],
   "source": []
  },
  {
   "cell_type": "markdown",
   "metadata": {},
   "source": [
    "## Misturando tudo"
   ]
  },
  {
   "cell_type": "markdown",
   "metadata": {},
   "source": [
    "- Quais estados que realizam o maior número de superbowls?"
   ]
  },
  {
   "cell_type": "code",
   "execution_count": null,
   "metadata": {},
   "outputs": [],
   "source": []
  },
  {
   "cell_type": "markdown",
   "metadata": {},
   "source": [
    "- Quem são os times que mais ganham o superbowl?"
   ]
  },
  {
   "cell_type": "code",
   "execution_count": null,
   "metadata": {},
   "outputs": [],
   "source": []
  },
  {
   "cell_type": "markdown",
   "metadata": {},
   "source": [
    "## Exercícios "
   ]
  },
  {
   "cell_type": "code",
   "execution_count": 23,
   "metadata": {},
   "outputs": [],
   "source": [
    "# Quantas superbowls existem?"
   ]
  },
  {
   "cell_type": "code",
   "execution_count": null,
   "metadata": {},
   "outputs": [],
   "source": [
    "# Quantas superbowls foram realizadas na California?"
   ]
  },
  {
   "cell_type": "code",
   "execution_count": null,
   "metadata": {},
   "outputs": [],
   "source": [
    "# Quais são os estádios mais utilizados para Superbowl na California?"
   ]
  },
  {
   "cell_type": "code",
   "execution_count": null,
   "metadata": {},
   "outputs": [],
   "source": [
    "# Quantas superbowls foram realizadas em Fevereiro?"
   ]
  },
  {
   "cell_type": "markdown",
   "metadata": {},
   "source": [
    "# Problemas de Formatação"
   ]
  },
  {
   "cell_type": "markdown",
   "metadata": {},
   "source": [
    "## Formato de data"
   ]
  },
  {
   "cell_type": "code",
   "execution_count": 20,
   "metadata": {},
   "outputs": [
    {
     "data": {
      "text/html": [
       "<div>\n",
       "<style scoped>\n",
       "    .dataframe tbody tr th:only-of-type {\n",
       "        vertical-align: middle;\n",
       "    }\n",
       "\n",
       "    .dataframe tbody tr th {\n",
       "        vertical-align: top;\n",
       "    }\n",
       "\n",
       "    .dataframe thead th {\n",
       "        text-align: right;\n",
       "    }\n",
       "</style>\n",
       "<table border=\"1\" class=\"dataframe\">\n",
       "  <thead>\n",
       "    <tr style=\"text-align: right;\">\n",
       "      <th></th>\n",
       "      <th>Date</th>\n",
       "      <th>Open</th>\n",
       "      <th>High</th>\n",
       "      <th>Low</th>\n",
       "      <th>Close</th>\n",
       "      <th>Adj Close</th>\n",
       "      <th>Volume</th>\n",
       "    </tr>\n",
       "  </thead>\n",
       "  <tbody>\n",
       "    <tr>\n",
       "      <th>0</th>\n",
       "      <td>2016-03-01</td>\n",
       "      <td>97.650002</td>\n",
       "      <td>100.769997</td>\n",
       "      <td>97.419998</td>\n",
       "      <td>100.529999</td>\n",
       "      <td>94.228645</td>\n",
       "      <td>50407100</td>\n",
       "    </tr>\n",
       "    <tr>\n",
       "      <th>1</th>\n",
       "      <td>2016-03-02</td>\n",
       "      <td>100.510002</td>\n",
       "      <td>100.889999</td>\n",
       "      <td>99.639999</td>\n",
       "      <td>100.750000</td>\n",
       "      <td>94.434853</td>\n",
       "      <td>33169600</td>\n",
       "    </tr>\n",
       "    <tr>\n",
       "      <th>2</th>\n",
       "      <td>2016-03-03</td>\n",
       "      <td>100.580002</td>\n",
       "      <td>101.709999</td>\n",
       "      <td>100.449997</td>\n",
       "      <td>101.500000</td>\n",
       "      <td>95.137848</td>\n",
       "      <td>36955700</td>\n",
       "    </tr>\n",
       "    <tr>\n",
       "      <th>3</th>\n",
       "      <td>2016-03-04</td>\n",
       "      <td>102.370003</td>\n",
       "      <td>103.750000</td>\n",
       "      <td>101.370003</td>\n",
       "      <td>103.010002</td>\n",
       "      <td>96.553185</td>\n",
       "      <td>46055100</td>\n",
       "    </tr>\n",
       "    <tr>\n",
       "      <th>4</th>\n",
       "      <td>2016-03-07</td>\n",
       "      <td>102.389999</td>\n",
       "      <td>102.830002</td>\n",
       "      <td>100.959999</td>\n",
       "      <td>101.870003</td>\n",
       "      <td>95.484657</td>\n",
       "      <td>35828900</td>\n",
       "    </tr>\n",
       "  </tbody>\n",
       "</table>\n",
       "</div>"
      ],
      "text/plain": [
       "         Date        Open        High         Low       Close  Adj Close  \\\n",
       "0  2016-03-01   97.650002  100.769997   97.419998  100.529999  94.228645   \n",
       "1  2016-03-02  100.510002  100.889999   99.639999  100.750000  94.434853   \n",
       "2  2016-03-03  100.580002  101.709999  100.449997  101.500000  95.137848   \n",
       "3  2016-03-04  102.370003  103.750000  101.370003  103.010002  96.553185   \n",
       "4  2016-03-07  102.389999  102.830002  100.959999  101.870003  95.484657   \n",
       "\n",
       "     Volume  \n",
       "0  50407100  \n",
       "1  33169600  \n",
       "2  36955700  \n",
       "3  46055100  \n",
       "4  35828900  "
      ]
     },
     "execution_count": 20,
     "metadata": {},
     "output_type": "execute_result"
    }
   ],
   "source": [
    "# Formato desejado: dd/mês/ano\n",
    "# Formato atual: ano-mês-dia\n",
    "\n",
    "import pandas as pd\n",
    "apple = pd.read_csv('AAPL.csv', sep=',')\n",
    "apple.head()"
   ]
  },
  {
   "cell_type": "code",
   "execution_count": 21,
   "metadata": {},
   "outputs": [
    {
     "name": "stdout",
     "output_type": "stream",
     "text": [
      "2016 03 01\n"
     ]
    }
   ],
   "source": [
    "for data in apple['Date']:\n",
    "    ano, mes, dia = data.split('-')\n",
    "    print(ano, mes, dia)\n",
    "    break"
   ]
  },
  {
   "cell_type": "code",
   "execution_count": 22,
   "metadata": {},
   "outputs": [
    {
     "data": {
      "text/plain": [
       "'01/03/2016'"
      ]
     },
     "execution_count": 22,
     "metadata": {},
     "output_type": "execute_result"
    }
   ],
   "source": [
    "novas_datas = []\n",
    "for data in apple['Date']:\n",
    "    ano, mes, dia = data.split('-')\n",
    "    novas_datas.append(dia + '/' + mes + '/' + ano)\n",
    "\n",
    "novas_datas[0]"
   ]
  },
  {
   "cell_type": "code",
   "execution_count": 23,
   "metadata": {},
   "outputs": [
    {
     "data": {
      "text/html": [
       "<div>\n",
       "<style scoped>\n",
       "    .dataframe tbody tr th:only-of-type {\n",
       "        vertical-align: middle;\n",
       "    }\n",
       "\n",
       "    .dataframe tbody tr th {\n",
       "        vertical-align: top;\n",
       "    }\n",
       "\n",
       "    .dataframe thead th {\n",
       "        text-align: right;\n",
       "    }\n",
       "</style>\n",
       "<table border=\"1\" class=\"dataframe\">\n",
       "  <thead>\n",
       "    <tr style=\"text-align: right;\">\n",
       "      <th></th>\n",
       "      <th>Date</th>\n",
       "      <th>Open</th>\n",
       "      <th>High</th>\n",
       "      <th>Low</th>\n",
       "      <th>Close</th>\n",
       "      <th>Adj Close</th>\n",
       "      <th>Volume</th>\n",
       "    </tr>\n",
       "  </thead>\n",
       "  <tbody>\n",
       "    <tr>\n",
       "      <th>0</th>\n",
       "      <td>01/03/2016</td>\n",
       "      <td>97.650002</td>\n",
       "      <td>100.769997</td>\n",
       "      <td>97.419998</td>\n",
       "      <td>100.529999</td>\n",
       "      <td>94.228645</td>\n",
       "      <td>50407100</td>\n",
       "    </tr>\n",
       "    <tr>\n",
       "      <th>1</th>\n",
       "      <td>02/03/2016</td>\n",
       "      <td>100.510002</td>\n",
       "      <td>100.889999</td>\n",
       "      <td>99.639999</td>\n",
       "      <td>100.750000</td>\n",
       "      <td>94.434853</td>\n",
       "      <td>33169600</td>\n",
       "    </tr>\n",
       "    <tr>\n",
       "      <th>2</th>\n",
       "      <td>03/03/2016</td>\n",
       "      <td>100.580002</td>\n",
       "      <td>101.709999</td>\n",
       "      <td>100.449997</td>\n",
       "      <td>101.500000</td>\n",
       "      <td>95.137848</td>\n",
       "      <td>36955700</td>\n",
       "    </tr>\n",
       "    <tr>\n",
       "      <th>3</th>\n",
       "      <td>04/03/2016</td>\n",
       "      <td>102.370003</td>\n",
       "      <td>103.750000</td>\n",
       "      <td>101.370003</td>\n",
       "      <td>103.010002</td>\n",
       "      <td>96.553185</td>\n",
       "      <td>46055100</td>\n",
       "    </tr>\n",
       "    <tr>\n",
       "      <th>4</th>\n",
       "      <td>07/03/2016</td>\n",
       "      <td>102.389999</td>\n",
       "      <td>102.830002</td>\n",
       "      <td>100.959999</td>\n",
       "      <td>101.870003</td>\n",
       "      <td>95.484657</td>\n",
       "      <td>35828900</td>\n",
       "    </tr>\n",
       "  </tbody>\n",
       "</table>\n",
       "</div>"
      ],
      "text/plain": [
       "         Date        Open        High         Low       Close  Adj Close  \\\n",
       "0  01/03/2016   97.650002  100.769997   97.419998  100.529999  94.228645   \n",
       "1  02/03/2016  100.510002  100.889999   99.639999  100.750000  94.434853   \n",
       "2  03/03/2016  100.580002  101.709999  100.449997  101.500000  95.137848   \n",
       "3  04/03/2016  102.370003  103.750000  101.370003  103.010002  96.553185   \n",
       "4  07/03/2016  102.389999  102.830002  100.959999  101.870003  95.484657   \n",
       "\n",
       "     Volume  \n",
       "0  50407100  \n",
       "1  33169600  \n",
       "2  36955700  \n",
       "3  46055100  \n",
       "4  35828900  "
      ]
     },
     "execution_count": 23,
     "metadata": {},
     "output_type": "execute_result"
    }
   ],
   "source": [
    "apple['Date'] = novas_datas\n",
    "apple.head()"
   ]
  },
  {
   "cell_type": "markdown",
   "metadata": {},
   "source": [
    "## Produtos e-commerce"
   ]
  },
  {
   "cell_type": "code",
   "execution_count": 1,
   "metadata": {},
   "outputs": [
    {
     "ename": "NameError",
     "evalue": "name 'pd' is not defined",
     "output_type": "error",
     "traceback": [
      "\u001b[0;31m---------------------------------------------------------------------------\u001b[0m",
      "\u001b[0;31mNameError\u001b[0m                                 Traceback (most recent call last)",
      "\u001b[0;32m<ipython-input-1-5a9862d6eea1>\u001b[0m in \u001b[0;36m<module>\u001b[0;34m\u001b[0m\n\u001b[1;32m     22\u001b[0m \u001b[0;34m\u001b[0m\u001b[0m\n\u001b[1;32m     23\u001b[0m \u001b[0;31m# Armazenando os dados\u001b[0m\u001b[0;34m\u001b[0m\u001b[0;34m\u001b[0m\u001b[0;34m\u001b[0m\u001b[0m\n\u001b[0;32m---> 24\u001b[0;31m \u001b[0mprodutos\u001b[0m \u001b[0;34m=\u001b[0m \u001b[0mpd\u001b[0m\u001b[0;34m.\u001b[0m\u001b[0mDataFrame\u001b[0m\u001b[0;34m(\u001b[0m\u001b[0mcatalogo\u001b[0m\u001b[0;34m,\u001b[0m \u001b[0mcolumns\u001b[0m\u001b[0;34m=\u001b[0m\u001b[0;34m[\u001b[0m\u001b[0;34m'Título'\u001b[0m\u001b[0;34m,\u001b[0m \u001b[0;34m'Preço'\u001b[0m\u001b[0;34m,\u001b[0m \u001b[0;34m'Categoria'\u001b[0m\u001b[0;34m]\u001b[0m\u001b[0;34m)\u001b[0m\u001b[0;34m\u001b[0m\u001b[0;34m\u001b[0m\u001b[0m\n\u001b[0m\u001b[1;32m     25\u001b[0m \u001b[0mprodutos\u001b[0m\u001b[0;34m\u001b[0m\u001b[0;34m\u001b[0m\u001b[0m\n",
      "\u001b[0;31mNameError\u001b[0m: name 'pd' is not defined"
     ]
    }
   ],
   "source": [
    "# Importando as bibliotecas\n",
    "import pandas as pd\n",
    "import requests\n",
    "from bs4 import BeautifulSoup\n",
    "\n",
    "# Encontrar a URL\n",
    "url = 'https://www.kalunga.com.br/depto/gamers/13?menuID=109&menuCat=all'\n",
    "\n",
    "# Contruir um objeto soup a partir da URL\n",
    "html = requests.get(url).text\n",
    "soup = BeautifulSoup(html, 'html.parser')\n",
    "\n",
    "# Construindo o código\n",
    "catalogo = []\n",
    "for resultado in soup.find_all('h1', attrs={'class': 'text-left mt-2 text-dark'}):\n",
    "    bloco = resultado.parent.parent.parent.parent\n",
    "    \n",
    "    titulo = resultado.text\n",
    "    preco = bloco.find('span', attrs={'class': 'text-primary h6'}).text.split('à vista')[0].strip()\n",
    "    categoria = ' '.join(resultado.text.split(' ')[0:3])\n",
    "    \n",
    "    catalogo.append([titulo, preco, categoria])\n",
    "\n",
    "# Armazenando os dados\n",
    "produtos = pd.DataFrame(catalogo, columns=['Título', 'Preço', 'Categoria'])\n",
    "produtos"
   ]
  },
  {
   "cell_type": "code",
   "execution_count": null,
   "metadata": {},
   "outputs": [],
   "source": [
    "produtos['Preço'].sum()"
   ]
  },
  {
   "cell_type": "code",
   "execution_count": null,
   "metadata": {},
   "outputs": [],
   "source": [
    "produtos['Categoria'].value_counts()"
   ]
  },
  {
   "cell_type": "code",
   "execution_count": null,
   "metadata": {},
   "outputs": [],
   "source": [
    "precos = []\n",
    "for preco in produtos['Preço']:\n",
    "    print(float(preco.replace('R$', '')))"
   ]
  },
  {
   "cell_type": "code",
   "execution_count": null,
   "metadata": {},
   "outputs": [],
   "source": [
    "precos = []\n",
    "for preco in produtos['Preço']:\n",
    "    preco = preco.replace('R$', '')\n",
    "    preco = preco.replace('.', '')\n",
    "    preco = preco.replace(',', '.')\n",
    "    precos.append(float(preco))\n",
    "\n",
    "produtos['Preço'] = precos\n",
    "produtos['Preço'].sum()"
   ]
  },
  {
   "cell_type": "code",
   "execution_count": null,
   "metadata": {},
   "outputs": [],
   "source": [
    "categorias = []\n",
    "for categoria in produtos['Categoria']:\n",
    "    palavras = categoria.split('-')\n",
    "    categorias.append(palavras[0])\n",
    "\n",
    "produtos['Categoria'] = categorias\n",
    "produtos['Categoria'].value_counts()"
   ]
  },
  {
   "cell_type": "markdown",
   "metadata": {},
   "source": [
    "# Valores duplicados"
   ]
  },
  {
   "cell_type": "code",
   "execution_count": 44,
   "metadata": {},
   "outputs": [
    {
     "data": {
      "text/html": [
       "<div>\n",
       "<style scoped>\n",
       "    .dataframe tbody tr th:only-of-type {\n",
       "        vertical-align: middle;\n",
       "    }\n",
       "\n",
       "    .dataframe tbody tr th {\n",
       "        vertical-align: top;\n",
       "    }\n",
       "\n",
       "    .dataframe thead th {\n",
       "        text-align: right;\n",
       "    }\n",
       "</style>\n",
       "<table border=\"1\" class=\"dataframe\">\n",
       "  <thead>\n",
       "    <tr style=\"text-align: right;\">\n",
       "      <th></th>\n",
       "      <th>Título</th>\n",
       "      <th>URL</th>\n",
       "      <th>Descrição</th>\n",
       "    </tr>\n",
       "  </thead>\n",
       "  <tbody>\n",
       "    <tr>\n",
       "      <th>0</th>\n",
       "      <td>Introdução à Ciência de Dados 2.0 - Data Scien...</td>\n",
       "      <td>/url?q=https://www.datascienceacademy.com.br/c...</td>\n",
       "      <td>Ciência de Dados é a exploração e análise de t...</td>\n",
       "    </tr>\n",
       "    <tr>\n",
       "      <th>1</th>\n",
       "      <td>Como migrar para Ciência de Dados: dicas práti...</td>\n",
       "      <td>/url?q=https://medium.com/somos-tera/como-migr...</td>\n",
       "      <td>14 de fev. de 2020 · Buscando impulsionar sua ...</td>\n",
       "    </tr>\n",
       "    <tr>\n",
       "      <th>2</th>\n",
       "      <td>Como migrar para Ciência de Dados: dicas práti...</td>\n",
       "      <td>/url?q=https://medium.com/somos-tera/como-migr...</td>\n",
       "      <td>14 de fev. de 2020 · Buscando impulsionar sua ...</td>\n",
       "    </tr>\n",
       "    <tr>\n",
       "      <th>3</th>\n",
       "      <td>Ciência de dados – Wikipédia, a enciclopédia l...</td>\n",
       "      <td>/url?q=https://pt.wikipedia.org/wiki/Ci%25C3%2...</td>\n",
       "      <td>Ciência de dados (em inglês: data science) é u...</td>\n",
       "    </tr>\n",
       "    <tr>\n",
       "      <th>4</th>\n",
       "      <td>Ciência de Dados: O que é, conceito e definiçã...</td>\n",
       "      <td>/url?q=https://www.cetax.com.br/blog/data-scie...</td>\n",
       "      <td>A ciência de dados envolve diversas disciplina...</td>\n",
       "    </tr>\n",
       "    <tr>\n",
       "      <th>5</th>\n",
       "      <td>O que é Ciência de Dados? | Oracle Brasil</td>\n",
       "      <td>/url?q=https://www.oracle.com/br/data-science/...</td>\n",
       "      <td>A ciência de dados é um campo interdisciplinar...</td>\n",
       "    </tr>\n",
       "    <tr>\n",
       "      <th>6</th>\n",
       "      <td>Ciência e Dados — Data Science for Professionals</td>\n",
       "      <td>/url?q=https://www.cienciaedados.com/&amp;sa=U&amp;ved...</td>\n",
       "      <td>Este capítulo fornecerá uma visão geral das re...</td>\n",
       "    </tr>\n",
       "    <tr>\n",
       "      <th>7</th>\n",
       "      <td>Ciência e Dados — Data Science for Professionals</td>\n",
       "      <td>/url?q=https://www.cienciaedados.com/&amp;sa=U&amp;ved...</td>\n",
       "      <td>Este capítulo fornecerá uma visão geral das re...</td>\n",
       "    </tr>\n",
       "    <tr>\n",
       "      <th>8</th>\n",
       "      <td>Ciência de Dados ou Data Science: O que é, Apl...</td>\n",
       "      <td>/url?q=https://fia.com.br/blog/ciencia-de-dado...</td>\n",
       "      <td>26 de set. de 2019 · Práticas da ciência de da...</td>\n",
       "    </tr>\n",
       "    <tr>\n",
       "      <th>9</th>\n",
       "      <td>Descubra a nova graduação em Ciência de Dados ...</td>\n",
       "      <td>/url?q=https://guiadoestudante.abril.com.br/bl...</td>\n",
       "      <td>19 de jul. de 2018 · Curso inédito forma o pro...</td>\n",
       "    </tr>\n",
       "    <tr>\n",
       "      <th>10</th>\n",
       "      <td>Bacharelado em Ciência de Dados _ Univesp |</td>\n",
       "      <td>/url?q=https://univesp.br/cursos/bacharel-em-c...</td>\n",
       "      <td>Bacharelado em Ciência de Dados. Com duração d...</td>\n",
       "    </tr>\n",
       "    <tr>\n",
       "      <th>11</th>\n",
       "      <td>Bacharelado em Ciência de Dados _ Univesp |</td>\n",
       "      <td>/url?q=https://univesp.br/cursos/bacharel-em-c...</td>\n",
       "      <td>Bacharelado em Ciência de Dados. Com duração d...</td>\n",
       "    </tr>\n",
       "    <tr>\n",
       "      <th>12</th>\n",
       "      <td>O que é Ciência de Dados - Portal GSTI</td>\n",
       "      <td>/url?q=https://www.portalgsti.com.br/ciencia-d...</td>\n",
       "      <td>O que é Ciência de Dados (Data Science). Data ...</td>\n",
       "    </tr>\n",
       "    <tr>\n",
       "      <th>13</th>\n",
       "      <td>O que é Ciência de Dados - Portal GSTI</td>\n",
       "      <td>/url?q=https://www.portalgsti.com.br/ciencia-d...</td>\n",
       "      <td>O que é Ciência de Dados (Data Science). Data ...</td>\n",
       "    </tr>\n",
       "  </tbody>\n",
       "</table>\n",
       "</div>"
      ],
      "text/plain": [
       "                                               Título  \\\n",
       "0   Introdução à Ciência de Dados 2.0 - Data Scien...   \n",
       "1   Como migrar para Ciência de Dados: dicas práti...   \n",
       "2   Como migrar para Ciência de Dados: dicas práti...   \n",
       "3   Ciência de dados – Wikipédia, a enciclopédia l...   \n",
       "4   Ciência de Dados: O que é, conceito e definiçã...   \n",
       "5           O que é Ciência de Dados? | Oracle Brasil   \n",
       "6    Ciência e Dados — Data Science for Professionals   \n",
       "7    Ciência e Dados — Data Science for Professionals   \n",
       "8   Ciência de Dados ou Data Science: O que é, Apl...   \n",
       "9   Descubra a nova graduação em Ciência de Dados ...   \n",
       "10        Bacharelado em Ciência de Dados _ Univesp |   \n",
       "11        Bacharelado em Ciência de Dados _ Univesp |   \n",
       "12             O que é Ciência de Dados - Portal GSTI   \n",
       "13             O que é Ciência de Dados - Portal GSTI   \n",
       "\n",
       "                                                  URL  \\\n",
       "0   /url?q=https://www.datascienceacademy.com.br/c...   \n",
       "1   /url?q=https://medium.com/somos-tera/como-migr...   \n",
       "2   /url?q=https://medium.com/somos-tera/como-migr...   \n",
       "3   /url?q=https://pt.wikipedia.org/wiki/Ci%25C3%2...   \n",
       "4   /url?q=https://www.cetax.com.br/blog/data-scie...   \n",
       "5   /url?q=https://www.oracle.com/br/data-science/...   \n",
       "6   /url?q=https://www.cienciaedados.com/&sa=U&ved...   \n",
       "7   /url?q=https://www.cienciaedados.com/&sa=U&ved...   \n",
       "8   /url?q=https://fia.com.br/blog/ciencia-de-dado...   \n",
       "9   /url?q=https://guiadoestudante.abril.com.br/bl...   \n",
       "10  /url?q=https://univesp.br/cursos/bacharel-em-c...   \n",
       "11  /url?q=https://univesp.br/cursos/bacharel-em-c...   \n",
       "12  /url?q=https://www.portalgsti.com.br/ciencia-d...   \n",
       "13  /url?q=https://www.portalgsti.com.br/ciencia-d...   \n",
       "\n",
       "                                            Descrição  \n",
       "0   Ciência de Dados é a exploração e análise de t...  \n",
       "1   14 de fev. de 2020 · Buscando impulsionar sua ...  \n",
       "2   14 de fev. de 2020 · Buscando impulsionar sua ...  \n",
       "3   Ciência de dados (em inglês: data science) é u...  \n",
       "4   A ciência de dados envolve diversas disciplina...  \n",
       "5   A ciência de dados é um campo interdisciplinar...  \n",
       "6   Este capítulo fornecerá uma visão geral das re...  \n",
       "7   Este capítulo fornecerá uma visão geral das re...  \n",
       "8   26 de set. de 2019 · Práticas da ciência de da...  \n",
       "9   19 de jul. de 2018 · Curso inédito forma o pro...  \n",
       "10  Bacharelado em Ciência de Dados. Com duração d...  \n",
       "11  Bacharelado em Ciência de Dados. Com duração d...  \n",
       "12  O que é Ciência de Dados (Data Science). Data ...  \n",
       "13  O que é Ciência de Dados (Data Science). Data ...  "
      ]
     },
     "execution_count": 44,
     "metadata": {},
     "output_type": "execute_result"
    }
   ],
   "source": [
    "from random import choice\n",
    "\n",
    "import pandas as pd\n",
    "import requests\n",
    "from bs4 import BeautifulSoup\n",
    "\n",
    "url = 'https://www.google.com/search?q=ciencia+de+dados'\n",
    "\n",
    "html = requests.get(url).text\n",
    "soup = BeautifulSoup(html, 'html.parser')\n",
    "\n",
    "buscas = []\n",
    "for resultado in soup.find_all('div', attrs={'class': 'BNeawe vvjwJb AP7Wnd'}):\n",
    "    bloco = resultado.parent.parent.parent.parent\n",
    "    \n",
    "    titulo = resultado.text\n",
    "    url = bloco.a['href']\n",
    "    descricao = bloco.find('div', attrs={'class': 'BNeawe s3v9rd AP7Wnd'}).text\n",
    "    \n",
    "    buscas.append([titulo, url, descricao])\n",
    "    \n",
    "    duplicar = choice([False, True])\n",
    "    if duplicar:\n",
    "        buscas.append([titulo, url, descricao])\n",
    "\n",
    "\n",
    "df = pd.DataFrame(buscas, columns=['Título', 'URL', 'Descrição'])\n",
    "df"
   ]
  },
  {
   "cell_type": "code",
   "execution_count": 47,
   "metadata": {},
   "outputs": [
    {
     "data": {
      "text/html": [
       "<div>\n",
       "<style scoped>\n",
       "    .dataframe tbody tr th:only-of-type {\n",
       "        vertical-align: middle;\n",
       "    }\n",
       "\n",
       "    .dataframe tbody tr th {\n",
       "        vertical-align: top;\n",
       "    }\n",
       "\n",
       "    .dataframe thead th {\n",
       "        text-align: right;\n",
       "    }\n",
       "</style>\n",
       "<table border=\"1\" class=\"dataframe\">\n",
       "  <thead>\n",
       "    <tr style=\"text-align: right;\">\n",
       "      <th></th>\n",
       "      <th>Título</th>\n",
       "      <th>URL</th>\n",
       "      <th>Descrição</th>\n",
       "    </tr>\n",
       "  </thead>\n",
       "  <tbody>\n",
       "    <tr>\n",
       "      <th>0</th>\n",
       "      <td>Introdução à Ciência de Dados 2.0 - Data Scien...</td>\n",
       "      <td>/url?q=https://www.datascienceacademy.com.br/c...</td>\n",
       "      <td>Ciência de Dados é a exploração e análise de t...</td>\n",
       "    </tr>\n",
       "    <tr>\n",
       "      <th>1</th>\n",
       "      <td>Como migrar para Ciência de Dados: dicas práti...</td>\n",
       "      <td>/url?q=https://medium.com/somos-tera/como-migr...</td>\n",
       "      <td>14 de fev. de 2020 · Buscando impulsionar sua ...</td>\n",
       "    </tr>\n",
       "    <tr>\n",
       "      <th>2</th>\n",
       "      <td>Ciência de dados – Wikipédia, a enciclopédia l...</td>\n",
       "      <td>/url?q=https://pt.wikipedia.org/wiki/Ci%25C3%2...</td>\n",
       "      <td>Ciência de dados (em inglês: data science) é u...</td>\n",
       "    </tr>\n",
       "    <tr>\n",
       "      <th>3</th>\n",
       "      <td>Ciência de Dados: O que é, conceito e definiçã...</td>\n",
       "      <td>/url?q=https://www.cetax.com.br/blog/data-scie...</td>\n",
       "      <td>A ciência de dados envolve diversas disciplina...</td>\n",
       "    </tr>\n",
       "    <tr>\n",
       "      <th>4</th>\n",
       "      <td>O que é Ciência de Dados? | Oracle Brasil</td>\n",
       "      <td>/url?q=https://www.oracle.com/br/data-science/...</td>\n",
       "      <td>A ciência de dados é um campo interdisciplinar...</td>\n",
       "    </tr>\n",
       "    <tr>\n",
       "      <th>5</th>\n",
       "      <td>Ciência e Dados — Data Science for Professionals</td>\n",
       "      <td>/url?q=https://www.cienciaedados.com/&amp;sa=U&amp;ved...</td>\n",
       "      <td>Este capítulo fornecerá uma visão geral das re...</td>\n",
       "    </tr>\n",
       "    <tr>\n",
       "      <th>6</th>\n",
       "      <td>Ciência de Dados ou Data Science: O que é, Apl...</td>\n",
       "      <td>/url?q=https://fia.com.br/blog/ciencia-de-dado...</td>\n",
       "      <td>26 de set. de 2019 · Práticas da ciência de da...</td>\n",
       "    </tr>\n",
       "    <tr>\n",
       "      <th>7</th>\n",
       "      <td>Descubra a nova graduação em Ciência de Dados ...</td>\n",
       "      <td>/url?q=https://guiadoestudante.abril.com.br/bl...</td>\n",
       "      <td>19 de jul. de 2018 · Curso inédito forma o pro...</td>\n",
       "    </tr>\n",
       "    <tr>\n",
       "      <th>8</th>\n",
       "      <td>Bacharelado em Ciência de Dados _ Univesp |</td>\n",
       "      <td>/url?q=https://univesp.br/cursos/bacharel-em-c...</td>\n",
       "      <td>Bacharelado em Ciência de Dados. Com duração d...</td>\n",
       "    </tr>\n",
       "    <tr>\n",
       "      <th>9</th>\n",
       "      <td>O que é Ciência de Dados - Portal GSTI</td>\n",
       "      <td>/url?q=https://www.portalgsti.com.br/ciencia-d...</td>\n",
       "      <td>O que é Ciência de Dados (Data Science). Data ...</td>\n",
       "    </tr>\n",
       "  </tbody>\n",
       "</table>\n",
       "</div>"
      ],
      "text/plain": [
       "                                              Título  \\\n",
       "0  Introdução à Ciência de Dados 2.0 - Data Scien...   \n",
       "1  Como migrar para Ciência de Dados: dicas práti...   \n",
       "2  Ciência de dados – Wikipédia, a enciclopédia l...   \n",
       "3  Ciência de Dados: O que é, conceito e definiçã...   \n",
       "4          O que é Ciência de Dados? | Oracle Brasil   \n",
       "5   Ciência e Dados — Data Science for Professionals   \n",
       "6  Ciência de Dados ou Data Science: O que é, Apl...   \n",
       "7  Descubra a nova graduação em Ciência de Dados ...   \n",
       "8        Bacharelado em Ciência de Dados _ Univesp |   \n",
       "9             O que é Ciência de Dados - Portal GSTI   \n",
       "\n",
       "                                                 URL  \\\n",
       "0  /url?q=https://www.datascienceacademy.com.br/c...   \n",
       "1  /url?q=https://medium.com/somos-tera/como-migr...   \n",
       "2  /url?q=https://pt.wikipedia.org/wiki/Ci%25C3%2...   \n",
       "3  /url?q=https://www.cetax.com.br/blog/data-scie...   \n",
       "4  /url?q=https://www.oracle.com/br/data-science/...   \n",
       "5  /url?q=https://www.cienciaedados.com/&sa=U&ved...   \n",
       "6  /url?q=https://fia.com.br/blog/ciencia-de-dado...   \n",
       "7  /url?q=https://guiadoestudante.abril.com.br/bl...   \n",
       "8  /url?q=https://univesp.br/cursos/bacharel-em-c...   \n",
       "9  /url?q=https://www.portalgsti.com.br/ciencia-d...   \n",
       "\n",
       "                                           Descrição  \n",
       "0  Ciência de Dados é a exploração e análise de t...  \n",
       "1  14 de fev. de 2020 · Buscando impulsionar sua ...  \n",
       "2  Ciência de dados (em inglês: data science) é u...  \n",
       "3  A ciência de dados envolve diversas disciplina...  \n",
       "4  A ciência de dados é um campo interdisciplinar...  \n",
       "5  Este capítulo fornecerá uma visão geral das re...  \n",
       "6  26 de set. de 2019 · Práticas da ciência de da...  \n",
       "7  19 de jul. de 2018 · Curso inédito forma o pro...  \n",
       "8  Bacharelado em Ciência de Dados. Com duração d...  \n",
       "9  O que é Ciência de Dados (Data Science). Data ...  "
      ]
     },
     "execution_count": 47,
     "metadata": {},
     "output_type": "execute_result"
    }
   ],
   "source": [
    "df.drop_duplicates().reset_index(drop=True)"
   ]
  }
 ],
 "metadata": {
  "kernelspec": {
   "display_name": "Python 3",
   "language": "python",
   "name": "python3"
  },
  "language_info": {
   "codemirror_mode": {
    "name": "ipython",
    "version": 3
   },
   "file_extension": ".py",
   "mimetype": "text/x-python",
   "name": "python",
   "nbconvert_exporter": "python",
   "pygments_lexer": "ipython3",
   "version": "3.7.6"
  },
  "toc": {
   "base_numbering": 1,
   "nav_menu": {},
   "number_sections": true,
   "sideBar": true,
   "skip_h1_title": false,
   "title_cell": "Table of Contents",
   "title_sidebar": "Contents",
   "toc_cell": false,
   "toc_position": {},
   "toc_section_display": true,
   "toc_window_display": false
  }
 },
 "nbformat": 4,
 "nbformat_minor": 4
}
