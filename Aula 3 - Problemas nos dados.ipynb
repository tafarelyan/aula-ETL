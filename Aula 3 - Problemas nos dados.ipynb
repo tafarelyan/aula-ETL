{
 "cells": [
  {
   "cell_type": "markdown",
   "metadata": {},
   "source": [
    "# Revisão Pandas"
   ]
  },
  {
   "cell_type": "markdown",
   "metadata": {},
   "source": [
    "## Lendo uma base de dados"
   ]
  },
  {
   "cell_type": "code",
   "execution_count": 2,
   "metadata": {},
   "outputs": [
    {
     "data": {
      "text/html": [
       "<div>\n",
       "<style scoped>\n",
       "    .dataframe tbody tr th:only-of-type {\n",
       "        vertical-align: middle;\n",
       "    }\n",
       "\n",
       "    .dataframe tbody tr th {\n",
       "        vertical-align: top;\n",
       "    }\n",
       "\n",
       "    .dataframe thead th {\n",
       "        text-align: right;\n",
       "    }\n",
       "</style>\n",
       "<table border=\"1\" class=\"dataframe\">\n",
       "  <thead>\n",
       "    <tr style=\"text-align: right;\">\n",
       "      <th></th>\n",
       "      <th>Date</th>\n",
       "      <th>SB</th>\n",
       "      <th>Winner</th>\n",
       "      <th>Winner Pts</th>\n",
       "      <th>Loser</th>\n",
       "      <th>Loser Pts</th>\n",
       "      <th>MVP</th>\n",
       "      <th>Stadium</th>\n",
       "      <th>City</th>\n",
       "      <th>State</th>\n",
       "    </tr>\n",
       "  </thead>\n",
       "  <tbody>\n",
       "    <tr>\n",
       "      <th>0</th>\n",
       "      <td>Feb 2 2020</td>\n",
       "      <td>LIV (54)</td>\n",
       "      <td>Kansas City Chiefs</td>\n",
       "      <td>31</td>\n",
       "      <td>San Francisco 49ers</td>\n",
       "      <td>20</td>\n",
       "      <td>Patrick Mahomes</td>\n",
       "      <td>Hard Rock Stadium</td>\n",
       "      <td>Miami Gardens</td>\n",
       "      <td>Florida</td>\n",
       "    </tr>\n",
       "    <tr>\n",
       "      <th>1</th>\n",
       "      <td>Feb 3 2019</td>\n",
       "      <td>LIII (53)</td>\n",
       "      <td>New England Patriots</td>\n",
       "      <td>13</td>\n",
       "      <td>Los Angeles Rams</td>\n",
       "      <td>3</td>\n",
       "      <td>Julian Edelman</td>\n",
       "      <td>Mercedes-Benz Stadium</td>\n",
       "      <td>Atlanta</td>\n",
       "      <td>Georgia</td>\n",
       "    </tr>\n",
       "    <tr>\n",
       "      <th>2</th>\n",
       "      <td>Feb 4 2018</td>\n",
       "      <td>LII (52)</td>\n",
       "      <td>Philadelphia Eagles</td>\n",
       "      <td>41</td>\n",
       "      <td>New England Patriots</td>\n",
       "      <td>33</td>\n",
       "      <td>Nick Foles</td>\n",
       "      <td>U.S. Bank Stadium</td>\n",
       "      <td>Minneapolis</td>\n",
       "      <td>Minnesota</td>\n",
       "    </tr>\n",
       "    <tr>\n",
       "      <th>3</th>\n",
       "      <td>Feb 5 2017</td>\n",
       "      <td>LI (51)</td>\n",
       "      <td>New England Patriots</td>\n",
       "      <td>34</td>\n",
       "      <td>Atlanta Falcons</td>\n",
       "      <td>28</td>\n",
       "      <td>Tom Brady</td>\n",
       "      <td>NRG Stadium</td>\n",
       "      <td>Houston</td>\n",
       "      <td>Texas</td>\n",
       "    </tr>\n",
       "    <tr>\n",
       "      <th>4</th>\n",
       "      <td>Feb 7 2016</td>\n",
       "      <td>50</td>\n",
       "      <td>Denver Broncos</td>\n",
       "      <td>24</td>\n",
       "      <td>Carolina Panthers</td>\n",
       "      <td>10</td>\n",
       "      <td>Von Miller</td>\n",
       "      <td>Levi's Stadium</td>\n",
       "      <td>Santa Clara</td>\n",
       "      <td>California</td>\n",
       "    </tr>\n",
       "  </tbody>\n",
       "</table>\n",
       "</div>"
      ],
      "text/plain": [
       "         Date         SB                Winner  Winner Pts  \\\n",
       "0  Feb 2 2020   LIV (54)    Kansas City Chiefs          31   \n",
       "1  Feb 3 2019  LIII (53)  New England Patriots          13   \n",
       "2  Feb 4 2018   LII (52)   Philadelphia Eagles          41   \n",
       "3  Feb 5 2017    LI (51)  New England Patriots          34   \n",
       "4  Feb 7 2016         50        Denver Broncos          24   \n",
       "\n",
       "                  Loser  Loser Pts              MVP                Stadium  \\\n",
       "0   San Francisco 49ers         20  Patrick Mahomes      Hard Rock Stadium   \n",
       "1      Los Angeles Rams          3   Julian Edelman  Mercedes-Benz Stadium   \n",
       "2  New England Patriots         33       Nick Foles      U.S. Bank Stadium   \n",
       "3       Atlanta Falcons         28        Tom Brady            NRG Stadium   \n",
       "4     Carolina Panthers         10       Von Miller         Levi's Stadium   \n",
       "\n",
       "            City       State  \n",
       "0  Miami Gardens     Florida  \n",
       "1        Atlanta     Georgia  \n",
       "2    Minneapolis   Minnesota  \n",
       "3        Houston       Texas  \n",
       "4    Santa Clara  California  "
      ]
     },
     "execution_count": 2,
     "metadata": {},
     "output_type": "execute_result"
    }
   ],
   "source": [
    "import pandas as pd\n",
    "df = pd.read_csv('superbowl.csv', sep=',')\n",
    "df.head()"
   ]
  },
  {
   "cell_type": "markdown",
   "metadata": {},
   "source": [
    "## Entendendo as colunas"
   ]
  },
  {
   "cell_type": "code",
   "execution_count": null,
   "metadata": {},
   "outputs": [],
   "source": [
    "df.dtypes"
   ]
  },
  {
   "cell_type": "code",
   "execution_count": null,
   "metadata": {},
   "outputs": [],
   "source": [
    "df.shape"
   ]
  },
  {
   "cell_type": "markdown",
   "metadata": {},
   "source": [
    "## Manipulando as colunas"
   ]
  },
  {
   "cell_type": "code",
   "execution_count": null,
   "metadata": {},
   "outputs": [],
   "source": [
    "df['Date'].head()"
   ]
  },
  {
   "cell_type": "code",
   "execution_count": null,
   "metadata": {},
   "outputs": [],
   "source": [
    "df['Winner Pts'].head()"
   ]
  },
  {
   "cell_type": "code",
   "execution_count": null,
   "metadata": {},
   "outputs": [],
   "source": [
    "pontos = df['Winner Pts']\n",
    "print('Soma:', pontos.sum())\n",
    "print('Média:', pontos.mean())\n",
    "print('Contagem: ', pontos.count())"
   ]
  },
  {
   "cell_type": "code",
   "execution_count": null,
   "metadata": {},
   "outputs": [],
   "source": [
    "data = df['Date'][0]\n",
    "print(data)\n",
    "\n",
    "mes = data.split(' ')[0]\n",
    "print(mes)"
   ]
  },
  {
   "cell_type": "code",
   "execution_count": null,
   "metadata": {},
   "outputs": [],
   "source": [
    "meses = []\n",
    "for linha in df['Date']:\n",
    "    mes = linha.split(' ')[0]\n",
    "    meses.append(mes)\n",
    "\n",
    "meses = pd.Series(meses)\n",
    "meses.head()"
   ]
  },
  {
   "cell_type": "markdown",
   "metadata": {},
   "source": [
    "### Método Cabreira"
   ]
  },
  {
   "cell_type": "code",
   "execution_count": null,
   "metadata": {},
   "outputs": [],
   "source": [
    "def dividir_data(data_string):\n",
    "    return data_string.split(' ')[0]\n",
    "\n",
    "meses = df['Date'].apply(dividir_data)\n",
    "meses.head()"
   ]
  },
  {
   "cell_type": "markdown",
   "metadata": {},
   "source": [
    "### Método mais cabreira ainda"
   ]
  },
  {
   "cell_type": "code",
   "execution_count": null,
   "metadata": {},
   "outputs": [],
   "source": [
    "meses = df['Date'].apply(lambda x: x.split(' ')[0])\n",
    "meses.head()"
   ]
  },
  {
   "cell_type": "code",
   "execution_count": null,
   "metadata": {},
   "outputs": [],
   "source": [
    "df['Contagem'] = 1\n",
    "df.head()"
   ]
  },
  {
   "cell_type": "code",
   "execution_count": null,
   "metadata": {},
   "outputs": [],
   "source": [
    "df['Mes'] = meses\n",
    "df.head()"
   ]
  },
  {
   "cell_type": "markdown",
   "metadata": {},
   "source": [
    "## Ordenando os valores"
   ]
  },
  {
   "cell_type": "markdown",
   "metadata": {},
   "source": [
    "- Quais 10 edições do SuperBowl tiveram o maior número de pontos?"
   ]
  },
  {
   "cell_type": "code",
   "execution_count": null,
   "metadata": {
    "scrolled": false
   },
   "outputs": [],
   "source": [
    "ordenado = df.sort_values(by='Winner Pts', ascending=False)\n",
    "ordenado.head(10)"
   ]
  },
  {
   "cell_type": "markdown",
   "metadata": {},
   "source": [
    "- Ordene os nomes dos MVPs de todas as edições do superbowl em ordem alfabética (crescente)"
   ]
  },
  {
   "cell_type": "code",
   "execution_count": null,
   "metadata": {
    "scrolled": false
   },
   "outputs": [],
   "source": [
    "ordenado = df.sort_values(by='MVP', ascending=True)\n",
    "ordenado.head(10)"
   ]
  },
  {
   "cell_type": "markdown",
   "metadata": {},
   "source": [
    "## Operações de filtro"
   ]
  },
  {
   "cell_type": "code",
   "execution_count": null,
   "metadata": {},
   "outputs": [],
   "source": [
    "df.head()"
   ]
  },
  {
   "cell_type": "markdown",
   "metadata": {},
   "source": [
    "- Quantas superbowls foram realizadas na Orange Bowl (Florida)?"
   ]
  },
  {
   "cell_type": "code",
   "execution_count": null,
   "metadata": {},
   "outputs": [],
   "source": [
    "df[\n",
    "    (df['Stadium'] == 'Orange Bowl')\n",
    "]"
   ]
  },
  {
   "cell_type": "markdown",
   "metadata": {},
   "source": [
    "- Quantas superbowls foram realizadas na Florida?"
   ]
  },
  {
   "cell_type": "code",
   "execution_count": null,
   "metadata": {},
   "outputs": [],
   "source": [
    "df[\n",
    "    (df['State'] == 'Florida')\n",
    "]"
   ]
  },
  {
   "cell_type": "markdown",
   "metadata": {},
   "source": [
    "## Agrupamento"
   ]
  },
  {
   "cell_type": "markdown",
   "metadata": {},
   "source": [
    "- Quantas superbowls foram realizadas em cada estado?"
   ]
  },
  {
   "cell_type": "code",
   "execution_count": null,
   "metadata": {},
   "outputs": [],
   "source": [
    "agrupado = df.groupby(by='State').count()\n",
    "\n",
    "agrupado[['SB']]"
   ]
  },
  {
   "cell_type": "markdown",
   "metadata": {},
   "source": [
    "### Resetando o índice"
   ]
  },
  {
   "cell_type": "code",
   "execution_count": null,
   "metadata": {},
   "outputs": [],
   "source": [
    "df.groupby(by='State', as_index=False).count()"
   ]
  },
  {
   "cell_type": "code",
   "execution_count": null,
   "metadata": {},
   "outputs": [],
   "source": [
    "agrupado.reset_index()"
   ]
  },
  {
   "cell_type": "markdown",
   "metadata": {},
   "source": [
    "## Misturando tudo"
   ]
  },
  {
   "cell_type": "markdown",
   "metadata": {},
   "source": [
    "- Quais estados realizam o maior número de superbowls?"
   ]
  },
  {
   "cell_type": "code",
   "execution_count": null,
   "metadata": {},
   "outputs": [],
   "source": [
    "mistura = df.groupby(by='State', as_index=False).count()\n",
    "mistura = mistura.sort_values(by='SB', ascending=False)\n",
    "mistura[['State', 'SB']]"
   ]
  },
  {
   "cell_type": "markdown",
   "metadata": {},
   "source": [
    "- Quais cidades da Florida que mais realizaram as edições do superbowl?"
   ]
  },
  {
   "cell_type": "code",
   "execution_count": null,
   "metadata": {},
   "outputs": [],
   "source": [
    "mistura = df[(df['State'] == 'Florida')]\n",
    "mistura = mistura.groupby(by=['State', 'City'], as_index=False).count()\n",
    "mistura = mistura.sort_values(by='SB', ascending=False)\n",
    "mistura"
   ]
  },
  {
   "cell_type": "markdown",
   "metadata": {},
   "source": [
    "- Quem são os times que mais ganham o superbowl?"
   ]
  },
  {
   "cell_type": "code",
   "execution_count": null,
   "metadata": {},
   "outputs": [],
   "source": [
    "mistura = df.groupby(by='Winner', as_index=False).count()\n",
    "mistura = mistura.sort_values(by='SB', ascending=False)\n",
    "mistura[['Winner', 'SB']]"
   ]
  },
  {
   "cell_type": "markdown",
   "metadata": {},
   "source": [
    "## Exercícios "
   ]
  },
  {
   "cell_type": "code",
   "execution_count": 3,
   "metadata": {},
   "outputs": [
    {
     "data": {
      "text/html": [
       "<div>\n",
       "<style scoped>\n",
       "    .dataframe tbody tr th:only-of-type {\n",
       "        vertical-align: middle;\n",
       "    }\n",
       "\n",
       "    .dataframe tbody tr th {\n",
       "        vertical-align: top;\n",
       "    }\n",
       "\n",
       "    .dataframe thead th {\n",
       "        text-align: right;\n",
       "    }\n",
       "</style>\n",
       "<table border=\"1\" class=\"dataframe\">\n",
       "  <thead>\n",
       "    <tr style=\"text-align: right;\">\n",
       "      <th></th>\n",
       "      <th>Date</th>\n",
       "      <th>SB</th>\n",
       "      <th>Winner</th>\n",
       "      <th>Winner Pts</th>\n",
       "      <th>Loser</th>\n",
       "      <th>Loser Pts</th>\n",
       "      <th>MVP</th>\n",
       "      <th>Stadium</th>\n",
       "      <th>City</th>\n",
       "      <th>State</th>\n",
       "    </tr>\n",
       "  </thead>\n",
       "  <tbody>\n",
       "    <tr>\n",
       "      <th>0</th>\n",
       "      <td>Feb 2 2020</td>\n",
       "      <td>LIV (54)</td>\n",
       "      <td>Kansas City Chiefs</td>\n",
       "      <td>31</td>\n",
       "      <td>San Francisco 49ers</td>\n",
       "      <td>20</td>\n",
       "      <td>Patrick Mahomes</td>\n",
       "      <td>Hard Rock Stadium</td>\n",
       "      <td>Miami Gardens</td>\n",
       "      <td>Florida</td>\n",
       "    </tr>\n",
       "    <tr>\n",
       "      <th>1</th>\n",
       "      <td>Feb 3 2019</td>\n",
       "      <td>LIII (53)</td>\n",
       "      <td>New England Patriots</td>\n",
       "      <td>13</td>\n",
       "      <td>Los Angeles Rams</td>\n",
       "      <td>3</td>\n",
       "      <td>Julian Edelman</td>\n",
       "      <td>Mercedes-Benz Stadium</td>\n",
       "      <td>Atlanta</td>\n",
       "      <td>Georgia</td>\n",
       "    </tr>\n",
       "    <tr>\n",
       "      <th>2</th>\n",
       "      <td>Feb 4 2018</td>\n",
       "      <td>LII (52)</td>\n",
       "      <td>Philadelphia Eagles</td>\n",
       "      <td>41</td>\n",
       "      <td>New England Patriots</td>\n",
       "      <td>33</td>\n",
       "      <td>Nick Foles</td>\n",
       "      <td>U.S. Bank Stadium</td>\n",
       "      <td>Minneapolis</td>\n",
       "      <td>Minnesota</td>\n",
       "    </tr>\n",
       "    <tr>\n",
       "      <th>3</th>\n",
       "      <td>Feb 5 2017</td>\n",
       "      <td>LI (51)</td>\n",
       "      <td>New England Patriots</td>\n",
       "      <td>34</td>\n",
       "      <td>Atlanta Falcons</td>\n",
       "      <td>28</td>\n",
       "      <td>Tom Brady</td>\n",
       "      <td>NRG Stadium</td>\n",
       "      <td>Houston</td>\n",
       "      <td>Texas</td>\n",
       "    </tr>\n",
       "    <tr>\n",
       "      <th>4</th>\n",
       "      <td>Feb 7 2016</td>\n",
       "      <td>50</td>\n",
       "      <td>Denver Broncos</td>\n",
       "      <td>24</td>\n",
       "      <td>Carolina Panthers</td>\n",
       "      <td>10</td>\n",
       "      <td>Von Miller</td>\n",
       "      <td>Levi's Stadium</td>\n",
       "      <td>Santa Clara</td>\n",
       "      <td>California</td>\n",
       "    </tr>\n",
       "  </tbody>\n",
       "</table>\n",
       "</div>"
      ],
      "text/plain": [
       "         Date         SB                Winner  Winner Pts  \\\n",
       "0  Feb 2 2020   LIV (54)    Kansas City Chiefs          31   \n",
       "1  Feb 3 2019  LIII (53)  New England Patriots          13   \n",
       "2  Feb 4 2018   LII (52)   Philadelphia Eagles          41   \n",
       "3  Feb 5 2017    LI (51)  New England Patriots          34   \n",
       "4  Feb 7 2016         50        Denver Broncos          24   \n",
       "\n",
       "                  Loser  Loser Pts              MVP                Stadium  \\\n",
       "0   San Francisco 49ers         20  Patrick Mahomes      Hard Rock Stadium   \n",
       "1      Los Angeles Rams          3   Julian Edelman  Mercedes-Benz Stadium   \n",
       "2  New England Patriots         33       Nick Foles      U.S. Bank Stadium   \n",
       "3       Atlanta Falcons         28        Tom Brady            NRG Stadium   \n",
       "4     Carolina Panthers         10       Von Miller         Levi's Stadium   \n",
       "\n",
       "            City       State  \n",
       "0  Miami Gardens     Florida  \n",
       "1        Atlanta     Georgia  \n",
       "2    Minneapolis   Minnesota  \n",
       "3        Houston       Texas  \n",
       "4    Santa Clara  California  "
      ]
     },
     "execution_count": 3,
     "metadata": {},
     "output_type": "execute_result"
    }
   ],
   "source": [
    "df.head()"
   ]
  },
  {
   "cell_type": "code",
   "execution_count": 7,
   "metadata": {},
   "outputs": [
    {
     "data": {
      "text/plain": [
       "54"
      ]
     },
     "execution_count": 7,
     "metadata": {},
     "output_type": "execute_result"
    }
   ],
   "source": [
    "# Quantas superbowls existem?\n",
    "df['SB'].count()"
   ]
  },
  {
   "cell_type": "code",
   "execution_count": 12,
   "metadata": {},
   "outputs": [
    {
     "data": {
      "text/plain": [
       "12"
      ]
     },
     "execution_count": 12,
     "metadata": {},
     "output_type": "execute_result"
    }
   ],
   "source": [
    "# Quantas superbowls foram realizadas na California?\n",
    "california = df[\n",
    "    (df['State'] == 'California')\n",
    "]\n",
    "california['SB'].count()"
   ]
  },
  {
   "cell_type": "code",
   "execution_count": 15,
   "metadata": {},
   "outputs": [
    {
     "name": "stdout",
     "output_type": "stream",
     "text": [
      "28\n"
     ]
    }
   ],
   "source": [
    "# Quantas superbowls foram realizadas na California e na Flórida? Quantos cada um tem separadamente?\n",
    "total = df[\n",
    "    (df['State'] == 'California') | (df['State'] == 'Florida')\n",
    "]\n",
    "print(total['SB'].count())"
   ]
  },
  {
   "cell_type": "markdown",
   "metadata": {},
   "source": [
    "### Solução 1"
   ]
  },
  {
   "cell_type": "code",
   "execution_count": 17,
   "metadata": {},
   "outputs": [
    {
     "name": "stdout",
     "output_type": "stream",
     "text": [
      "California: 12\n",
      "Florida: 16\n"
     ]
    }
   ],
   "source": [
    "california = df[\n",
    "    (df['State'] == 'California')\n",
    "]\n",
    "print('California:', california['SB'].count())\n",
    "\n",
    "florida = df[\n",
    "    (df['State'] == 'Florida')\n",
    "]\n",
    "print('Florida:', florida['SB'].count())"
   ]
  },
  {
   "cell_type": "markdown",
   "metadata": {},
   "source": [
    "### Solução 2"
   ]
  },
  {
   "cell_type": "code",
   "execution_count": 22,
   "metadata": {},
   "outputs": [
    {
     "data": {
      "text/html": [
       "<div>\n",
       "<style scoped>\n",
       "    .dataframe tbody tr th:only-of-type {\n",
       "        vertical-align: middle;\n",
       "    }\n",
       "\n",
       "    .dataframe tbody tr th {\n",
       "        vertical-align: top;\n",
       "    }\n",
       "\n",
       "    .dataframe thead th {\n",
       "        text-align: right;\n",
       "    }\n",
       "</style>\n",
       "<table border=\"1\" class=\"dataframe\">\n",
       "  <thead>\n",
       "    <tr style=\"text-align: right;\">\n",
       "      <th></th>\n",
       "      <th>State</th>\n",
       "      <th>SB</th>\n",
       "    </tr>\n",
       "  </thead>\n",
       "  <tbody>\n",
       "    <tr>\n",
       "      <th>0</th>\n",
       "      <td>California</td>\n",
       "      <td>12</td>\n",
       "    </tr>\n",
       "    <tr>\n",
       "      <th>1</th>\n",
       "      <td>Florida</td>\n",
       "      <td>16</td>\n",
       "    </tr>\n",
       "  </tbody>\n",
       "</table>\n",
       "</div>"
      ],
      "text/plain": [
       "        State  SB\n",
       "0  California  12\n",
       "1     Florida  16"
      ]
     },
     "execution_count": 22,
     "metadata": {},
     "output_type": "execute_result"
    }
   ],
   "source": [
    "agrupado = total.groupby('State', as_index=False).count()\n",
    "agrupado[['State', 'SB']]"
   ]
  },
  {
   "cell_type": "code",
   "execution_count": 31,
   "metadata": {},
   "outputs": [
    {
     "data": {
      "text/html": [
       "<div>\n",
       "<style scoped>\n",
       "    .dataframe tbody tr th:only-of-type {\n",
       "        vertical-align: middle;\n",
       "    }\n",
       "\n",
       "    .dataframe tbody tr th {\n",
       "        vertical-align: top;\n",
       "    }\n",
       "\n",
       "    .dataframe thead th {\n",
       "        text-align: right;\n",
       "    }\n",
       "</style>\n",
       "<table border=\"1\" class=\"dataframe\">\n",
       "  <thead>\n",
       "    <tr style=\"text-align: right;\">\n",
       "      <th></th>\n",
       "      <th>State</th>\n",
       "      <th>Stadium</th>\n",
       "      <th>SB</th>\n",
       "    </tr>\n",
       "  </thead>\n",
       "  <tbody>\n",
       "    <tr>\n",
       "      <th>4</th>\n",
       "      <td>California</td>\n",
       "      <td>Rose Bowl</td>\n",
       "      <td>5</td>\n",
       "    </tr>\n",
       "    <tr>\n",
       "      <th>2</th>\n",
       "      <td>California</td>\n",
       "      <td>Memorial Coliseum</td>\n",
       "      <td>2</td>\n",
       "    </tr>\n",
       "    <tr>\n",
       "      <th>3</th>\n",
       "      <td>California</td>\n",
       "      <td>Qualcomm Stadium</td>\n",
       "      <td>2</td>\n",
       "    </tr>\n",
       "    <tr>\n",
       "      <th>0</th>\n",
       "      <td>California</td>\n",
       "      <td>Jack Murphy Stadium</td>\n",
       "      <td>1</td>\n",
       "    </tr>\n",
       "    <tr>\n",
       "      <th>1</th>\n",
       "      <td>California</td>\n",
       "      <td>Levi's Stadium</td>\n",
       "      <td>1</td>\n",
       "    </tr>\n",
       "    <tr>\n",
       "      <th>5</th>\n",
       "      <td>California</td>\n",
       "      <td>Stanford Stadium</td>\n",
       "      <td>1</td>\n",
       "    </tr>\n",
       "  </tbody>\n",
       "</table>\n",
       "</div>"
      ],
      "text/plain": [
       "        State              Stadium  SB\n",
       "4  California            Rose Bowl   5\n",
       "2  California    Memorial Coliseum   2\n",
       "3  California     Qualcomm Stadium   2\n",
       "0  California  Jack Murphy Stadium   1\n",
       "1  California       Levi's Stadium   1\n",
       "5  California     Stanford Stadium   1"
      ]
     },
     "execution_count": 31,
     "metadata": {},
     "output_type": "execute_result"
    }
   ],
   "source": [
    "# Quais são os estádios mais utilizados para Superbowl na California?\n",
    "california = df[\n",
    "    (df['State'] == 'California')\n",
    "]\n",
    "\n",
    "california = california.groupby(by=['State', 'Stadium'], as_index=False).count()\n",
    "california = california[['State', 'Stadium', 'SB']]\n",
    "california.sort_values('SB', ascending=False)"
   ]
  },
  {
   "cell_type": "code",
   "execution_count": 43,
   "metadata": {},
   "outputs": [
    {
     "name": "stdout",
     "output_type": "stream",
     "text": [
      "Fevereiro: 18\n"
     ]
    },
    {
     "data": {
      "text/html": [
       "<div>\n",
       "<style scoped>\n",
       "    .dataframe tbody tr th:only-of-type {\n",
       "        vertical-align: middle;\n",
       "    }\n",
       "\n",
       "    .dataframe tbody tr th {\n",
       "        vertical-align: top;\n",
       "    }\n",
       "\n",
       "    .dataframe thead th {\n",
       "        text-align: right;\n",
       "    }\n",
       "</style>\n",
       "<table border=\"1\" class=\"dataframe\">\n",
       "  <thead>\n",
       "    <tr style=\"text-align: right;\">\n",
       "      <th></th>\n",
       "      <th>Mes</th>\n",
       "      <th>Date</th>\n",
       "      <th>SB</th>\n",
       "      <th>Winner</th>\n",
       "      <th>Winner Pts</th>\n",
       "      <th>Loser</th>\n",
       "      <th>Loser Pts</th>\n",
       "      <th>MVP</th>\n",
       "      <th>Stadium</th>\n",
       "      <th>City</th>\n",
       "      <th>State</th>\n",
       "    </tr>\n",
       "  </thead>\n",
       "  <tbody>\n",
       "    <tr>\n",
       "      <th>0</th>\n",
       "      <td>Feb</td>\n",
       "      <td>18</td>\n",
       "      <td>18</td>\n",
       "      <td>18</td>\n",
       "      <td>18</td>\n",
       "      <td>18</td>\n",
       "      <td>18</td>\n",
       "      <td>18</td>\n",
       "      <td>18</td>\n",
       "      <td>18</td>\n",
       "      <td>18</td>\n",
       "    </tr>\n",
       "    <tr>\n",
       "      <th>1</th>\n",
       "      <td>Jan</td>\n",
       "      <td>36</td>\n",
       "      <td>36</td>\n",
       "      <td>36</td>\n",
       "      <td>36</td>\n",
       "      <td>36</td>\n",
       "      <td>36</td>\n",
       "      <td>36</td>\n",
       "      <td>36</td>\n",
       "      <td>36</td>\n",
       "      <td>36</td>\n",
       "    </tr>\n",
       "  </tbody>\n",
       "</table>\n",
       "</div>"
      ],
      "text/plain": [
       "   Mes  Date  SB  Winner  Winner Pts  Loser  Loser Pts  MVP  Stadium  City  \\\n",
       "0  Feb    18  18      18          18     18         18   18       18    18   \n",
       "1  Jan    36  36      36          36     36         36   36       36    36   \n",
       "\n",
       "   State  \n",
       "0     18  \n",
       "1     36  "
      ]
     },
     "execution_count": 43,
     "metadata": {},
     "output_type": "execute_result"
    }
   ],
   "source": [
    "# Quantas superbowls foram realizadas em Fevereiro?\n",
    "\n",
    "# Construindo a coluna \"Mes\"\n",
    "meses = []\n",
    "for data in df['Date']:\n",
    "    mes, dia, ano = data.split(' ')\n",
    "    meses.append(mes)\n",
    "\n",
    "df['Mes'] = meses\n",
    "\n",
    "fevereiro = df[\n",
    "    (df['Mes'] == 'Feb')\n",
    "]\n",
    "print('Fevereiro:', fevereiro['SB'].count())\n",
    "\n",
    "df.groupby(by='Mes', as_index=False).count()"
   ]
  },
  {
   "cell_type": "code",
   "execution_count": 46,
   "metadata": {},
   "outputs": [
    {
     "data": {
      "text/html": [
       "<div>\n",
       "<style scoped>\n",
       "    .dataframe tbody tr th:only-of-type {\n",
       "        vertical-align: middle;\n",
       "    }\n",
       "\n",
       "    .dataframe tbody tr th {\n",
       "        vertical-align: top;\n",
       "    }\n",
       "\n",
       "    .dataframe thead th {\n",
       "        text-align: right;\n",
       "    }\n",
       "</style>\n",
       "<table border=\"1\" class=\"dataframe\">\n",
       "  <thead>\n",
       "    <tr style=\"text-align: right;\">\n",
       "      <th></th>\n",
       "      <th>Date</th>\n",
       "      <th>SB</th>\n",
       "      <th>Winner</th>\n",
       "      <th>Winner Pts</th>\n",
       "      <th>Loser</th>\n",
       "      <th>Loser Pts</th>\n",
       "      <th>Stadium</th>\n",
       "      <th>City</th>\n",
       "      <th>State</th>\n",
       "      <th>Mes</th>\n",
       "    </tr>\n",
       "    <tr>\n",
       "      <th>MVP</th>\n",
       "      <th></th>\n",
       "      <th></th>\n",
       "      <th></th>\n",
       "      <th></th>\n",
       "      <th></th>\n",
       "      <th></th>\n",
       "      <th></th>\n",
       "      <th></th>\n",
       "      <th></th>\n",
       "      <th></th>\n",
       "    </tr>\n",
       "  </thead>\n",
       "  <tbody>\n",
       "    <tr>\n",
       "      <th>Tom Brady</th>\n",
       "      <td>4</td>\n",
       "      <td>4</td>\n",
       "      <td>4</td>\n",
       "      <td>4</td>\n",
       "      <td>4</td>\n",
       "      <td>4</td>\n",
       "      <td>4</td>\n",
       "      <td>4</td>\n",
       "      <td>4</td>\n",
       "      <td>4</td>\n",
       "    </tr>\n",
       "    <tr>\n",
       "      <th>Joe Montana+</th>\n",
       "      <td>3</td>\n",
       "      <td>3</td>\n",
       "      <td>3</td>\n",
       "      <td>3</td>\n",
       "      <td>3</td>\n",
       "      <td>3</td>\n",
       "      <td>3</td>\n",
       "      <td>3</td>\n",
       "      <td>3</td>\n",
       "      <td>3</td>\n",
       "    </tr>\n",
       "    <tr>\n",
       "      <th>Bart Starr+</th>\n",
       "      <td>2</td>\n",
       "      <td>2</td>\n",
       "      <td>2</td>\n",
       "      <td>2</td>\n",
       "      <td>2</td>\n",
       "      <td>2</td>\n",
       "      <td>2</td>\n",
       "      <td>2</td>\n",
       "      <td>2</td>\n",
       "      <td>2</td>\n",
       "    </tr>\n",
       "    <tr>\n",
       "      <th>Terry Bradshaw+</th>\n",
       "      <td>2</td>\n",
       "      <td>2</td>\n",
       "      <td>2</td>\n",
       "      <td>2</td>\n",
       "      <td>2</td>\n",
       "      <td>2</td>\n",
       "      <td>2</td>\n",
       "      <td>2</td>\n",
       "      <td>2</td>\n",
       "      <td>2</td>\n",
       "    </tr>\n",
       "    <tr>\n",
       "      <th>Eli Manning</th>\n",
       "      <td>2</td>\n",
       "      <td>2</td>\n",
       "      <td>2</td>\n",
       "      <td>2</td>\n",
       "      <td>2</td>\n",
       "      <td>2</td>\n",
       "      <td>2</td>\n",
       "      <td>2</td>\n",
       "      <td>2</td>\n",
       "      <td>2</td>\n",
       "    </tr>\n",
       "  </tbody>\n",
       "</table>\n",
       "</div>"
      ],
      "text/plain": [
       "                 Date  SB  Winner  Winner Pts  Loser  Loser Pts  Stadium  \\\n",
       "MVP                                                                        \n",
       "Tom Brady           4   4       4           4      4          4        4   \n",
       "Joe Montana+        3   3       3           3      3          3        3   \n",
       "Bart Starr+         2   2       2           2      2          2        2   \n",
       "Terry Bradshaw+     2   2       2           2      2          2        2   \n",
       "Eli Manning         2   2       2           2      2          2        2   \n",
       "\n",
       "                 City  State  Mes  \n",
       "MVP                                \n",
       "Tom Brady           4      4    4  \n",
       "Joe Montana+        3      3    3  \n",
       "Bart Starr+         2      2    2  \n",
       "Terry Bradshaw+     2      2    2  \n",
       "Eli Manning         2      2    2  "
      ]
     },
     "execution_count": 46,
     "metadata": {},
     "output_type": "execute_result"
    }
   ],
   "source": [
    "# Quem é o MVP de todo o superbowl e em quantas edições ele foi elegido MVP?\n",
    "agrupado = df.groupby(by='MVP').count()\n",
    "agrupado = agrupado.sort_values('SB', ascending=False)\n",
    "agrupado.head()"
   ]
  },
  {
   "cell_type": "markdown",
   "metadata": {},
   "source": [
    "# Problemas de Formatação"
   ]
  },
  {
   "cell_type": "markdown",
   "metadata": {},
   "source": [
    "## Exemplo - Conceito"
   ]
  },
  {
   "cell_type": "markdown",
   "metadata": {},
   "source": [
    "### Exemplo 1"
   ]
  },
  {
   "cell_type": "code",
   "execution_count": 51,
   "metadata": {},
   "outputs": [
    {
     "data": {
      "text/html": [
       "<div>\n",
       "<style scoped>\n",
       "    .dataframe tbody tr th:only-of-type {\n",
       "        vertical-align: middle;\n",
       "    }\n",
       "\n",
       "    .dataframe tbody tr th {\n",
       "        vertical-align: top;\n",
       "    }\n",
       "\n",
       "    .dataframe thead th {\n",
       "        text-align: right;\n",
       "    }\n",
       "</style>\n",
       "<table border=\"1\" class=\"dataframe\">\n",
       "  <thead>\n",
       "    <tr style=\"text-align: right;\">\n",
       "      <th></th>\n",
       "      <th>Anuncio</th>\n",
       "      <th>Impressao</th>\n",
       "      <th>Cliques</th>\n",
       "    </tr>\n",
       "  </thead>\n",
       "  <tbody>\n",
       "    <tr>\n",
       "      <th>0</th>\n",
       "      <td>A</td>\n",
       "      <td>100</td>\n",
       "      <td>40</td>\n",
       "    </tr>\n",
       "    <tr>\n",
       "      <th>1</th>\n",
       "      <td>B</td>\n",
       "      <td>1000</td>\n",
       "      <td>10</td>\n",
       "    </tr>\n",
       "  </tbody>\n",
       "</table>\n",
       "</div>"
      ],
      "text/plain": [
       "  Anuncio  Impressao  Cliques\n",
       "0       A        100       40\n",
       "1       B       1000       10"
      ]
     },
     "execution_count": 51,
     "metadata": {},
     "output_type": "execute_result"
    }
   ],
   "source": [
    "df = pd.DataFrame({\n",
    "    'Anuncio': ['A', 'B'],\n",
    "    'Impressao': [100, 1000],\n",
    "    'Cliques': [40, 10]\n",
    "})\n",
    "df.head()"
   ]
  },
  {
   "cell_type": "code",
   "execution_count": 52,
   "metadata": {},
   "outputs": [
    {
     "data": {
      "text/html": [
       "<div>\n",
       "<style scoped>\n",
       "    .dataframe tbody tr th:only-of-type {\n",
       "        vertical-align: middle;\n",
       "    }\n",
       "\n",
       "    .dataframe tbody tr th {\n",
       "        vertical-align: top;\n",
       "    }\n",
       "\n",
       "    .dataframe thead th {\n",
       "        text-align: right;\n",
       "    }\n",
       "</style>\n",
       "<table border=\"1\" class=\"dataframe\">\n",
       "  <thead>\n",
       "    <tr style=\"text-align: right;\">\n",
       "      <th></th>\n",
       "      <th>Anuncio</th>\n",
       "      <th>Impressao</th>\n",
       "      <th>Cliques</th>\n",
       "      <th>CTR %</th>\n",
       "    </tr>\n",
       "  </thead>\n",
       "  <tbody>\n",
       "    <tr>\n",
       "      <th>0</th>\n",
       "      <td>A</td>\n",
       "      <td>100</td>\n",
       "      <td>40</td>\n",
       "      <td>40.0</td>\n",
       "    </tr>\n",
       "    <tr>\n",
       "      <th>1</th>\n",
       "      <td>B</td>\n",
       "      <td>1000</td>\n",
       "      <td>10</td>\n",
       "      <td>1.0</td>\n",
       "    </tr>\n",
       "  </tbody>\n",
       "</table>\n",
       "</div>"
      ],
      "text/plain": [
       "  Anuncio  Impressao  Cliques  CTR %\n",
       "0       A        100       40   40.0\n",
       "1       B       1000       10    1.0"
      ]
     },
     "execution_count": 52,
     "metadata": {},
     "output_type": "execute_result"
    }
   ],
   "source": [
    "df['CTR %'] = df['Cliques'] / df['Impressao'] * 100\n",
    "\n",
    "df.head()"
   ]
  },
  {
   "cell_type": "markdown",
   "metadata": {},
   "source": [
    "### Exemplo 2"
   ]
  },
  {
   "cell_type": "code",
   "execution_count": 91,
   "metadata": {},
   "outputs": [
    {
     "data": {
      "text/html": [
       "<div>\n",
       "<style scoped>\n",
       "    .dataframe tbody tr th:only-of-type {\n",
       "        vertical-align: middle;\n",
       "    }\n",
       "\n",
       "    .dataframe tbody tr th {\n",
       "        vertical-align: top;\n",
       "    }\n",
       "\n",
       "    .dataframe thead th {\n",
       "        text-align: right;\n",
       "    }\n",
       "</style>\n",
       "<table border=\"1\" class=\"dataframe\">\n",
       "  <thead>\n",
       "    <tr style=\"text-align: right;\">\n",
       "      <th></th>\n",
       "      <th>Carro</th>\n",
       "      <th>Marca/Modelo</th>\n",
       "      <th>Distância (pol)</th>\n",
       "      <th>Tempo (s)</th>\n",
       "    </tr>\n",
       "  </thead>\n",
       "  <tbody>\n",
       "    <tr>\n",
       "      <th>0</th>\n",
       "      <td>A</td>\n",
       "      <td>Toyota-Etios</td>\n",
       "      <td>623.36</td>\n",
       "      <td>1000%</td>\n",
       "    </tr>\n",
       "    <tr>\n",
       "      <th>1</th>\n",
       "      <td>B</td>\n",
       "      <td>Honda*Civic</td>\n",
       "      <td>698.82</td>\n",
       "      <td>1500%</td>\n",
       "    </tr>\n",
       "    <tr>\n",
       "      <th>2</th>\n",
       "      <td>C</td>\n",
       "      <td>Chevrolet Onix</td>\n",
       "      <td>587.27</td>\n",
       "      <td>1100%</td>\n",
       "    </tr>\n",
       "    <tr>\n",
       "      <th>3</th>\n",
       "      <td>D</td>\n",
       "      <td>Hyundai/HB20</td>\n",
       "      <td>679.13</td>\n",
       "      <td>1400%</td>\n",
       "    </tr>\n",
       "    <tr>\n",
       "      <th>4</th>\n",
       "      <td>E</td>\n",
       "      <td>Chevrolet Prisma</td>\n",
       "      <td>656.17</td>\n",
       "      <td>1200%</td>\n",
       "    </tr>\n",
       "  </tbody>\n",
       "</table>\n",
       "</div>"
      ],
      "text/plain": [
       "  Carro      Marca/Modelo  Distância (pol) Tempo (s)\n",
       "0     A      Toyota-Etios           623.36     1000%\n",
       "1     B       Honda*Civic           698.82     1500%\n",
       "2     C    Chevrolet Onix           587.27     1100%\n",
       "3     D      Hyundai/HB20           679.13     1400%\n",
       "4     E  Chevrolet Prisma           656.17     1200%"
      ]
     },
     "execution_count": 91,
     "metadata": {},
     "output_type": "execute_result"
    }
   ],
   "source": [
    "import pandas as pd\n",
    "\n",
    "df = pd.DataFrame({\n",
    "    'Carro': ['A', 'B', 'C', 'D', 'E'],\n",
    "    'Marca/Modelo': ['Toyota-Etios', 'Honda*Civic', 'Chevrolet Onix', 'Hyundai/HB20', 'Chevrolet Prisma'],\n",
    "    'Distância (pol)': [623.36, 698.82, 587.27, 679.13, 656.17],\n",
    "    'Tempo (s)': ['1000%', '1500%', '1100%', '1400%', '1200%'],\n",
    "})\n",
    "\n",
    "df.head()"
   ]
  },
  {
   "cell_type": "markdown",
   "metadata": {},
   "source": [
    "#### Formato desejado: marca modelo"
   ]
  },
  {
   "cell_type": "code",
   "execution_count": 92,
   "metadata": {},
   "outputs": [
    {
     "data": {
      "text/html": [
       "<div>\n",
       "<style scoped>\n",
       "    .dataframe tbody tr th:only-of-type {\n",
       "        vertical-align: middle;\n",
       "    }\n",
       "\n",
       "    .dataframe tbody tr th {\n",
       "        vertical-align: top;\n",
       "    }\n",
       "\n",
       "    .dataframe thead th {\n",
       "        text-align: right;\n",
       "    }\n",
       "</style>\n",
       "<table border=\"1\" class=\"dataframe\">\n",
       "  <thead>\n",
       "    <tr style=\"text-align: right;\">\n",
       "      <th></th>\n",
       "      <th>Carro</th>\n",
       "      <th>Marca/Modelo</th>\n",
       "      <th>Distância (pol)</th>\n",
       "      <th>Tempo (s)</th>\n",
       "    </tr>\n",
       "  </thead>\n",
       "  <tbody>\n",
       "    <tr>\n",
       "      <th>0</th>\n",
       "      <td>A</td>\n",
       "      <td>Toyota Etios</td>\n",
       "      <td>623.36</td>\n",
       "      <td>1000%</td>\n",
       "    </tr>\n",
       "    <tr>\n",
       "      <th>1</th>\n",
       "      <td>B</td>\n",
       "      <td>Honda Civic</td>\n",
       "      <td>698.82</td>\n",
       "      <td>1500%</td>\n",
       "    </tr>\n",
       "    <tr>\n",
       "      <th>2</th>\n",
       "      <td>C</td>\n",
       "      <td>Chevrolet Onix</td>\n",
       "      <td>587.27</td>\n",
       "      <td>1100%</td>\n",
       "    </tr>\n",
       "    <tr>\n",
       "      <th>3</th>\n",
       "      <td>D</td>\n",
       "      <td>Hyundai HB20</td>\n",
       "      <td>679.13</td>\n",
       "      <td>1400%</td>\n",
       "    </tr>\n",
       "    <tr>\n",
       "      <th>4</th>\n",
       "      <td>E</td>\n",
       "      <td>Chevrolet Prisma</td>\n",
       "      <td>656.17</td>\n",
       "      <td>1200%</td>\n",
       "    </tr>\n",
       "  </tbody>\n",
       "</table>\n",
       "</div>"
      ],
      "text/plain": [
       "  Carro      Marca/Modelo  Distância (pol) Tempo (s)\n",
       "0     A      Toyota Etios           623.36     1000%\n",
       "1     B       Honda Civic           698.82     1500%\n",
       "2     C    Chevrolet Onix           587.27     1100%\n",
       "3     D      Hyundai HB20           679.13     1400%\n",
       "4     E  Chevrolet Prisma           656.17     1200%"
      ]
     },
     "execution_count": 92,
     "metadata": {},
     "output_type": "execute_result"
    }
   ],
   "source": [
    "marca_modelos = []\n",
    "for marca_modelo in df['Marca/Modelo']:\n",
    "    # Solucao 1\n",
    "    # marca_modelo = marca_modelo.replace('-', ' ')\n",
    "    # marca_modelo = marca_modelo.replace('*', ' ')\n",
    "    # marca_modelo = marca_modelo.replace('/', ' ')\n",
    "    \n",
    "    # Solucao 2\n",
    "    # marca_modelo = marca_modelo.replace('-', ' ')replace('*', ' ').replace('/', ' ')\n",
    "    \n",
    "    for caractere in ['-', '*', '/']:\n",
    "        marca_modelo = marca_modelo.replace(caractere, ' ')\n",
    "    \n",
    "    marca_modelos.append(marca_modelo)\n",
    "\n",
    "df['Marca/Modelo'] = marca_modelos\n",
    "df.head()"
   ]
  },
  {
   "cell_type": "markdown",
   "metadata": {},
   "source": [
    "#### Unidade desejada: pol -> metros"
   ]
  },
  {
   "cell_type": "code",
   "execution_count": 93,
   "metadata": {},
   "outputs": [
    {
     "data": {
      "text/html": [
       "<div>\n",
       "<style scoped>\n",
       "    .dataframe tbody tr th:only-of-type {\n",
       "        vertical-align: middle;\n",
       "    }\n",
       "\n",
       "    .dataframe tbody tr th {\n",
       "        vertical-align: top;\n",
       "    }\n",
       "\n",
       "    .dataframe thead th {\n",
       "        text-align: right;\n",
       "    }\n",
       "</style>\n",
       "<table border=\"1\" class=\"dataframe\">\n",
       "  <thead>\n",
       "    <tr style=\"text-align: right;\">\n",
       "      <th></th>\n",
       "      <th>Carro</th>\n",
       "      <th>Marca/Modelo</th>\n",
       "      <th>Distância (pol)</th>\n",
       "      <th>Tempo (s)</th>\n",
       "      <th>Distância (m)</th>\n",
       "    </tr>\n",
       "  </thead>\n",
       "  <tbody>\n",
       "    <tr>\n",
       "      <th>0</th>\n",
       "      <td>A</td>\n",
       "      <td>Toyota Etios</td>\n",
       "      <td>623.36</td>\n",
       "      <td>1000%</td>\n",
       "      <td>15.83</td>\n",
       "    </tr>\n",
       "    <tr>\n",
       "      <th>1</th>\n",
       "      <td>B</td>\n",
       "      <td>Honda Civic</td>\n",
       "      <td>698.82</td>\n",
       "      <td>1500%</td>\n",
       "      <td>17.75</td>\n",
       "    </tr>\n",
       "    <tr>\n",
       "      <th>2</th>\n",
       "      <td>C</td>\n",
       "      <td>Chevrolet Onix</td>\n",
       "      <td>587.27</td>\n",
       "      <td>1100%</td>\n",
       "      <td>14.92</td>\n",
       "    </tr>\n",
       "    <tr>\n",
       "      <th>3</th>\n",
       "      <td>D</td>\n",
       "      <td>Hyundai HB20</td>\n",
       "      <td>679.13</td>\n",
       "      <td>1400%</td>\n",
       "      <td>17.25</td>\n",
       "    </tr>\n",
       "    <tr>\n",
       "      <th>4</th>\n",
       "      <td>E</td>\n",
       "      <td>Chevrolet Prisma</td>\n",
       "      <td>656.17</td>\n",
       "      <td>1200%</td>\n",
       "      <td>16.67</td>\n",
       "    </tr>\n",
       "  </tbody>\n",
       "</table>\n",
       "</div>"
      ],
      "text/plain": [
       "  Carro      Marca/Modelo  Distância (pol) Tempo (s)  Distância (m)\n",
       "0     A      Toyota Etios           623.36     1000%          15.83\n",
       "1     B       Honda Civic           698.82     1500%          17.75\n",
       "2     C    Chevrolet Onix           587.27     1100%          14.92\n",
       "3     D      Hyundai HB20           679.13     1400%          17.25\n",
       "4     E  Chevrolet Prisma           656.17     1200%          16.67"
      ]
     },
     "execution_count": 93,
     "metadata": {},
     "output_type": "execute_result"
    }
   ],
   "source": [
    "# round(numero, numero-casas-decimais)\n",
    "df['Distância (m)'] = round(df['Distância (pol)'] * 0.0254, 2)\n",
    "df.head()"
   ]
  },
  {
   "cell_type": "markdown",
   "metadata": {},
   "source": [
    "#### Formato desejado: segundos como número inteiro"
   ]
  },
  {
   "cell_type": "code",
   "execution_count": 94,
   "metadata": {},
   "outputs": [
    {
     "data": {
      "text/html": [
       "<div>\n",
       "<style scoped>\n",
       "    .dataframe tbody tr th:only-of-type {\n",
       "        vertical-align: middle;\n",
       "    }\n",
       "\n",
       "    .dataframe tbody tr th {\n",
       "        vertical-align: top;\n",
       "    }\n",
       "\n",
       "    .dataframe thead th {\n",
       "        text-align: right;\n",
       "    }\n",
       "</style>\n",
       "<table border=\"1\" class=\"dataframe\">\n",
       "  <thead>\n",
       "    <tr style=\"text-align: right;\">\n",
       "      <th></th>\n",
       "      <th>Carro</th>\n",
       "      <th>Marca/Modelo</th>\n",
       "      <th>Distância (pol)</th>\n",
       "      <th>Tempo (s)</th>\n",
       "      <th>Distância (m)</th>\n",
       "    </tr>\n",
       "  </thead>\n",
       "  <tbody>\n",
       "    <tr>\n",
       "      <th>0</th>\n",
       "      <td>A</td>\n",
       "      <td>Toyota Etios</td>\n",
       "      <td>623.36</td>\n",
       "      <td>10</td>\n",
       "      <td>15.83</td>\n",
       "    </tr>\n",
       "    <tr>\n",
       "      <th>1</th>\n",
       "      <td>B</td>\n",
       "      <td>Honda Civic</td>\n",
       "      <td>698.82</td>\n",
       "      <td>15</td>\n",
       "      <td>17.75</td>\n",
       "    </tr>\n",
       "    <tr>\n",
       "      <th>2</th>\n",
       "      <td>C</td>\n",
       "      <td>Chevrolet Onix</td>\n",
       "      <td>587.27</td>\n",
       "      <td>11</td>\n",
       "      <td>14.92</td>\n",
       "    </tr>\n",
       "    <tr>\n",
       "      <th>3</th>\n",
       "      <td>D</td>\n",
       "      <td>Hyundai HB20</td>\n",
       "      <td>679.13</td>\n",
       "      <td>14</td>\n",
       "      <td>17.25</td>\n",
       "    </tr>\n",
       "    <tr>\n",
       "      <th>4</th>\n",
       "      <td>E</td>\n",
       "      <td>Chevrolet Prisma</td>\n",
       "      <td>656.17</td>\n",
       "      <td>12</td>\n",
       "      <td>16.67</td>\n",
       "    </tr>\n",
       "  </tbody>\n",
       "</table>\n",
       "</div>"
      ],
      "text/plain": [
       "  Carro      Marca/Modelo  Distância (pol)  Tempo (s)  Distância (m)\n",
       "0     A      Toyota Etios           623.36         10          15.83\n",
       "1     B       Honda Civic           698.82         15          17.75\n",
       "2     C    Chevrolet Onix           587.27         11          14.92\n",
       "3     D      Hyundai HB20           679.13         14          17.25\n",
       "4     E  Chevrolet Prisma           656.17         12          16.67"
      ]
     },
     "execution_count": 94,
     "metadata": {},
     "output_type": "execute_result"
    }
   ],
   "source": [
    "tempos = []\n",
    "for tempo in df['Tempo (s)']:\n",
    "    tempo = tempo.replace('%', '')\n",
    "    tempo = int(tempo)\n",
    "    tempo = int(tempo / 100)\n",
    "\n",
    "    tempos.append(tempo)\n",
    "\n",
    "df['Tempo (s)'] = tempos\n",
    "df.head()"
   ]
  },
  {
   "cell_type": "markdown",
   "metadata": {},
   "source": [
    "## Formato de data"
   ]
  },
  {
   "cell_type": "code",
   "execution_count": 95,
   "metadata": {},
   "outputs": [
    {
     "data": {
      "text/html": [
       "<div>\n",
       "<style scoped>\n",
       "    .dataframe tbody tr th:only-of-type {\n",
       "        vertical-align: middle;\n",
       "    }\n",
       "\n",
       "    .dataframe tbody tr th {\n",
       "        vertical-align: top;\n",
       "    }\n",
       "\n",
       "    .dataframe thead th {\n",
       "        text-align: right;\n",
       "    }\n",
       "</style>\n",
       "<table border=\"1\" class=\"dataframe\">\n",
       "  <thead>\n",
       "    <tr style=\"text-align: right;\">\n",
       "      <th></th>\n",
       "      <th>Date</th>\n",
       "      <th>Open</th>\n",
       "      <th>High</th>\n",
       "      <th>Low</th>\n",
       "      <th>Close</th>\n",
       "      <th>Adj Close</th>\n",
       "      <th>Volume</th>\n",
       "    </tr>\n",
       "  </thead>\n",
       "  <tbody>\n",
       "    <tr>\n",
       "      <th>0</th>\n",
       "      <td>2016-03-01</td>\n",
       "      <td>97.650002</td>\n",
       "      <td>100.769997</td>\n",
       "      <td>97.419998</td>\n",
       "      <td>100.529999</td>\n",
       "      <td>94.228645</td>\n",
       "      <td>50407100</td>\n",
       "    </tr>\n",
       "    <tr>\n",
       "      <th>1</th>\n",
       "      <td>2016-03-02</td>\n",
       "      <td>100.510002</td>\n",
       "      <td>100.889999</td>\n",
       "      <td>99.639999</td>\n",
       "      <td>100.750000</td>\n",
       "      <td>94.434853</td>\n",
       "      <td>33169600</td>\n",
       "    </tr>\n",
       "    <tr>\n",
       "      <th>2</th>\n",
       "      <td>2016-03-03</td>\n",
       "      <td>100.580002</td>\n",
       "      <td>101.709999</td>\n",
       "      <td>100.449997</td>\n",
       "      <td>101.500000</td>\n",
       "      <td>95.137848</td>\n",
       "      <td>36955700</td>\n",
       "    </tr>\n",
       "    <tr>\n",
       "      <th>3</th>\n",
       "      <td>2016-03-04</td>\n",
       "      <td>102.370003</td>\n",
       "      <td>103.750000</td>\n",
       "      <td>101.370003</td>\n",
       "      <td>103.010002</td>\n",
       "      <td>96.553185</td>\n",
       "      <td>46055100</td>\n",
       "    </tr>\n",
       "    <tr>\n",
       "      <th>4</th>\n",
       "      <td>2016-03-07</td>\n",
       "      <td>102.389999</td>\n",
       "      <td>102.830002</td>\n",
       "      <td>100.959999</td>\n",
       "      <td>101.870003</td>\n",
       "      <td>95.484657</td>\n",
       "      <td>35828900</td>\n",
       "    </tr>\n",
       "  </tbody>\n",
       "</table>\n",
       "</div>"
      ],
      "text/plain": [
       "         Date        Open        High         Low       Close  Adj Close  \\\n",
       "0  2016-03-01   97.650002  100.769997   97.419998  100.529999  94.228645   \n",
       "1  2016-03-02  100.510002  100.889999   99.639999  100.750000  94.434853   \n",
       "2  2016-03-03  100.580002  101.709999  100.449997  101.500000  95.137848   \n",
       "3  2016-03-04  102.370003  103.750000  101.370003  103.010002  96.553185   \n",
       "4  2016-03-07  102.389999  102.830002  100.959999  101.870003  95.484657   \n",
       "\n",
       "     Volume  \n",
       "0  50407100  \n",
       "1  33169600  \n",
       "2  36955700  \n",
       "3  46055100  \n",
       "4  35828900  "
      ]
     },
     "execution_count": 95,
     "metadata": {},
     "output_type": "execute_result"
    }
   ],
   "source": [
    "# Formato desejado: dd/mês/ano\n",
    "# Formato atual: ano-mês-dia\n",
    "\n",
    "import pandas as pd\n",
    "apple = pd.read_csv('AAPL.csv', sep=',')\n",
    "apple.head()"
   ]
  },
  {
   "cell_type": "code",
   "execution_count": 100,
   "metadata": {},
   "outputs": [
    {
     "name": "stdout",
     "output_type": "stream",
     "text": [
      "2016 03 01\n",
      "<class 'str'>\n"
     ]
    }
   ],
   "source": [
    "for data in apple['Date']:\n",
    "    ano, mes, dia = data.split('-')\n",
    "    print(ano, mes, dia)\n",
    "    print(type(ano))\n",
    "    break"
   ]
  },
  {
   "cell_type": "code",
   "execution_count": 101,
   "metadata": {},
   "outputs": [
    {
     "data": {
      "text/plain": [
       "'01/03/2016'"
      ]
     },
     "execution_count": 101,
     "metadata": {},
     "output_type": "execute_result"
    }
   ],
   "source": [
    "novas_datas = []\n",
    "for data in apple['Date']:\n",
    "    ano, mes, dia = data.split('-')\n",
    "    novas_datas.append(dia + '/' + mes + '/' + ano)\n",
    "\n",
    "novas_datas[0]"
   ]
  },
  {
   "cell_type": "code",
   "execution_count": 102,
   "metadata": {},
   "outputs": [
    {
     "data": {
      "text/html": [
       "<div>\n",
       "<style scoped>\n",
       "    .dataframe tbody tr th:only-of-type {\n",
       "        vertical-align: middle;\n",
       "    }\n",
       "\n",
       "    .dataframe tbody tr th {\n",
       "        vertical-align: top;\n",
       "    }\n",
       "\n",
       "    .dataframe thead th {\n",
       "        text-align: right;\n",
       "    }\n",
       "</style>\n",
       "<table border=\"1\" class=\"dataframe\">\n",
       "  <thead>\n",
       "    <tr style=\"text-align: right;\">\n",
       "      <th></th>\n",
       "      <th>Date</th>\n",
       "      <th>Open</th>\n",
       "      <th>High</th>\n",
       "      <th>Low</th>\n",
       "      <th>Close</th>\n",
       "      <th>Adj Close</th>\n",
       "      <th>Volume</th>\n",
       "    </tr>\n",
       "  </thead>\n",
       "  <tbody>\n",
       "    <tr>\n",
       "      <th>0</th>\n",
       "      <td>01/03/2016</td>\n",
       "      <td>97.650002</td>\n",
       "      <td>100.769997</td>\n",
       "      <td>97.419998</td>\n",
       "      <td>100.529999</td>\n",
       "      <td>94.228645</td>\n",
       "      <td>50407100</td>\n",
       "    </tr>\n",
       "    <tr>\n",
       "      <th>1</th>\n",
       "      <td>02/03/2016</td>\n",
       "      <td>100.510002</td>\n",
       "      <td>100.889999</td>\n",
       "      <td>99.639999</td>\n",
       "      <td>100.750000</td>\n",
       "      <td>94.434853</td>\n",
       "      <td>33169600</td>\n",
       "    </tr>\n",
       "    <tr>\n",
       "      <th>2</th>\n",
       "      <td>03/03/2016</td>\n",
       "      <td>100.580002</td>\n",
       "      <td>101.709999</td>\n",
       "      <td>100.449997</td>\n",
       "      <td>101.500000</td>\n",
       "      <td>95.137848</td>\n",
       "      <td>36955700</td>\n",
       "    </tr>\n",
       "    <tr>\n",
       "      <th>3</th>\n",
       "      <td>04/03/2016</td>\n",
       "      <td>102.370003</td>\n",
       "      <td>103.750000</td>\n",
       "      <td>101.370003</td>\n",
       "      <td>103.010002</td>\n",
       "      <td>96.553185</td>\n",
       "      <td>46055100</td>\n",
       "    </tr>\n",
       "    <tr>\n",
       "      <th>4</th>\n",
       "      <td>07/03/2016</td>\n",
       "      <td>102.389999</td>\n",
       "      <td>102.830002</td>\n",
       "      <td>100.959999</td>\n",
       "      <td>101.870003</td>\n",
       "      <td>95.484657</td>\n",
       "      <td>35828900</td>\n",
       "    </tr>\n",
       "  </tbody>\n",
       "</table>\n",
       "</div>"
      ],
      "text/plain": [
       "         Date        Open        High         Low       Close  Adj Close  \\\n",
       "0  01/03/2016   97.650002  100.769997   97.419998  100.529999  94.228645   \n",
       "1  02/03/2016  100.510002  100.889999   99.639999  100.750000  94.434853   \n",
       "2  03/03/2016  100.580002  101.709999  100.449997  101.500000  95.137848   \n",
       "3  04/03/2016  102.370003  103.750000  101.370003  103.010002  96.553185   \n",
       "4  07/03/2016  102.389999  102.830002  100.959999  101.870003  95.484657   \n",
       "\n",
       "     Volume  \n",
       "0  50407100  \n",
       "1  33169600  \n",
       "2  36955700  \n",
       "3  46055100  \n",
       "4  35828900  "
      ]
     },
     "execution_count": 102,
     "metadata": {},
     "output_type": "execute_result"
    }
   ],
   "source": [
    "apple['Date'] = novas_datas\n",
    "apple.head()"
   ]
  },
  {
   "cell_type": "markdown",
   "metadata": {},
   "source": [
    "## Produtos e-commerce"
   ]
  },
  {
   "cell_type": "code",
   "execution_count": 125,
   "metadata": {},
   "outputs": [
    {
     "data": {
      "text/html": [
       "<div>\n",
       "<style scoped>\n",
       "    .dataframe tbody tr th:only-of-type {\n",
       "        vertical-align: middle;\n",
       "    }\n",
       "\n",
       "    .dataframe tbody tr th {\n",
       "        vertical-align: top;\n",
       "    }\n",
       "\n",
       "    .dataframe thead th {\n",
       "        text-align: right;\n",
       "    }\n",
       "</style>\n",
       "<table border=\"1\" class=\"dataframe\">\n",
       "  <thead>\n",
       "    <tr style=\"text-align: right;\">\n",
       "      <th></th>\n",
       "      <th>Título</th>\n",
       "      <th>Preço</th>\n",
       "      <th>Categoria</th>\n",
       "    </tr>\n",
       "  </thead>\n",
       "  <tbody>\n",
       "    <tr>\n",
       "      <th>0</th>\n",
       "      <td>Monitor LED 29\" IPS ultrawide 1ms 75Hz Pro Gam...</td>\n",
       "      <td>R$ 1.405,53</td>\n",
       "      <td>Monitor LED 29\"</td>\n",
       "    </tr>\n",
       "    <tr>\n",
       "      <th>1</th>\n",
       "      <td>Cadeira Gamer DXRacer Nex preta/azul OK134/NB ...</td>\n",
       "      <td>R$ 863,10</td>\n",
       "      <td>Cadeira Gamer DXRacer</td>\n",
       "    </tr>\n",
       "    <tr>\n",
       "      <th>2</th>\n",
       "      <td>Cadeira Gamer DXRacer Nex preta/vermelho OK134...</td>\n",
       "      <td>R$ 989,10</td>\n",
       "      <td>Cadeira Gamer DXRacer</td>\n",
       "    </tr>\n",
       "    <tr>\n",
       "      <th>3</th>\n",
       "      <td>Cadeira Gamer DXRacer Nex preta/verde OK134/NE...</td>\n",
       "      <td>R$ 989,10</td>\n",
       "      <td>Cadeira Gamer DXRacer</td>\n",
       "    </tr>\n",
       "    <tr>\n",
       "      <th>4</th>\n",
       "      <td>Headset Gamer P2 HyperX Cloud II 7.1 preto/ver...</td>\n",
       "      <td>R$ 536,66</td>\n",
       "      <td>Headset Gamer P2</td>\n",
       "    </tr>\n",
       "    <tr>\n",
       "      <th>5</th>\n",
       "      <td>Cadeira Gamer Cloud preta/vermelha/branca 1640...</td>\n",
       "      <td>R$ 602,10</td>\n",
       "      <td>Cadeira Gamer Cloud</td>\n",
       "    </tr>\n",
       "    <tr>\n",
       "      <th>6</th>\n",
       "      <td>Cadeira Gamer Cloud preta/azul/branca 17434 Li...</td>\n",
       "      <td>R$ 602,10</td>\n",
       "      <td>Cadeira Gamer Cloud</td>\n",
       "    </tr>\n",
       "    <tr>\n",
       "      <th>7</th>\n",
       "      <td>Headset Gamer P2 HyperX Cloud Stinger Core Hyp...</td>\n",
       "      <td>R$ 255,55</td>\n",
       "      <td>Headset Gamer P2</td>\n",
       "    </tr>\n",
       "    <tr>\n",
       "      <th>8</th>\n",
       "      <td>Headset Gamer P2 HyperX Cloud Stinger HX-HSCSB...</td>\n",
       "      <td>R$ 331,55</td>\n",
       "      <td>Headset Gamer P2</td>\n",
       "    </tr>\n",
       "    <tr>\n",
       "      <th>9</th>\n",
       "      <td>Console Playstation 4 Slim 1TB Hits Bundle FIF...</td>\n",
       "      <td>R$ 2.591,04</td>\n",
       "      <td>Console Playstation 4</td>\n",
       "    </tr>\n",
       "    <tr>\n",
       "      <th>10</th>\n",
       "      <td>Headset Gamer P2/USB Pro H2 preto 64390 Fortre...</td>\n",
       "      <td>R$ 123,90</td>\n",
       "      <td>Headset Gamer P2/USB</td>\n",
       "    </tr>\n",
       "    <tr>\n",
       "      <th>11</th>\n",
       "      <td>Teclado USB Gamer HyperX Alloy Core RGB ABNT2 ...</td>\n",
       "      <td>R$ 313,41</td>\n",
       "      <td>Teclado USB Gamer</td>\n",
       "    </tr>\n",
       "    <tr>\n",
       "      <th>12</th>\n",
       "      <td>Headset Gamer P2 HyperX Cloud silver HX-HSCLSR...</td>\n",
       "      <td>R$ 508,16</td>\n",
       "      <td>Headset Gamer P2</td>\n",
       "    </tr>\n",
       "    <tr>\n",
       "      <th>13</th>\n",
       "      <td>Mouse Pad Gamer 42x90cm HyperX Fury S Pro HXMP...</td>\n",
       "      <td>R$ 149,06</td>\n",
       "      <td>Mouse Pad Gamer</td>\n",
       "    </tr>\n",
       "    <tr>\n",
       "      <th>14</th>\n",
       "      <td>Mouse Gamer usb 3200 Dpi Raptor preto/verde 60...</td>\n",
       "      <td>R$ 43,40</td>\n",
       "      <td>Mouse Gamer usb</td>\n",
       "    </tr>\n",
       "    <tr>\n",
       "      <th>15</th>\n",
       "      <td>Mouse Gamer usb 8000 Dpi para MMO Prodigy G203...</td>\n",
       "      <td>R$ 189,91</td>\n",
       "      <td>Mouse Gamer usb</td>\n",
       "    </tr>\n",
       "    <tr>\n",
       "      <th>16</th>\n",
       "      <td>Mouse Gamer usb 12000 Dpi LED RGB G PRO Logite...</td>\n",
       "      <td>R$ 284,91</td>\n",
       "      <td>Mouse Gamer usb</td>\n",
       "    </tr>\n",
       "    <tr>\n",
       "      <th>17</th>\n",
       "      <td>Headset Gamer P2/USB Surround 7.1 Black G433 L...</td>\n",
       "      <td>R$ 569,05</td>\n",
       "      <td>Headset Gamer P2/USB</td>\n",
       "    </tr>\n",
       "    <tr>\n",
       "      <th>18</th>\n",
       "      <td>Jogo PES 2020 - eFootball Pro Evolution Soccer...</td>\n",
       "      <td>R$ 119,91</td>\n",
       "      <td>Jogo PES 2020</td>\n",
       "    </tr>\n",
       "    <tr>\n",
       "      <th>19</th>\n",
       "      <td>Jogo Days Gone PS4 Sony  PT 1 UN</td>\n",
       "      <td>R$ 152,10</td>\n",
       "      <td>Jogo Days Gone</td>\n",
       "    </tr>\n",
       "    <tr>\n",
       "      <th>20</th>\n",
       "      <td>Jogo The Last of Us Playstation 4 / PS4 - Play...</td>\n",
       "      <td>R$ 71,10</td>\n",
       "      <td>Jogo The Last</td>\n",
       "    </tr>\n",
       "    <tr>\n",
       "      <th>21</th>\n",
       "      <td>Computador Gamer Ultra, Processador i5 de 3.0g...</td>\n",
       "      <td>R$ 6.209,10</td>\n",
       "      <td>Computador Gamer Ultra,</td>\n",
       "    </tr>\n",
       "    <tr>\n",
       "      <th>22</th>\n",
       "      <td>Cadeira Gamer DXRacer Nex preta OK134/N DXRace...</td>\n",
       "      <td>R$ 989,10</td>\n",
       "      <td>Cadeira Gamer DXRacer</td>\n",
       "    </tr>\n",
       "    <tr>\n",
       "      <th>23</th>\n",
       "      <td>Cadeira Gamer DXRacer Nex preta/branco OK134/N...</td>\n",
       "      <td>R$ 989,10</td>\n",
       "      <td>Cadeira Gamer DXRacer</td>\n",
       "    </tr>\n",
       "  </tbody>\n",
       "</table>\n",
       "</div>"
      ],
      "text/plain": [
       "                                               Título        Preço  \\\n",
       "0   Monitor LED 29\" IPS ultrawide 1ms 75Hz Pro Gam...  R$ 1.405,53   \n",
       "1   Cadeira Gamer DXRacer Nex preta/azul OK134/NB ...    R$ 863,10   \n",
       "2   Cadeira Gamer DXRacer Nex preta/vermelho OK134...    R$ 989,10   \n",
       "3   Cadeira Gamer DXRacer Nex preta/verde OK134/NE...    R$ 989,10   \n",
       "4   Headset Gamer P2 HyperX Cloud II 7.1 preto/ver...    R$ 536,66   \n",
       "5   Cadeira Gamer Cloud preta/vermelha/branca 1640...    R$ 602,10   \n",
       "6   Cadeira Gamer Cloud preta/azul/branca 17434 Li...    R$ 602,10   \n",
       "7   Headset Gamer P2 HyperX Cloud Stinger Core Hyp...    R$ 255,55   \n",
       "8   Headset Gamer P2 HyperX Cloud Stinger HX-HSCSB...    R$ 331,55   \n",
       "9   Console Playstation 4 Slim 1TB Hits Bundle FIF...  R$ 2.591,04   \n",
       "10  Headset Gamer P2/USB Pro H2 preto 64390 Fortre...    R$ 123,90   \n",
       "11  Teclado USB Gamer HyperX Alloy Core RGB ABNT2 ...    R$ 313,41   \n",
       "12  Headset Gamer P2 HyperX Cloud silver HX-HSCLSR...    R$ 508,16   \n",
       "13  Mouse Pad Gamer 42x90cm HyperX Fury S Pro HXMP...    R$ 149,06   \n",
       "14  Mouse Gamer usb 3200 Dpi Raptor preto/verde 60...     R$ 43,40   \n",
       "15  Mouse Gamer usb 8000 Dpi para MMO Prodigy G203...    R$ 189,91   \n",
       "16  Mouse Gamer usb 12000 Dpi LED RGB G PRO Logite...    R$ 284,91   \n",
       "17  Headset Gamer P2/USB Surround 7.1 Black G433 L...    R$ 569,05   \n",
       "18  Jogo PES 2020 - eFootball Pro Evolution Soccer...    R$ 119,91   \n",
       "19                   Jogo Days Gone PS4 Sony  PT 1 UN    R$ 152,10   \n",
       "20  Jogo The Last of Us Playstation 4 / PS4 - Play...     R$ 71,10   \n",
       "21  Computador Gamer Ultra, Processador i5 de 3.0g...  R$ 6.209,10   \n",
       "22  Cadeira Gamer DXRacer Nex preta OK134/N DXRace...    R$ 989,10   \n",
       "23  Cadeira Gamer DXRacer Nex preta/branco OK134/N...    R$ 989,10   \n",
       "\n",
       "                  Categoria  \n",
       "0           Monitor LED 29\"  \n",
       "1     Cadeira Gamer DXRacer  \n",
       "2     Cadeira Gamer DXRacer  \n",
       "3     Cadeira Gamer DXRacer  \n",
       "4          Headset Gamer P2  \n",
       "5       Cadeira Gamer Cloud  \n",
       "6       Cadeira Gamer Cloud  \n",
       "7          Headset Gamer P2  \n",
       "8          Headset Gamer P2  \n",
       "9     Console Playstation 4  \n",
       "10     Headset Gamer P2/USB  \n",
       "11        Teclado USB Gamer  \n",
       "12         Headset Gamer P2  \n",
       "13          Mouse Pad Gamer  \n",
       "14          Mouse Gamer usb  \n",
       "15          Mouse Gamer usb  \n",
       "16          Mouse Gamer usb  \n",
       "17     Headset Gamer P2/USB  \n",
       "18            Jogo PES 2020  \n",
       "19           Jogo Days Gone  \n",
       "20            Jogo The Last  \n",
       "21  Computador Gamer Ultra,  \n",
       "22    Cadeira Gamer DXRacer  \n",
       "23    Cadeira Gamer DXRacer  "
      ]
     },
     "execution_count": 125,
     "metadata": {},
     "output_type": "execute_result"
    }
   ],
   "source": [
    "# Importando as bibliotecas\n",
    "import pandas as pd\n",
    "import requests\n",
    "from bs4 import BeautifulSoup\n",
    "\n",
    "# Encontrar a URL\n",
    "url = 'https://www.kalunga.com.br/depto/gamers/13?menuID=109&menuCat=all'\n",
    "\n",
    "# Contruir um objeto soup a partir da URL\n",
    "html = requests.get(url).text\n",
    "soup = BeautifulSoup(html, 'html.parser')\n",
    "\n",
    "# Construindo o código\n",
    "catalogo = []\n",
    "for resultado in soup.find_all('h1', attrs={'class': 'text-left mt-2 text-dark'}):\n",
    "    bloco = resultado.parent.parent.parent.parent\n",
    "    \n",
    "    titulo = resultado.text\n",
    "    preco = bloco.find('span', attrs={'class': 'text-primary h6'}).text.split('à vista')[0].strip()\n",
    "    categoria = ' '.join(resultado.text.split(' ')[0:3])\n",
    "    \n",
    "    catalogo.append([titulo, preco, categoria])\n",
    "\n",
    "# Armazenando os dados\n",
    "produtos = pd.DataFrame(catalogo, columns=['Título', 'Preço', 'Categoria'])\n",
    "produtos"
   ]
  },
  {
   "cell_type": "code",
   "execution_count": 126,
   "metadata": {},
   "outputs": [
    {
     "data": {
      "text/plain": [
       "'R$ 1.405,53R$ 863,10R$ 989,10R$ 989,10R$ 536,66R$ 602,10R$ 602,10R$ 255,55R$ 331,55R$ 2.591,04R$ 123,90R$ 313,41R$ 508,16R$ 149,06R$ 43,40R$ 189,91R$ 284,91R$ 569,05R$ 119,91R$ 152,10R$ 71,10R$ 6.209,10R$ 989,10R$ 989,10'"
      ]
     },
     "execution_count": 126,
     "metadata": {},
     "output_type": "execute_result"
    }
   ],
   "source": [
    "produtos['Preço'].sum()"
   ]
  },
  {
   "cell_type": "code",
   "execution_count": 127,
   "metadata": {},
   "outputs": [
    {
     "data": {
      "text/plain": [
       "Cadeira Gamer DXRacer      5\n",
       "Headset Gamer P2           4\n",
       "Mouse Gamer usb            3\n",
       "Cadeira Gamer Cloud        2\n",
       "Headset Gamer P2/USB       2\n",
       "Console Playstation 4      1\n",
       "Jogo The Last              1\n",
       "Computador Gamer Ultra,    1\n",
       "Jogo Days Gone             1\n",
       "Jogo PES 2020              1\n",
       "Mouse Pad Gamer            1\n",
       "Monitor LED 29\"            1\n",
       "Teclado USB Gamer          1\n",
       "Name: Categoria, dtype: int64"
      ]
     },
     "execution_count": 127,
     "metadata": {},
     "output_type": "execute_result"
    }
   ],
   "source": [
    "produtos['Categoria'].value_counts()"
   ]
  },
  {
   "cell_type": "code",
   "execution_count": 128,
   "metadata": {},
   "outputs": [
    {
     "ename": "ValueError",
     "evalue": "could not convert string to float: ' 1.405,53'",
     "output_type": "error",
     "traceback": [
      "\u001b[0;31m---------------------------------------------------------------------------\u001b[0m",
      "\u001b[0;31mValueError\u001b[0m                                Traceback (most recent call last)",
      "\u001b[0;32m<ipython-input-128-c5a67f97d5db>\u001b[0m in \u001b[0;36m<module>\u001b[0;34m\u001b[0m\n\u001b[1;32m      1\u001b[0m \u001b[0mprecos\u001b[0m \u001b[0;34m=\u001b[0m \u001b[0;34m[\u001b[0m\u001b[0;34m]\u001b[0m\u001b[0;34m\u001b[0m\u001b[0;34m\u001b[0m\u001b[0m\n\u001b[1;32m      2\u001b[0m \u001b[0;32mfor\u001b[0m \u001b[0mpreco\u001b[0m \u001b[0;32min\u001b[0m \u001b[0mprodutos\u001b[0m\u001b[0;34m[\u001b[0m\u001b[0;34m'Preço'\u001b[0m\u001b[0;34m]\u001b[0m\u001b[0;34m:\u001b[0m\u001b[0;34m\u001b[0m\u001b[0;34m\u001b[0m\u001b[0m\n\u001b[0;32m----> 3\u001b[0;31m     \u001b[0mprint\u001b[0m\u001b[0;34m(\u001b[0m\u001b[0mfloat\u001b[0m\u001b[0;34m(\u001b[0m\u001b[0mpreco\u001b[0m\u001b[0;34m.\u001b[0m\u001b[0mreplace\u001b[0m\u001b[0;34m(\u001b[0m\u001b[0;34m'R$'\u001b[0m\u001b[0;34m,\u001b[0m \u001b[0;34m''\u001b[0m\u001b[0;34m)\u001b[0m\u001b[0;34m)\u001b[0m\u001b[0;34m)\u001b[0m\u001b[0;34m\u001b[0m\u001b[0;34m\u001b[0m\u001b[0m\n\u001b[0m",
      "\u001b[0;31mValueError\u001b[0m: could not convert string to float: ' 1.405,53'"
     ]
    }
   ],
   "source": [
    "precos = []\n",
    "for preco in produtos['Preço']:\n",
    "    print(float(preco.replace('R$', '')))"
   ]
  },
  {
   "cell_type": "code",
   "execution_count": 132,
   "metadata": {},
   "outputs": [
    {
     "data": {
      "text/plain": [
       "19878.04"
      ]
     },
     "execution_count": 132,
     "metadata": {},
     "output_type": "execute_result"
    }
   ],
   "source": [
    "precos = []\n",
    "for preco in produtos['Preço']:\n",
    "    preco = preco.replace('R$', '')\n",
    "    preco = preco.replace('.', '')\n",
    "    preco = preco.replace(',', '.')\n",
    "    precos.append(float(preco))\n",
    "\n",
    "produtos['Preço2'] = precos\n",
    "produtos['Preço2'].sum()"
   ]
  },
  {
   "cell_type": "code",
   "execution_count": 133,
   "metadata": {},
   "outputs": [
    {
     "data": {
      "text/plain": [
       "Cadeira       7\n",
       "Headset       6\n",
       "Mouse         4\n",
       "Jogo          3\n",
       "Computador    1\n",
       "Teclado       1\n",
       "Monitor       1\n",
       "Console       1\n",
       "Name: Categoria, dtype: int64"
      ]
     },
     "execution_count": 133,
     "metadata": {},
     "output_type": "execute_result"
    }
   ],
   "source": [
    "categorias = []\n",
    "for categoria in produtos['Categoria']:\n",
    "    palavras = categoria.split(' ')\n",
    "    categorias.append(palavras[0])\n",
    "\n",
    "produtos['Categoria'] = categorias\n",
    "produtos['Categoria'].value_counts()"
   ]
  },
  {
   "cell_type": "markdown",
   "metadata": {},
   "source": [
    "# Valores duplicados"
   ]
  },
  {
   "cell_type": "code",
   "execution_count": 141,
   "metadata": {},
   "outputs": [
    {
     "data": {
      "text/html": [
       "<div>\n",
       "<style scoped>\n",
       "    .dataframe tbody tr th:only-of-type {\n",
       "        vertical-align: middle;\n",
       "    }\n",
       "\n",
       "    .dataframe tbody tr th {\n",
       "        vertical-align: top;\n",
       "    }\n",
       "\n",
       "    .dataframe thead th {\n",
       "        text-align: right;\n",
       "    }\n",
       "</style>\n",
       "<table border=\"1\" class=\"dataframe\">\n",
       "  <thead>\n",
       "    <tr style=\"text-align: right;\">\n",
       "      <th></th>\n",
       "      <th>Título</th>\n",
       "      <th>URL</th>\n",
       "      <th>Descrição</th>\n",
       "    </tr>\n",
       "  </thead>\n",
       "  <tbody>\n",
       "    <tr>\n",
       "      <th>0</th>\n",
       "      <td>Como migrar para Ciência de Dados: dicas práti...</td>\n",
       "      <td>/url?q=https://medium.com/somos-tera/como-migr...</td>\n",
       "      <td>14 de fev. de 2020 · Buscando impulsionar sua ...</td>\n",
       "    </tr>\n",
       "    <tr>\n",
       "      <th>1</th>\n",
       "      <td>Como migrar para Ciência de Dados: dicas práti...</td>\n",
       "      <td>/url?q=https://medium.com/somos-tera/como-migr...</td>\n",
       "      <td>14 de fev. de 2020 · Buscando impulsionar sua ...</td>\n",
       "    </tr>\n",
       "    <tr>\n",
       "      <th>2</th>\n",
       "      <td>Introdução à Ciência de Dados 2.0 - Data Scien...</td>\n",
       "      <td>/url?q=https://www.datascienceacademy.com.br/c...</td>\n",
       "      <td>Ciência de Dados é a exploração e análise de t...</td>\n",
       "    </tr>\n",
       "    <tr>\n",
       "      <th>3</th>\n",
       "      <td>Ciência de dados – Wikipédia, a enciclopédia l...</td>\n",
       "      <td>/url?q=https://pt.wikipedia.org/wiki/Ci%25C3%2...</td>\n",
       "      <td>Ciência de dados (em inglês: data science) é u...</td>\n",
       "    </tr>\n",
       "    <tr>\n",
       "      <th>4</th>\n",
       "      <td>Ciência de Dados: O que é, conceito e definiçã...</td>\n",
       "      <td>/url?q=https://www.cetax.com.br/blog/data-scie...</td>\n",
       "      <td>A ciência de dados envolve diversas disciplina...</td>\n",
       "    </tr>\n",
       "    <tr>\n",
       "      <th>5</th>\n",
       "      <td>O que é Ciência de Dados? | Oracle Brasil</td>\n",
       "      <td>/url?q=https://www.oracle.com/br/data-science/...</td>\n",
       "      <td>A ciência de dados é um campo interdisciplinar...</td>\n",
       "    </tr>\n",
       "    <tr>\n",
       "      <th>6</th>\n",
       "      <td>Ciência de Dados ou Data Science: O que é, Apl...</td>\n",
       "      <td>/url?q=https://fia.com.br/blog/ciencia-de-dado...</td>\n",
       "      <td>26 de set. de 2019 · Práticas da ciência de da...</td>\n",
       "    </tr>\n",
       "    <tr>\n",
       "      <th>7</th>\n",
       "      <td>Ciência de Dados ou Data Science: O que é, Apl...</td>\n",
       "      <td>/url?q=https://fia.com.br/blog/ciencia-de-dado...</td>\n",
       "      <td>26 de set. de 2019 · Práticas da ciência de da...</td>\n",
       "    </tr>\n",
       "    <tr>\n",
       "      <th>8</th>\n",
       "      <td>Ciência e Dados — Data Science for Professionals</td>\n",
       "      <td>/url?q=https://www.cienciaedados.com/&amp;sa=U&amp;ved...</td>\n",
       "      <td>Este capítulo fornecerá uma visão geral das re...</td>\n",
       "    </tr>\n",
       "    <tr>\n",
       "      <th>9</th>\n",
       "      <td>Ciência e Dados — Data Science for Professionals</td>\n",
       "      <td>/url?q=https://www.cienciaedados.com/&amp;sa=U&amp;ved...</td>\n",
       "      <td>Este capítulo fornecerá uma visão geral das re...</td>\n",
       "    </tr>\n",
       "    <tr>\n",
       "      <th>10</th>\n",
       "      <td>Bacharelado em Ciência de Dados _ Univesp |</td>\n",
       "      <td>/url?q=https://univesp.br/cursos/bacharel-em-c...</td>\n",
       "      <td>Bacharelado em Ciência de Dados. Com duração d...</td>\n",
       "    </tr>\n",
       "    <tr>\n",
       "      <th>11</th>\n",
       "      <td>Descubra a nova graduação em Ciência de Dados ...</td>\n",
       "      <td>/url?q=https://guiadoestudante.abril.com.br/bl...</td>\n",
       "      <td>19 de jul. de 2018 · Curso inédito forma o pro...</td>\n",
       "    </tr>\n",
       "    <tr>\n",
       "      <th>12</th>\n",
       "      <td>Descubra a nova graduação em Ciência de Dados ...</td>\n",
       "      <td>/url?q=https://guiadoestudante.abril.com.br/bl...</td>\n",
       "      <td>19 de jul. de 2018 · Curso inédito forma o pro...</td>\n",
       "    </tr>\n",
       "  </tbody>\n",
       "</table>\n",
       "</div>"
      ],
      "text/plain": [
       "                                               Título  \\\n",
       "0   Como migrar para Ciência de Dados: dicas práti...   \n",
       "1   Como migrar para Ciência de Dados: dicas práti...   \n",
       "2   Introdução à Ciência de Dados 2.0 - Data Scien...   \n",
       "3   Ciência de dados – Wikipédia, a enciclopédia l...   \n",
       "4   Ciência de Dados: O que é, conceito e definiçã...   \n",
       "5           O que é Ciência de Dados? | Oracle Brasil   \n",
       "6   Ciência de Dados ou Data Science: O que é, Apl...   \n",
       "7   Ciência de Dados ou Data Science: O que é, Apl...   \n",
       "8    Ciência e Dados — Data Science for Professionals   \n",
       "9    Ciência e Dados — Data Science for Professionals   \n",
       "10        Bacharelado em Ciência de Dados _ Univesp |   \n",
       "11  Descubra a nova graduação em Ciência de Dados ...   \n",
       "12  Descubra a nova graduação em Ciência de Dados ...   \n",
       "\n",
       "                                                  URL  \\\n",
       "0   /url?q=https://medium.com/somos-tera/como-migr...   \n",
       "1   /url?q=https://medium.com/somos-tera/como-migr...   \n",
       "2   /url?q=https://www.datascienceacademy.com.br/c...   \n",
       "3   /url?q=https://pt.wikipedia.org/wiki/Ci%25C3%2...   \n",
       "4   /url?q=https://www.cetax.com.br/blog/data-scie...   \n",
       "5   /url?q=https://www.oracle.com/br/data-science/...   \n",
       "6   /url?q=https://fia.com.br/blog/ciencia-de-dado...   \n",
       "7   /url?q=https://fia.com.br/blog/ciencia-de-dado...   \n",
       "8   /url?q=https://www.cienciaedados.com/&sa=U&ved...   \n",
       "9   /url?q=https://www.cienciaedados.com/&sa=U&ved...   \n",
       "10  /url?q=https://univesp.br/cursos/bacharel-em-c...   \n",
       "11  /url?q=https://guiadoestudante.abril.com.br/bl...   \n",
       "12  /url?q=https://guiadoestudante.abril.com.br/bl...   \n",
       "\n",
       "                                            Descrição  \n",
       "0   14 de fev. de 2020 · Buscando impulsionar sua ...  \n",
       "1   14 de fev. de 2020 · Buscando impulsionar sua ...  \n",
       "2   Ciência de Dados é a exploração e análise de t...  \n",
       "3   Ciência de dados (em inglês: data science) é u...  \n",
       "4   A ciência de dados envolve diversas disciplina...  \n",
       "5   A ciência de dados é um campo interdisciplinar...  \n",
       "6   26 de set. de 2019 · Práticas da ciência de da...  \n",
       "7   26 de set. de 2019 · Práticas da ciência de da...  \n",
       "8   Este capítulo fornecerá uma visão geral das re...  \n",
       "9   Este capítulo fornecerá uma visão geral das re...  \n",
       "10  Bacharelado em Ciência de Dados. Com duração d...  \n",
       "11  19 de jul. de 2018 · Curso inédito forma o pro...  \n",
       "12  19 de jul. de 2018 · Curso inédito forma o pro...  "
      ]
     },
     "execution_count": 141,
     "metadata": {},
     "output_type": "execute_result"
    }
   ],
   "source": [
    "from random import choice\n",
    "\n",
    "import pandas as pd\n",
    "import requests\n",
    "from bs4 import BeautifulSoup\n",
    "\n",
    "url = 'https://www.google.com/search?q=ciencia+de+dados'\n",
    "\n",
    "html = requests.get(url).text\n",
    "soup = BeautifulSoup(html, 'html.parser')\n",
    "\n",
    "resultados = []\n",
    "for resultado in soup.find_all('div', attrs={'class': 'BNeawe vvjwJb AP7Wnd'}):\n",
    "    bloco = resultado.parent.parent.parent.parent\n",
    "    \n",
    "    titulo = resultado.text\n",
    "    url = bloco.a['href']\n",
    "    descricao = bloco.find('div', attrs={'class': 'BNeawe s3v9rd AP7Wnd'}).text\n",
    "    \n",
    "    resultados.append([titulo, url, descricao])\n",
    "    \n",
    "    duplicar = choice([False, True])\n",
    "    if duplicar:\n",
    "        resultados.append([titulo, url, descricao])\n",
    "\n",
    "\n",
    "buscas = pd.DataFrame(resultados, columns=['Título', 'URL', 'Descrição'])\n",
    "buscas"
   ]
  },
  {
   "cell_type": "code",
   "execution_count": 145,
   "metadata": {},
   "outputs": [
    {
     "data": {
      "text/html": [
       "<div>\n",
       "<style scoped>\n",
       "    .dataframe tbody tr th:only-of-type {\n",
       "        vertical-align: middle;\n",
       "    }\n",
       "\n",
       "    .dataframe tbody tr th {\n",
       "        vertical-align: top;\n",
       "    }\n",
       "\n",
       "    .dataframe thead th {\n",
       "        text-align: right;\n",
       "    }\n",
       "</style>\n",
       "<table border=\"1\" class=\"dataframe\">\n",
       "  <thead>\n",
       "    <tr style=\"text-align: right;\">\n",
       "      <th></th>\n",
       "      <th>Título</th>\n",
       "      <th>URL</th>\n",
       "      <th>Descrição</th>\n",
       "    </tr>\n",
       "  </thead>\n",
       "  <tbody>\n",
       "    <tr>\n",
       "      <th>0</th>\n",
       "      <td>Como migrar para Ciência de Dados: dicas práti...</td>\n",
       "      <td>/url?q=https://medium.com/somos-tera/como-migr...</td>\n",
       "      <td>14 de fev. de 2020 · Buscando impulsionar sua ...</td>\n",
       "    </tr>\n",
       "    <tr>\n",
       "      <th>1</th>\n",
       "      <td>Introdução à Ciência de Dados 2.0 - Data Scien...</td>\n",
       "      <td>/url?q=https://www.datascienceacademy.com.br/c...</td>\n",
       "      <td>Ciência de Dados é a exploração e análise de t...</td>\n",
       "    </tr>\n",
       "    <tr>\n",
       "      <th>2</th>\n",
       "      <td>Ciência de dados – Wikipédia, a enciclopédia l...</td>\n",
       "      <td>/url?q=https://pt.wikipedia.org/wiki/Ci%25C3%2...</td>\n",
       "      <td>Ciência de dados (em inglês: data science) é u...</td>\n",
       "    </tr>\n",
       "    <tr>\n",
       "      <th>3</th>\n",
       "      <td>Ciência de Dados: O que é, conceito e definiçã...</td>\n",
       "      <td>/url?q=https://www.cetax.com.br/blog/data-scie...</td>\n",
       "      <td>A ciência de dados envolve diversas disciplina...</td>\n",
       "    </tr>\n",
       "    <tr>\n",
       "      <th>4</th>\n",
       "      <td>O que é Ciência de Dados? | Oracle Brasil</td>\n",
       "      <td>/url?q=https://www.oracle.com/br/data-science/...</td>\n",
       "      <td>A ciência de dados é um campo interdisciplinar...</td>\n",
       "    </tr>\n",
       "    <tr>\n",
       "      <th>5</th>\n",
       "      <td>Ciência de Dados ou Data Science: O que é, Apl...</td>\n",
       "      <td>/url?q=https://fia.com.br/blog/ciencia-de-dado...</td>\n",
       "      <td>26 de set. de 2019 · Práticas da ciência de da...</td>\n",
       "    </tr>\n",
       "    <tr>\n",
       "      <th>6</th>\n",
       "      <td>Ciência e Dados — Data Science for Professionals</td>\n",
       "      <td>/url?q=https://www.cienciaedados.com/&amp;sa=U&amp;ved...</td>\n",
       "      <td>Este capítulo fornecerá uma visão geral das re...</td>\n",
       "    </tr>\n",
       "    <tr>\n",
       "      <th>7</th>\n",
       "      <td>Bacharelado em Ciência de Dados _ Univesp |</td>\n",
       "      <td>/url?q=https://univesp.br/cursos/bacharel-em-c...</td>\n",
       "      <td>Bacharelado em Ciência de Dados. Com duração d...</td>\n",
       "    </tr>\n",
       "    <tr>\n",
       "      <th>8</th>\n",
       "      <td>Descubra a nova graduação em Ciência de Dados ...</td>\n",
       "      <td>/url?q=https://guiadoestudante.abril.com.br/bl...</td>\n",
       "      <td>19 de jul. de 2018 · Curso inédito forma o pro...</td>\n",
       "    </tr>\n",
       "  </tbody>\n",
       "</table>\n",
       "</div>"
      ],
      "text/plain": [
       "                                              Título  \\\n",
       "0  Como migrar para Ciência de Dados: dicas práti...   \n",
       "1  Introdução à Ciência de Dados 2.0 - Data Scien...   \n",
       "2  Ciência de dados – Wikipédia, a enciclopédia l...   \n",
       "3  Ciência de Dados: O que é, conceito e definiçã...   \n",
       "4          O que é Ciência de Dados? | Oracle Brasil   \n",
       "5  Ciência de Dados ou Data Science: O que é, Apl...   \n",
       "6   Ciência e Dados — Data Science for Professionals   \n",
       "7        Bacharelado em Ciência de Dados _ Univesp |   \n",
       "8  Descubra a nova graduação em Ciência de Dados ...   \n",
       "\n",
       "                                                 URL  \\\n",
       "0  /url?q=https://medium.com/somos-tera/como-migr...   \n",
       "1  /url?q=https://www.datascienceacademy.com.br/c...   \n",
       "2  /url?q=https://pt.wikipedia.org/wiki/Ci%25C3%2...   \n",
       "3  /url?q=https://www.cetax.com.br/blog/data-scie...   \n",
       "4  /url?q=https://www.oracle.com/br/data-science/...   \n",
       "5  /url?q=https://fia.com.br/blog/ciencia-de-dado...   \n",
       "6  /url?q=https://www.cienciaedados.com/&sa=U&ved...   \n",
       "7  /url?q=https://univesp.br/cursos/bacharel-em-c...   \n",
       "8  /url?q=https://guiadoestudante.abril.com.br/bl...   \n",
       "\n",
       "                                           Descrição  \n",
       "0  14 de fev. de 2020 · Buscando impulsionar sua ...  \n",
       "1  Ciência de Dados é a exploração e análise de t...  \n",
       "2  Ciência de dados (em inglês: data science) é u...  \n",
       "3  A ciência de dados envolve diversas disciplina...  \n",
       "4  A ciência de dados é um campo interdisciplinar...  \n",
       "5  26 de set. de 2019 · Práticas da ciência de da...  \n",
       "6  Este capítulo fornecerá uma visão geral das re...  \n",
       "7  Bacharelado em Ciência de Dados. Com duração d...  \n",
       "8  19 de jul. de 2018 · Curso inédito forma o pro...  "
      ]
     },
     "execution_count": 145,
     "metadata": {},
     "output_type": "execute_result"
    }
   ],
   "source": [
    "limpo = buscas.drop_duplicates(subset=['Título', 'URL'])\n",
    "limpo = limpo.reset_index(drop=True)\n",
    "limpo"
   ]
  },
  {
   "cell_type": "markdown",
   "metadata": {},
   "source": [
    "# Atividade"
   ]
  },
  {
   "cell_type": "markdown",
   "metadata": {},
   "source": [
    "## Exercício 1"
   ]
  },
  {
   "cell_type": "code",
   "execution_count": null,
   "metadata": {},
   "outputs": [],
   "source": [
    "import pandas as pd\n",
    "df = pd.read_csv('superbowl.csv', sep=',')\n",
    "df.head()"
   ]
  },
  {
   "cell_type": "markdown",
   "metadata": {},
   "source": [
    "1. Criar 3 novas colunas: dia, mês, ano"
   ]
  },
  {
   "cell_type": "code",
   "execution_count": null,
   "metadata": {},
   "outputs": [],
   "source": []
  },
  {
   "cell_type": "markdown",
   "metadata": {},
   "source": [
    "2. Transformar a coluna mês em número"
   ]
  },
  {
   "cell_type": "code",
   "execution_count": null,
   "metadata": {},
   "outputs": [],
   "source": []
  },
  {
   "cell_type": "markdown",
   "metadata": {},
   "source": [
    "3. Colocar a coluna Date no formato dia/mes/ano "
   ]
  },
  {
   "cell_type": "code",
   "execution_count": null,
   "metadata": {},
   "outputs": [],
   "source": []
  },
  {
   "cell_type": "markdown",
   "metadata": {},
   "source": [
    "## Exercício 2"
   ]
  },
  {
   "cell_type": "code",
   "execution_count": null,
   "metadata": {},
   "outputs": [],
   "source": [
    "import requests\n",
    "from bs4 import BeautifulSoup\n",
    "\n",
    "url = 'https://www.youtube.com/results?search_query=ciencia+de+dados'\n",
    "\n",
    "html = requests.get(url).text\n",
    "soup = BeautifulSoup(html, 'html.parser')\n",
    "\n",
    "resultados = []\n",
    "for video in soup.find_all('div', attrs={'class': 'yt-lockup-content'}):\n",
    "    titulo = video.find('h3', attrs={'class': 'yt-lockup-title'}).a.text\n",
    "    duracao = video.find('h3', attrs={'class': 'yt-lockup-title'}).span.text\n",
    "    url = video.find('h3', attrs={'class': 'yt-lockup-title'}).a['href']\n",
    "    resultados.append([titulo, duracao, url])\n",
    "\n",
    "videos = pd.DataFrame(resultados, columns=['Título', 'Duração', 'URL'])\n",
    "videos.head()"
   ]
  },
  {
   "cell_type": "markdown",
   "metadata": {},
   "source": [
    "1. Formatar a coluna de duração para o formato mm:ss"
   ]
  },
  {
   "cell_type": "code",
   "execution_count": null,
   "metadata": {},
   "outputs": [],
   "source": []
  },
  {
   "cell_type": "markdown",
   "metadata": {},
   "source": [
    "2. Criar duas novas colunas: Minutos, Segundos"
   ]
  },
  {
   "cell_type": "code",
   "execution_count": null,
   "metadata": {},
   "outputs": [],
   "source": []
  },
  {
   "cell_type": "markdown",
   "metadata": {},
   "source": [
    "3. Adicionar 'https://www.youtube.com' antes dos valores da coluna URL"
   ]
  },
  {
   "cell_type": "code",
   "execution_count": null,
   "metadata": {},
   "outputs": [],
   "source": []
  },
  {
   "cell_type": "markdown",
   "metadata": {},
   "source": [
    "## Exercício 3"
   ]
  },
  {
   "cell_type": "code",
   "execution_count": null,
   "metadata": {},
   "outputs": [],
   "source": [
    "import pandas as pd\n",
    "import requests\n",
    "from bs4 import BeautifulSoup\n",
    "\n",
    "url = 'https://www.google.com/search?q=ciencia+de+dados'\n",
    "\n",
    "html = requests.get(url).text\n",
    "soup = BeautifulSoup(html, 'html.parser')\n",
    "\n",
    "resultados = []\n",
    "for resultado in soup.find_all('div', attrs={'class': 'BNeawe vvjwJb AP7Wnd'}):\n",
    "    bloco = resultado.parent.parent.parent.parent\n",
    "    \n",
    "    titulo = resultado.text\n",
    "    url = bloco.a['href']\n",
    "    descricao = bloco.find('div', attrs={'class': 'BNeawe s3v9rd AP7Wnd'}).text\n",
    "    \n",
    "    resultados.append([titulo, url, descricao])\n",
    "\n",
    "buscas = pd.DataFrame(resultados, columns=['Título', 'URL', 'Descrição'])\n",
    "buscas.head()"
   ]
  },
  {
   "cell_type": "markdown",
   "metadata": {},
   "source": [
    "1. Eliminar a string \"/url?q=\" do campo URL"
   ]
  },
  {
   "cell_type": "code",
   "execution_count": null,
   "metadata": {},
   "outputs": [],
   "source": []
  }
 ],
 "metadata": {
  "kernelspec": {
   "display_name": "Python 3",
   "language": "python",
   "name": "python3"
  },
  "language_info": {
   "codemirror_mode": {
    "name": "ipython",
    "version": 3
   },
   "file_extension": ".py",
   "mimetype": "text/x-python",
   "name": "python",
   "nbconvert_exporter": "python",
   "pygments_lexer": "ipython3",
   "version": "3.7.6"
  },
  "toc": {
   "base_numbering": 1,
   "nav_menu": {
    "height": "328px",
    "width": "392px"
   },
   "number_sections": true,
   "sideBar": true,
   "skip_h1_title": false,
   "title_cell": "Table of Contents",
   "title_sidebar": "Contents",
   "toc_cell": false,
   "toc_position": {},
   "toc_section_display": true,
   "toc_window_display": false
  }
 },
 "nbformat": 4,
 "nbformat_minor": 4
}
