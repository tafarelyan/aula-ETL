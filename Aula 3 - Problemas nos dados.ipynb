{
 "cells": [
  {
   "cell_type": "markdown",
   "metadata": {},
   "source": [
    "# Revisão Pandas"
   ]
  },
  {
   "cell_type": "markdown",
   "metadata": {},
   "source": [
    "## Lendo uma base de dados"
   ]
  },
  {
   "cell_type": "code",
   "execution_count": null,
   "metadata": {},
   "outputs": [],
   "source": [
    "import pandas as pd\n",
    "df = pd.read_csv('superbowl.csv', sep=',')\n",
    "df.head()"
   ]
  },
  {
   "cell_type": "markdown",
   "metadata": {},
   "source": [
    "## Entendendo as colunas"
   ]
  },
  {
   "cell_type": "code",
   "execution_count": null,
   "metadata": {},
   "outputs": [],
   "source": [
    "df.dtypes"
   ]
  },
  {
   "cell_type": "code",
   "execution_count": null,
   "metadata": {},
   "outputs": [],
   "source": [
    "df.shape"
   ]
  },
  {
   "cell_type": "markdown",
   "metadata": {},
   "source": [
    "## Manipulando as colunas"
   ]
  },
  {
   "cell_type": "code",
   "execution_count": null,
   "metadata": {},
   "outputs": [],
   "source": [
    "df['Date'].head()"
   ]
  },
  {
   "cell_type": "code",
   "execution_count": null,
   "metadata": {},
   "outputs": [],
   "source": [
    "df['Winner Pts'].head()"
   ]
  },
  {
   "cell_type": "code",
   "execution_count": null,
   "metadata": {},
   "outputs": [],
   "source": [
    "pontos = df['Winner Pts']\n",
    "print('Soma:', pontos.sum())\n",
    "print('Média:', pontos.mean())\n",
    "print('Contagem: ', pontos.count())"
   ]
  },
  {
   "cell_type": "code",
   "execution_count": null,
   "metadata": {},
   "outputs": [],
   "source": [
    "df['Contagem'] = 1\n",
    "df.head()"
   ]
  },
  {
   "cell_type": "markdown",
   "metadata": {},
   "source": [
    "## Ordenando os valores"
   ]
  },
  {
   "cell_type": "markdown",
   "metadata": {},
   "source": [
    "- Quais 5 edições os times ganharam o maior número de pontos?"
   ]
  },
  {
   "cell_type": "code",
   "execution_count": null,
   "metadata": {},
   "outputs": [],
   "source": []
  },
  {
   "cell_type": "markdown",
   "metadata": {},
   "source": [
    "- Ordene os nomes dos MVPs de todas as edições do superbowl em ordem crescente"
   ]
  },
  {
   "cell_type": "code",
   "execution_count": null,
   "metadata": {},
   "outputs": [],
   "source": []
  },
  {
   "cell_type": "markdown",
   "metadata": {},
   "source": [
    "## Operações de filtro"
   ]
  },
  {
   "cell_type": "markdown",
   "metadata": {},
   "source": [
    "- Quantas superbowls foram realizadas na Orange Bowl (Florida)?"
   ]
  },
  {
   "cell_type": "code",
   "execution_count": null,
   "metadata": {},
   "outputs": [],
   "source": []
  },
  {
   "cell_type": "markdown",
   "metadata": {},
   "source": [
    "- Quantas superbowls foram realizadas na Florida?"
   ]
  },
  {
   "cell_type": "code",
   "execution_count": null,
   "metadata": {},
   "outputs": [],
   "source": []
  },
  {
   "cell_type": "markdown",
   "metadata": {},
   "source": [
    "## Agrupamento"
   ]
  },
  {
   "cell_type": "markdown",
   "metadata": {},
   "source": [
    "- Quantas superbowls foram realizadas em cada estado?"
   ]
  },
  {
   "cell_type": "code",
   "execution_count": null,
   "metadata": {},
   "outputs": [],
   "source": []
  },
  {
   "cell_type": "markdown",
   "metadata": {},
   "source": [
    "## Misturando tudo"
   ]
  },
  {
   "cell_type": "markdown",
   "metadata": {},
   "source": [
    "- Quais estados que realizam o maior número de superbowls?"
   ]
  },
  {
   "cell_type": "code",
   "execution_count": null,
   "metadata": {},
   "outputs": [],
   "source": []
  },
  {
   "cell_type": "markdown",
   "metadata": {},
   "source": [
    "- Quem são os times que mais ganham o superbowl?"
   ]
  },
  {
   "cell_type": "code",
   "execution_count": null,
   "metadata": {},
   "outputs": [],
   "source": []
  },
  {
   "cell_type": "markdown",
   "metadata": {},
   "source": [
    "## Exercícios "
   ]
  },
  {
   "cell_type": "code",
   "execution_count": null,
   "metadata": {},
   "outputs": [],
   "source": [
    "# Quantas superbowls existem?"
   ]
  },
  {
   "cell_type": "code",
   "execution_count": null,
   "metadata": {},
   "outputs": [],
   "source": [
    "# Quantas superbowls foram realizadas na California?"
   ]
  },
  {
   "cell_type": "code",
   "execution_count": null,
   "metadata": {},
   "outputs": [],
   "source": [
    "# Quais são os estádios mais utilizados para Superbowl na California?"
   ]
  },
  {
   "cell_type": "code",
   "execution_count": null,
   "metadata": {},
   "outputs": [],
   "source": [
    "# Quantas superbowls foram realizadas em Fevereiro?"
   ]
  },
  {
   "cell_type": "markdown",
   "metadata": {},
   "source": [
    "# Problemas de Formatação"
   ]
  },
  {
   "cell_type": "markdown",
   "metadata": {},
   "source": [
    "## Formato de data"
   ]
  },
  {
   "cell_type": "code",
   "execution_count": null,
   "metadata": {},
   "outputs": [],
   "source": [
    "# Formato desejado: dd/mês/ano\n",
    "# Formato atual: ano-mês-dia\n",
    "\n",
    "import pandas as pd\n",
    "apple = pd.read_csv('AAPL.csv', sep=',')\n",
    "apple.head()"
   ]
  },
  {
   "cell_type": "code",
   "execution_count": null,
   "metadata": {},
   "outputs": [],
   "source": [
    "for data in apple['Date']:\n",
    "    ano, mes, dia = data.split('-')\n",
    "    print(ano, mes, dia)\n",
    "    break"
   ]
  },
  {
   "cell_type": "code",
   "execution_count": null,
   "metadata": {},
   "outputs": [],
   "source": [
    "novas_datas = []\n",
    "for data in apple['Date']:\n",
    "    ano, mes, dia = data.split('-')\n",
    "    novas_datas.append(dia + '/' + mes + '/' + ano)\n",
    "\n",
    "novas_datas[0]"
   ]
  },
  {
   "cell_type": "code",
   "execution_count": null,
   "metadata": {},
   "outputs": [],
   "source": [
    "apple['Date'] = novas_datas\n",
    "apple.head()"
   ]
  },
  {
   "cell_type": "markdown",
   "metadata": {},
   "source": [
    "## Produtos e-commerce"
   ]
  },
  {
   "cell_type": "code",
   "execution_count": null,
   "metadata": {},
   "outputs": [],
   "source": [
    "# Importando as bibliotecas\n",
    "import pandas as pd\n",
    "import requests\n",
    "from bs4 import BeautifulSoup\n",
    "\n",
    "# Encontrar a URL\n",
    "url = 'https://www.kalunga.com.br/depto/gamers/13?menuID=109&menuCat=all'\n",
    "\n",
    "# Contruir um objeto soup a partir da URL\n",
    "html = requests.get(url).text\n",
    "soup = BeautifulSoup(html, 'html.parser')\n",
    "\n",
    "# Construindo o código\n",
    "catalogo = []\n",
    "for resultado in soup.find_all('h1', attrs={'class': 'text-left mt-2 text-dark'}):\n",
    "    bloco = resultado.parent.parent.parent.parent\n",
    "    \n",
    "    titulo = resultado.text\n",
    "    preco = bloco.find('span', attrs={'class': 'text-primary h6'}).text.split('à vista')[0].strip()\n",
    "    categoria = ' '.join(resultado.text.split(' ')[0:3])\n",
    "    \n",
    "    catalogo.append([titulo, preco, categoria])\n",
    "\n",
    "# Armazenando os dados\n",
    "produtos = pd.DataFrame(catalogo, columns=['Título', 'Preço', 'Categoria'])\n",
    "produtos"
   ]
  },
  {
   "cell_type": "code",
   "execution_count": null,
   "metadata": {},
   "outputs": [],
   "source": [
    "produtos['Preço'].sum()"
   ]
  },
  {
   "cell_type": "code",
   "execution_count": null,
   "metadata": {},
   "outputs": [],
   "source": [
    "produtos['Categoria'].value_counts()"
   ]
  },
  {
   "cell_type": "code",
   "execution_count": null,
   "metadata": {},
   "outputs": [],
   "source": [
    "precos = []\n",
    "for preco in produtos['Preço']:\n",
    "    print(float(preco.replace('R$', '')))"
   ]
  },
  {
   "cell_type": "code",
   "execution_count": null,
   "metadata": {},
   "outputs": [],
   "source": [
    "precos = []\n",
    "for preco in produtos['Preço']:\n",
    "    preco = preco.replace('R$', '')\n",
    "    preco = preco.replace('.', '')\n",
    "    preco = preco.replace(',', '.')\n",
    "    precos.append(float(preco))\n",
    "\n",
    "produtos['Preço'] = precos\n",
    "produtos['Preço'].sum()"
   ]
  },
  {
   "cell_type": "code",
   "execution_count": null,
   "metadata": {},
   "outputs": [],
   "source": [
    "categorias = []\n",
    "for categoria in produtos['Categoria']:\n",
    "    palavras = categoria.split('-')\n",
    "    categorias.append(palavras[0])\n",
    "\n",
    "produtos['Categoria'] = categorias\n",
    "produtos['Categoria'].value_counts()"
   ]
  },
  {
   "cell_type": "markdown",
   "metadata": {},
   "source": [
    "# Valores duplicados"
   ]
  },
  {
   "cell_type": "code",
   "execution_count": null,
   "metadata": {},
   "outputs": [],
   "source": [
    "from random import choice\n",
    "\n",
    "import pandas as pd\n",
    "import requests\n",
    "from bs4 import BeautifulSoup\n",
    "\n",
    "url = 'https://www.google.com/search?q=ciencia+de+dados'\n",
    "\n",
    "html = requests.get(url).text\n",
    "soup = BeautifulSoup(html, 'html.parser')\n",
    "\n",
    "resultados = []\n",
    "for resultado in soup.find_all('div', attrs={'class': 'BNeawe vvjwJb AP7Wnd'}):\n",
    "    bloco = resultado.parent.parent.parent.parent\n",
    "    \n",
    "    titulo = resultado.text\n",
    "    url = bloco.a['href']\n",
    "    descricao = bloco.find('div', attrs={'class': 'BNeawe s3v9rd AP7Wnd'}).text\n",
    "    \n",
    "    resultados.append([titulo, url, descricao])\n",
    "    \n",
    "    duplicar = choice([False, True])\n",
    "    if duplicar:\n",
    "        resultados.append([titulo, url, descricao])\n",
    "\n",
    "\n",
    "buscas = pd.DataFrame(resultados, columns=['Título', 'URL', 'Descrição'])\n",
    "buscas"
   ]
  },
  {
   "cell_type": "code",
   "execution_count": null,
   "metadata": {},
   "outputs": [],
   "source": [
    "buscas.drop_duplicates().reset_index(drop=True)"
   ]
  },
  {
   "cell_type": "markdown",
   "metadata": {},
   "source": [
    "# Atividade"
   ]
  },
  {
   "cell_type": "markdown",
   "metadata": {},
   "source": [
    "## Exercício 1"
   ]
  },
  {
   "cell_type": "code",
   "execution_count": null,
   "metadata": {},
   "outputs": [],
   "source": [
    "import pandas as pd\n",
    "df = pd.read_csv('superbowl.csv', sep=',')\n",
    "df.head()"
   ]
  },
  {
   "cell_type": "markdown",
   "metadata": {},
   "source": [
    "1. Criar 3 novas colunas: dia, mês, ano"
   ]
  },
  {
   "cell_type": "markdown",
   "metadata": {},
   "source": [
    "2. Transformar a coluna mês em numero"
   ]
  },
  {
   "cell_type": "markdown",
   "metadata": {},
   "source": [
    "3. Colocar a coluna Date no formato dia/mes/ano "
   ]
  },
  {
   "cell_type": "markdown",
   "metadata": {},
   "source": [
    "## Exercício 2"
   ]
  },
  {
   "cell_type": "code",
   "execution_count": null,
   "metadata": {},
   "outputs": [],
   "source": [
    "import requests\n",
    "from bs4 import BeautifulSoup\n",
    "\n",
    "url = 'https://www.youtube.com/results?search_query=ciencia+de+dados'\n",
    "\n",
    "html = requests.get(url).text\n",
    "soup = BeautifulSoup(html, 'html.parser')\n",
    "\n",
    "resultados = []\n",
    "for video in soup.find_all('div', attrs={'class': 'yt-lockup-content'}):\n",
    "    titulo = video.find('h3', attrs={'class': 'yt-lockup-title'}).a.text\n",
    "    duracao = video.find('h3', attrs={'class': 'yt-lockup-title'}).span.text\n",
    "    url = video.find('h3', attrs={'class': 'yt-lockup-title'}).a['href']\n",
    "    resultados.append([titulo, duracao, url])\n",
    "\n",
    "videos = pd.DataFrame(resultados, columns=['Título', 'Duração', 'URL'])\n",
    "videos.head()"
   ]
  },
  {
   "cell_type": "markdown",
   "metadata": {},
   "source": [
    "1. Formatar a coluna de duração para o formato mm:ss"
   ]
  },
  {
   "cell_type": "code",
   "execution_count": null,
   "metadata": {},
   "outputs": [],
   "source": []
  },
  {
   "cell_type": "markdown",
   "metadata": {},
   "source": [
    "2. Criar duas novas colunas: Minutos, Segundos"
   ]
  },
  {
   "cell_type": "code",
   "execution_count": null,
   "metadata": {},
   "outputs": [],
   "source": []
  },
  {
   "cell_type": "markdown",
   "metadata": {},
   "source": [
    "3. Adicionar 'https://www.youtube.com' antes dos valores da coluna URL"
   ]
  },
  {
   "cell_type": "code",
   "execution_count": null,
   "metadata": {},
   "outputs": [],
   "source": []
  },
  {
   "cell_type": "markdown",
   "metadata": {},
   "source": [
    "## Exercício 3"
   ]
  },
  {
   "cell_type": "code",
   "execution_count": null,
   "metadata": {},
   "outputs": [],
   "source": [
    "import pandas as pd\n",
    "import requests\n",
    "from bs4 import BeautifulSoup\n",
    "\n",
    "url = 'https://www.google.com/search?q=ciencia+de+dados'\n",
    "\n",
    "html = requests.get(url).text\n",
    "soup = BeautifulSoup(html, 'html.parser')\n",
    "\n",
    "resultados = []\n",
    "for resultado in soup.find_all('div', attrs={'class': 'BNeawe vvjwJb AP7Wnd'}):\n",
    "    bloco = resultado.parent.parent.parent.parent\n",
    "    \n",
    "    titulo = resultado.text\n",
    "    url = bloco.a['href']\n",
    "    descricao = bloco.find('div', attrs={'class': 'BNeawe s3v9rd AP7Wnd'}).text\n",
    "    \n",
    "    resultados.append([titulo, url, descricao])\n",
    "\n",
    "buscas = pd.DataFrame(resultados, columns=['Título', 'URL', 'Descrição'])\n",
    "buscas.head()"
   ]
  },
  {
   "cell_type": "markdown",
   "metadata": {},
   "source": [
    "1. Eliminar a string \"/url?q=\" do campo URL"
   ]
  },
  {
   "cell_type": "code",
   "execution_count": null,
   "metadata": {},
   "outputs": [],
   "source": []
  }
 ],
 "metadata": {
  "kernelspec": {
   "display_name": "Python 3",
   "language": "python",
   "name": "python3"
  },
  "language_info": {
   "codemirror_mode": {
    "name": "ipython",
    "version": 3
   },
   "file_extension": ".py",
   "mimetype": "text/x-python",
   "name": "python",
   "nbconvert_exporter": "python",
   "pygments_lexer": "ipython3",
   "version": "3.7.6"
  },
  "toc": {
   "base_numbering": 1,
   "nav_menu": {},
   "number_sections": true,
   "sideBar": true,
   "skip_h1_title": false,
   "title_cell": "Table of Contents",
   "title_sidebar": "Contents",
   "toc_cell": false,
   "toc_position": {},
   "toc_section_display": true,
   "toc_window_display": false
  }
 },
 "nbformat": 4,
 "nbformat_minor": 4
}
