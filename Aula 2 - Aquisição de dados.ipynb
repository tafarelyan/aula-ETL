{
 "cells": [
  {
   "cell_type": "markdown",
   "metadata": {},
   "source": [
    "# Função Open"
   ]
  },
  {
   "cell_type": "code",
   "execution_count": 1,
   "metadata": {},
   "outputs": [
    {
     "name": "stdout",
     "output_type": "stream",
     "text": [
      "['Python é uma linguagem de programação de alto nível,[4] interpretada, de script, imperativa, orientada a objetos, funcional, de tipagem dinâmica e forte. Foi lançada por Guido van Rossum em 1991.[1] Atualmente possui um modelo de desenvolvimento comunitário, aberto e gerenciado pela organização sem fins lucrativos Python Software Foundation. Apesar de várias partes da linguagem possuírem padrões e especificações formais, a linguagem como um todo não é formalmente especificada. O padrão de facto é a implementação CPython.\\n', '\\n', 'A linguagem foi projetada com a filosofia de enfatizar a importância do esforço do programador sobre o esforço computacional. Prioriza a legibilidade do código sobre a velocidade ou expressividade. Combina uma sintaxe concisa e clara com os recursos poderosos de sua biblioteca padrão e por módulos e frameworks desenvolvidos por terceiros.\\n', '\\n', 'Python é uma linguagem de propósito geral de alto nível, multiparadigma, suporta o paradigma orientado a objetos, imperativo, funcional e procedural. Possui tipagem dinâmica e uma de suas principais características é permitir a fácil leitura do código e exigir poucas linhas de código se comparado ao mesmo programa em outras linguagens. Devido às suas características, ela é principalmente utilizada para processamento de textos, dados científicos e criação de CGIs para páginas dinâmicas para a web. Foi considerada pelo público a 3ª linguagem \"mais amada\", de acordo com uma pesquisa conduzida pelo site Stack Overflow em 2018,[5] e está entre as 5 linguagens mais populares, de acordo com uma pesquisa conduzida pela RedMonk.[6]\\n', '\\n', \"O nome Python teve a sua origem no grupo humorístico britânico Monty Python,[7] criador do programa Monty Python's Flying Circus, embora muitas pessoas façam associação com o réptil do mesmo nome (em português, píton ou pitão).\\n\", '\\n', 'Fonte: https://pt.wikipedia.org/wiki/Python']\n",
      "Python é uma linguagem de programação de alto nível,[4] interpretada, de script, imperativa, orientada a objetos, funcional, de tipagem dinâmica e forte. Foi lançada por Guido van Rossum em 1991.[1] Atualmente possui um modelo de desenvolvimento comunitário, aberto e gerenciado pela organização sem fins lucrativos Python Software Foundation. Apesar de várias partes da linguagem possuírem padrões e especificações formais, a linguagem como um todo não é formalmente especificada. O padrão de facto é a implementação CPython.\n"
     ]
    }
   ],
   "source": [
    "arquivo = open('sobrepython.txt', 'r', encoding='utf-8')\n",
    "arquivo.readlines()\n",
    "arquivo.close()\n",
    "\n",
    "with open('sobrepython.txt', 'r', encoding='utf-8') as arquivo:\n",
    "    print(arquivo.readlines())\n",
    "    \n",
    "with open('sobrepython.txt', 'r', encoding='utf-8') as arquivo:\n",
    "    resultado = arquivo.read().splitlines()\n",
    "    \n",
    "print(resultado[0])"
   ]
  },
  {
   "cell_type": "markdown",
   "metadata": {},
   "source": [
    "# Pandas"
   ]
  },
  {
   "cell_type": "markdown",
   "metadata": {},
   "source": [
    "## Series"
   ]
  },
  {
   "cell_type": "code",
   "execution_count": 2,
   "metadata": {},
   "outputs": [
    {
     "name": "stdout",
     "output_type": "stream",
     "text": [
      "0    5\n",
      "1    9\n",
      "2    3\n",
      "3    7\n",
      "dtype: int64\n",
      "Soma:  24\n",
      "Média:  6.0\n",
      "Contar 4\n"
     ]
    }
   ],
   "source": [
    "import pandas as pd\n",
    "\n",
    "notas = pd.Series([5, 9, 3, 7])\n",
    "print(notas)\n",
    "\n",
    "print('Soma: ', notas.sum())\n",
    "print('Média: ', notas.mean())\n",
    "print('Contar', notas.count())"
   ]
  },
  {
   "cell_type": "markdown",
   "metadata": {},
   "source": [
    "## Dataframe"
   ]
  },
  {
   "cell_type": "code",
   "execution_count": 3,
   "metadata": {},
   "outputs": [
    {
     "data": {
      "text/html": [
       "<div>\n",
       "<style scoped>\n",
       "    .dataframe tbody tr th:only-of-type {\n",
       "        vertical-align: middle;\n",
       "    }\n",
       "\n",
       "    .dataframe tbody tr th {\n",
       "        vertical-align: top;\n",
       "    }\n",
       "\n",
       "    .dataframe thead th {\n",
       "        text-align: right;\n",
       "    }\n",
       "</style>\n",
       "<table border=\"1\" class=\"dataframe\">\n",
       "  <thead>\n",
       "    <tr style=\"text-align: right;\">\n",
       "      <th></th>\n",
       "      <th>Nome</th>\n",
       "      <th>Notas</th>\n",
       "      <th>Faltas</th>\n",
       "    </tr>\n",
       "  </thead>\n",
       "  <tbody>\n",
       "    <tr>\n",
       "      <th>0</th>\n",
       "      <td>Suzi</td>\n",
       "      <td>5.1</td>\n",
       "      <td>1</td>\n",
       "    </tr>\n",
       "    <tr>\n",
       "      <th>1</th>\n",
       "      <td>Samuel</td>\n",
       "      <td>9.2</td>\n",
       "      <td>4</td>\n",
       "    </tr>\n",
       "    <tr>\n",
       "      <th>2</th>\n",
       "      <td>Danilo</td>\n",
       "      <td>3.8</td>\n",
       "      <td>2</td>\n",
       "    </tr>\n",
       "    <tr>\n",
       "      <th>3</th>\n",
       "      <td>Cintia</td>\n",
       "      <td>7.2</td>\n",
       "      <td>3</td>\n",
       "    </tr>\n",
       "  </tbody>\n",
       "</table>\n",
       "</div>"
      ],
      "text/plain": [
       "     Nome  Notas  Faltas\n",
       "0    Suzi    5.1       1\n",
       "1  Samuel    9.2       4\n",
       "2  Danilo    3.8       2\n",
       "3  Cintia    7.2       3"
      ]
     },
     "execution_count": 3,
     "metadata": {},
     "output_type": "execute_result"
    }
   ],
   "source": [
    "import pandas as pd\n",
    "\n",
    "dados = {\n",
    "    'Nome': ['Suzi', 'Samuel', 'Danilo', 'Cintia'],\n",
    "    'Notas': [5.1, 9.2, 3.8, 7.2],\n",
    "    'Faltas': [1, 4, 2, 3]\n",
    "}\n",
    "\n",
    "df = pd.DataFrame(dados)\n",
    "df"
   ]
  },
  {
   "cell_type": "code",
   "execution_count": 4,
   "metadata": {},
   "outputs": [
    {
     "name": "stdout",
     "output_type": "stream",
     "text": [
      "Index(['Nome', 'Notas', 'Faltas'], dtype='object')\n",
      "\n",
      "Nome       object\n",
      "Notas     float64\n",
      "Faltas      int64\n",
      "dtype: object\n",
      "\n",
      "0    5.1\n",
      "1    9.2\n",
      "2    3.8\n",
      "3    7.2\n",
      "Name: Notas, dtype: float64\n",
      "\n",
      "     Nome  Notas\n",
      "0    Suzi    5.1\n",
      "1  Samuel    9.2\n",
      "2  Danilo    3.8\n",
      "3  Cintia    7.2\n",
      "\n",
      "Notas     25.3\n",
      "Faltas    10.0\n",
      "dtype: float64\n"
     ]
    },
    {
     "data": {
      "text/plain": [
       "10"
      ]
     },
     "execution_count": 4,
     "metadata": {},
     "output_type": "execute_result"
    }
   ],
   "source": [
    "print(df.columns)\n",
    "print()\n",
    "\n",
    "print(df.dtypes)\n",
    "print()\n",
    "\n",
    "print(df['Notas'])\n",
    "print()\n",
    "\n",
    "colunas = ['Nome', 'Notas']\n",
    "print(df[colunas])\n",
    "print()\n",
    "\n",
    "colunas = ['Notas', 'Faltas']\n",
    "print(df[colunas].sum())\n",
    "int(df[colunas].sum()['Faltas'])"
   ]
  },
  {
   "cell_type": "markdown",
   "metadata": {},
   "source": [
    "## Ordenando valores"
   ]
  },
  {
   "cell_type": "code",
   "execution_count": 5,
   "metadata": {},
   "outputs": [
    {
     "data": {
      "text/html": [
       "<div>\n",
       "<style scoped>\n",
       "    .dataframe tbody tr th:only-of-type {\n",
       "        vertical-align: middle;\n",
       "    }\n",
       "\n",
       "    .dataframe tbody tr th {\n",
       "        vertical-align: top;\n",
       "    }\n",
       "\n",
       "    .dataframe thead th {\n",
       "        text-align: right;\n",
       "    }\n",
       "</style>\n",
       "<table border=\"1\" class=\"dataframe\">\n",
       "  <thead>\n",
       "    <tr style=\"text-align: right;\">\n",
       "      <th></th>\n",
       "      <th>Nome</th>\n",
       "      <th>Notas</th>\n",
       "      <th>Faltas</th>\n",
       "    </tr>\n",
       "  </thead>\n",
       "  <tbody>\n",
       "    <tr>\n",
       "      <th>1</th>\n",
       "      <td>Samuel</td>\n",
       "      <td>9.2</td>\n",
       "      <td>4</td>\n",
       "    </tr>\n",
       "    <tr>\n",
       "      <th>3</th>\n",
       "      <td>Cintia</td>\n",
       "      <td>7.2</td>\n",
       "      <td>3</td>\n",
       "    </tr>\n",
       "    <tr>\n",
       "      <th>0</th>\n",
       "      <td>Suzi</td>\n",
       "      <td>5.1</td>\n",
       "      <td>1</td>\n",
       "    </tr>\n",
       "    <tr>\n",
       "      <th>2</th>\n",
       "      <td>Danilo</td>\n",
       "      <td>3.8</td>\n",
       "      <td>2</td>\n",
       "    </tr>\n",
       "  </tbody>\n",
       "</table>\n",
       "</div>"
      ],
      "text/plain": [
       "     Nome  Notas  Faltas\n",
       "1  Samuel    9.2       4\n",
       "3  Cintia    7.2       3\n",
       "0    Suzi    5.1       1\n",
       "2  Danilo    3.8       2"
      ]
     },
     "execution_count": 5,
     "metadata": {},
     "output_type": "execute_result"
    }
   ],
   "source": [
    "df.sort_values(by='Notas', ascending=False)"
   ]
  },
  {
   "cell_type": "markdown",
   "metadata": {},
   "source": [
    "## Operações de filtro"
   ]
  },
  {
   "cell_type": "code",
   "execution_count": 6,
   "metadata": {},
   "outputs": [
    {
     "data": {
      "text/html": [
       "<div>\n",
       "<style scoped>\n",
       "    .dataframe tbody tr th:only-of-type {\n",
       "        vertical-align: middle;\n",
       "    }\n",
       "\n",
       "    .dataframe tbody tr th {\n",
       "        vertical-align: top;\n",
       "    }\n",
       "\n",
       "    .dataframe thead th {\n",
       "        text-align: right;\n",
       "    }\n",
       "</style>\n",
       "<table border=\"1\" class=\"dataframe\">\n",
       "  <thead>\n",
       "    <tr style=\"text-align: right;\">\n",
       "      <th></th>\n",
       "      <th>Nome</th>\n",
       "      <th>Notas</th>\n",
       "      <th>Faltas</th>\n",
       "    </tr>\n",
       "  </thead>\n",
       "  <tbody>\n",
       "    <tr>\n",
       "      <th>0</th>\n",
       "      <td>Suzi</td>\n",
       "      <td>5.1</td>\n",
       "      <td>1</td>\n",
       "    </tr>\n",
       "    <tr>\n",
       "      <th>1</th>\n",
       "      <td>Samuel</td>\n",
       "      <td>9.2</td>\n",
       "      <td>4</td>\n",
       "    </tr>\n",
       "    <tr>\n",
       "      <th>3</th>\n",
       "      <td>Cintia</td>\n",
       "      <td>7.2</td>\n",
       "      <td>3</td>\n",
       "    </tr>\n",
       "  </tbody>\n",
       "</table>\n",
       "</div>"
      ],
      "text/plain": [
       "     Nome  Notas  Faltas\n",
       "0    Suzi    5.1       1\n",
       "1  Samuel    9.2       4\n",
       "3  Cintia    7.2       3"
      ]
     },
     "execution_count": 6,
     "metadata": {},
     "output_type": "execute_result"
    }
   ],
   "source": [
    "# & = and\n",
    "# | = or\n",
    "df[\n",
    "    (df['Notas'] > 6) | (df['Faltas'] < 2)\n",
    "]"
   ]
  },
  {
   "cell_type": "markdown",
   "metadata": {},
   "source": [
    "# Leitura de dados"
   ]
  },
  {
   "cell_type": "markdown",
   "metadata": {},
   "source": [
    "## read_csv"
   ]
  },
  {
   "cell_type": "code",
   "execution_count": 7,
   "metadata": {},
   "outputs": [
    {
     "data": {
      "text/html": [
       "<div>\n",
       "<style scoped>\n",
       "    .dataframe tbody tr th:only-of-type {\n",
       "        vertical-align: middle;\n",
       "    }\n",
       "\n",
       "    .dataframe tbody tr th {\n",
       "        vertical-align: top;\n",
       "    }\n",
       "\n",
       "    .dataframe thead th {\n",
       "        text-align: right;\n",
       "    }\n",
       "</style>\n",
       "<table border=\"1\" class=\"dataframe\">\n",
       "  <thead>\n",
       "    <tr style=\"text-align: right;\">\n",
       "      <th></th>\n",
       "      <th>Date</th>\n",
       "      <th>Open</th>\n",
       "      <th>High</th>\n",
       "      <th>Low</th>\n",
       "      <th>Close</th>\n",
       "      <th>Adj Close</th>\n",
       "      <th>Volume</th>\n",
       "    </tr>\n",
       "  </thead>\n",
       "  <tbody>\n",
       "    <tr>\n",
       "      <th>0</th>\n",
       "      <td>2016-03-01</td>\n",
       "      <td>97.650002</td>\n",
       "      <td>100.769997</td>\n",
       "      <td>97.419998</td>\n",
       "      <td>100.529999</td>\n",
       "      <td>94.228645</td>\n",
       "      <td>50407100</td>\n",
       "    </tr>\n",
       "    <tr>\n",
       "      <th>1</th>\n",
       "      <td>2016-03-02</td>\n",
       "      <td>100.510002</td>\n",
       "      <td>100.889999</td>\n",
       "      <td>99.639999</td>\n",
       "      <td>100.750000</td>\n",
       "      <td>94.434853</td>\n",
       "      <td>33169600</td>\n",
       "    </tr>\n",
       "    <tr>\n",
       "      <th>2</th>\n",
       "      <td>2016-03-03</td>\n",
       "      <td>100.580002</td>\n",
       "      <td>101.709999</td>\n",
       "      <td>100.449997</td>\n",
       "      <td>101.500000</td>\n",
       "      <td>95.137848</td>\n",
       "      <td>36955700</td>\n",
       "    </tr>\n",
       "    <tr>\n",
       "      <th>3</th>\n",
       "      <td>2016-03-04</td>\n",
       "      <td>102.370003</td>\n",
       "      <td>103.750000</td>\n",
       "      <td>101.370003</td>\n",
       "      <td>103.010002</td>\n",
       "      <td>96.553185</td>\n",
       "      <td>46055100</td>\n",
       "    </tr>\n",
       "    <tr>\n",
       "      <th>4</th>\n",
       "      <td>2016-03-07</td>\n",
       "      <td>102.389999</td>\n",
       "      <td>102.830002</td>\n",
       "      <td>100.959999</td>\n",
       "      <td>101.870003</td>\n",
       "      <td>95.484657</td>\n",
       "      <td>35828900</td>\n",
       "    </tr>\n",
       "  </tbody>\n",
       "</table>\n",
       "</div>"
      ],
      "text/plain": [
       "         Date        Open        High         Low       Close  Adj Close  \\\n",
       "0  2016-03-01   97.650002  100.769997   97.419998  100.529999  94.228645   \n",
       "1  2016-03-02  100.510002  100.889999   99.639999  100.750000  94.434853   \n",
       "2  2016-03-03  100.580002  101.709999  100.449997  101.500000  95.137848   \n",
       "3  2016-03-04  102.370003  103.750000  101.370003  103.010002  96.553185   \n",
       "4  2016-03-07  102.389999  102.830002  100.959999  101.870003  95.484657   \n",
       "\n",
       "     Volume  \n",
       "0  50407100  \n",
       "1  33169600  \n",
       "2  36955700  \n",
       "3  46055100  \n",
       "4  35828900  "
      ]
     },
     "execution_count": 7,
     "metadata": {},
     "output_type": "execute_result"
    }
   ],
   "source": [
    "import pandas as pd\n",
    "\n",
    "df = pd.read_csv('AAPL.csv', sep=',')\n",
    "df.head()"
   ]
  },
  {
   "cell_type": "markdown",
   "metadata": {},
   "source": [
    "## read_csv (arquivos zip)"
   ]
  },
  {
   "cell_type": "code",
   "execution_count": 8,
   "metadata": {},
   "outputs": [
    {
     "data": {
      "text/html": [
       "<div>\n",
       "<style scoped>\n",
       "    .dataframe tbody tr th:only-of-type {\n",
       "        vertical-align: middle;\n",
       "    }\n",
       "\n",
       "    .dataframe tbody tr th {\n",
       "        vertical-align: top;\n",
       "    }\n",
       "\n",
       "    .dataframe thead th {\n",
       "        text-align: right;\n",
       "    }\n",
       "</style>\n",
       "<table border=\"1\" class=\"dataframe\">\n",
       "  <thead>\n",
       "    <tr style=\"text-align: right;\">\n",
       "      <th></th>\n",
       "      <th>dominio</th>\n",
       "      <th>documento</th>\n",
       "      <th>nome</th>\n",
       "      <th>uf</th>\n",
       "      <th>cidade</th>\n",
       "      <th>cep</th>\n",
       "      <th>data_cadastro</th>\n",
       "      <th>ultima_atualizacao</th>\n",
       "      <th>ticket</th>\n",
       "    </tr>\n",
       "  </thead>\n",
       "  <tbody>\n",
       "    <tr>\n",
       "      <th>0</th>\n",
       "      <td>eletrobras.gov.br</td>\n",
       "      <td>000.001.180/0002-07</td>\n",
       "      <td>CENTRAIS ELETRICAS BRASILEIRAS SA</td>\n",
       "      <td>RJ</td>\n",
       "      <td>Rio de Janeiro</td>\n",
       "      <td>20071-003</td>\n",
       "      <td>1996-01-09 12:00:00</td>\n",
       "      <td>2014-07-02 19:56:36</td>\n",
       "      <td>5023</td>\n",
       "    </tr>\n",
       "    <tr>\n",
       "      <th>1</th>\n",
       "      <td>premioconservacaoenergia.gov.br</td>\n",
       "      <td>000.001.180/0002-07</td>\n",
       "      <td>CENTRAIS ELETRICAS BRASILEIRAS SA</td>\n",
       "      <td>RJ</td>\n",
       "      <td>Rio de Janeiro</td>\n",
       "      <td>20071-003</td>\n",
       "      <td>2009-03-24 20:07:14</td>\n",
       "      <td>2013-04-15 21:36:17</td>\n",
       "      <td>5379045</td>\n",
       "    </tr>\n",
       "    <tr>\n",
       "      <th>2</th>\n",
       "      <td>procel.gov.br</td>\n",
       "      <td>000.001.180/0002-07</td>\n",
       "      <td>CENTRAIS ELETRICAS BRASILEIRAS SA</td>\n",
       "      <td>RJ</td>\n",
       "      <td>Rio de Janeiro</td>\n",
       "      <td>20071-003</td>\n",
       "      <td>2000-11-06 18:41:03</td>\n",
       "      <td>2009-10-05 18:54:36</td>\n",
       "      <td>453438</td>\n",
       "    </tr>\n",
       "    <tr>\n",
       "      <th>3</th>\n",
       "      <td>proinfa.gov.br</td>\n",
       "      <td>000.001.180/0002-07</td>\n",
       "      <td>CENTRAIS ELETRICAS BRASILEIRAS SA</td>\n",
       "      <td>RJ</td>\n",
       "      <td>Rio de Janeiro</td>\n",
       "      <td>20071-003</td>\n",
       "      <td>2002-04-18 14:55:25</td>\n",
       "      <td>2013-04-15 21:36:41</td>\n",
       "      <td>784297</td>\n",
       "    </tr>\n",
       "    <tr>\n",
       "      <th>4</th>\n",
       "      <td>reluz.gov.br</td>\n",
       "      <td>000.001.180/0002-07</td>\n",
       "      <td>CENTRAIS ELETRICAS BRASILEIRAS SA</td>\n",
       "      <td>RJ</td>\n",
       "      <td>Rio de Janeiro</td>\n",
       "      <td>20071-003</td>\n",
       "      <td>2000-11-06 18:41:04</td>\n",
       "      <td>2009-10-05 18:35:49</td>\n",
       "      <td>453442</td>\n",
       "    </tr>\n",
       "  </tbody>\n",
       "</table>\n",
       "</div>"
      ],
      "text/plain": [
       "                           dominio            documento  \\\n",
       "0                eletrobras.gov.br  000.001.180/0002-07   \n",
       "1  premioconservacaoenergia.gov.br  000.001.180/0002-07   \n",
       "2                    procel.gov.br  000.001.180/0002-07   \n",
       "3                   proinfa.gov.br  000.001.180/0002-07   \n",
       "4                     reluz.gov.br  000.001.180/0002-07   \n",
       "\n",
       "                                nome  uf          cidade        cep  \\\n",
       "0  CENTRAIS ELETRICAS BRASILEIRAS SA  RJ  Rio de Janeiro  20071-003   \n",
       "1  CENTRAIS ELETRICAS BRASILEIRAS SA  RJ  Rio de Janeiro  20071-003   \n",
       "2  CENTRAIS ELETRICAS BRASILEIRAS SA  RJ  Rio de Janeiro  20071-003   \n",
       "3  CENTRAIS ELETRICAS BRASILEIRAS SA  RJ  Rio de Janeiro  20071-003   \n",
       "4  CENTRAIS ELETRICAS BRASILEIRAS SA  RJ  Rio de Janeiro  20071-003   \n",
       "\n",
       "         data_cadastro   ultima_atualizacao   ticket  \n",
       "0  1996-01-09 12:00:00  2014-07-02 19:56:36     5023  \n",
       "1  2009-03-24 20:07:14  2013-04-15 21:36:17  5379045  \n",
       "2  2000-11-06 18:41:03  2009-10-05 18:54:36   453438  \n",
       "3  2002-04-18 14:55:25  2013-04-15 21:36:41   784297  \n",
       "4  2000-11-06 18:41:04  2009-10-05 18:35:49   453442  "
      ]
     },
     "execution_count": 8,
     "metadata": {},
     "output_type": "execute_result"
    }
   ],
   "source": [
    "import pandas as pd\n",
    "\n",
    "df = pd.read_csv('Dominios_GovBR_basico.zip', compression='zip', sep=';', encoding='latin1')\n",
    "df.head()"
   ]
  },
  {
   "cell_type": "markdown",
   "metadata": {},
   "source": [
    "## read_excel"
   ]
  },
  {
   "cell_type": "code",
   "execution_count": 9,
   "metadata": {},
   "outputs": [
    {
     "data": {
      "text/html": [
       "<div>\n",
       "<style scoped>\n",
       "    .dataframe tbody tr th:only-of-type {\n",
       "        vertical-align: middle;\n",
       "    }\n",
       "\n",
       "    .dataframe tbody tr th {\n",
       "        vertical-align: top;\n",
       "    }\n",
       "\n",
       "    .dataframe thead th {\n",
       "        text-align: right;\n",
       "    }\n",
       "</style>\n",
       "<table border=\"1\" class=\"dataframe\">\n",
       "  <thead>\n",
       "    <tr style=\"text-align: right;\">\n",
       "      <th></th>\n",
       "      <th>Date</th>\n",
       "      <th>Open</th>\n",
       "      <th>High</th>\n",
       "      <th>Low</th>\n",
       "      <th>Close</th>\n",
       "      <th>Adj Close</th>\n",
       "      <th>Volume</th>\n",
       "    </tr>\n",
       "  </thead>\n",
       "  <tbody>\n",
       "    <tr>\n",
       "      <th>0</th>\n",
       "      <td>2016-03-01</td>\n",
       "      <td>97.650002</td>\n",
       "      <td>100.769997</td>\n",
       "      <td>97.419998</td>\n",
       "      <td>100.529999</td>\n",
       "      <td>94.228645</td>\n",
       "      <td>50407100</td>\n",
       "    </tr>\n",
       "    <tr>\n",
       "      <th>1</th>\n",
       "      <td>2016-03-02</td>\n",
       "      <td>100.510002</td>\n",
       "      <td>100.889999</td>\n",
       "      <td>99.639999</td>\n",
       "      <td>100.750000</td>\n",
       "      <td>94.434853</td>\n",
       "      <td>33169600</td>\n",
       "    </tr>\n",
       "    <tr>\n",
       "      <th>2</th>\n",
       "      <td>2016-03-03</td>\n",
       "      <td>100.580002</td>\n",
       "      <td>101.709999</td>\n",
       "      <td>100.449997</td>\n",
       "      <td>101.500000</td>\n",
       "      <td>95.137848</td>\n",
       "      <td>36955700</td>\n",
       "    </tr>\n",
       "    <tr>\n",
       "      <th>3</th>\n",
       "      <td>2016-03-04</td>\n",
       "      <td>102.370003</td>\n",
       "      <td>103.750000</td>\n",
       "      <td>101.370003</td>\n",
       "      <td>103.010002</td>\n",
       "      <td>96.553185</td>\n",
       "      <td>46055100</td>\n",
       "    </tr>\n",
       "    <tr>\n",
       "      <th>4</th>\n",
       "      <td>2016-03-07</td>\n",
       "      <td>102.389999</td>\n",
       "      <td>102.830002</td>\n",
       "      <td>100.959999</td>\n",
       "      <td>101.870003</td>\n",
       "      <td>95.484657</td>\n",
       "      <td>35828900</td>\n",
       "    </tr>\n",
       "  </tbody>\n",
       "</table>\n",
       "</div>"
      ],
      "text/plain": [
       "         Date        Open        High         Low       Close  Adj Close  \\\n",
       "0  2016-03-01   97.650002  100.769997   97.419998  100.529999  94.228645   \n",
       "1  2016-03-02  100.510002  100.889999   99.639999  100.750000  94.434853   \n",
       "2  2016-03-03  100.580002  101.709999  100.449997  101.500000  95.137848   \n",
       "3  2016-03-04  102.370003  103.750000  101.370003  103.010002  96.553185   \n",
       "4  2016-03-07  102.389999  102.830002  100.959999  101.870003  95.484657   \n",
       "\n",
       "     Volume  \n",
       "0  50407100  \n",
       "1  33169600  \n",
       "2  36955700  \n",
       "3  46055100  \n",
       "4  35828900  "
      ]
     },
     "execution_count": 9,
     "metadata": {},
     "output_type": "execute_result"
    }
   ],
   "source": [
    "import pandas as pd\n",
    "\n",
    "df = pd.read_excel('acoes.xlsx', sheet_name='apple')\n",
    "df.head()"
   ]
  },
  {
   "cell_type": "markdown",
   "metadata": {},
   "source": [
    "## read_json"
   ]
  },
  {
   "cell_type": "code",
   "execution_count": 10,
   "metadata": {},
   "outputs": [
    {
     "data": {
      "text/html": [
       "<div>\n",
       "<style scoped>\n",
       "    .dataframe tbody tr th:only-of-type {\n",
       "        vertical-align: middle;\n",
       "    }\n",
       "\n",
       "    .dataframe tbody tr th {\n",
       "        vertical-align: top;\n",
       "    }\n",
       "\n",
       "    .dataframe thead th {\n",
       "        text-align: right;\n",
       "    }\n",
       "</style>\n",
       "<table border=\"1\" class=\"dataframe\">\n",
       "  <thead>\n",
       "    <tr style=\"text-align: right;\">\n",
       "      <th></th>\n",
       "      <th>title</th>\n",
       "      <th>year</th>\n",
       "      <th>cast</th>\n",
       "      <th>genres</th>\n",
       "    </tr>\n",
       "  </thead>\n",
       "  <tbody>\n",
       "    <tr>\n",
       "      <th>18662</th>\n",
       "      <td>Jonathan Livingston Seagull</td>\n",
       "      <td>1973</td>\n",
       "      <td>[James Franciscus, Juliet Mills]</td>\n",
       "      <td>[]</td>\n",
       "    </tr>\n",
       "    <tr>\n",
       "      <th>6502</th>\n",
       "      <td>You Said a Mouthful</td>\n",
       "      <td>1932</td>\n",
       "      <td>[Joe E. Brown, Ginger Rogers]</td>\n",
       "      <td>[Comedy]</td>\n",
       "    </tr>\n",
       "    <tr>\n",
       "      <th>1379</th>\n",
       "      <td>His Wife's Friend</td>\n",
       "      <td>1919</td>\n",
       "      <td>[Dorothy Dalton, Warren Cook]</td>\n",
       "      <td>[Mystery]</td>\n",
       "    </tr>\n",
       "    <tr>\n",
       "      <th>19525</th>\n",
       "      <td>Rich Kids</td>\n",
       "      <td>1979</td>\n",
       "      <td>[Trini Alvarado, Jeremy Levy, John Lithgow]</td>\n",
       "      <td>[Comedy]</td>\n",
       "    </tr>\n",
       "    <tr>\n",
       "      <th>2291</th>\n",
       "      <td>Monte Cristo</td>\n",
       "      <td>1922</td>\n",
       "      <td>[John Gilbert, Estelle Taylor]</td>\n",
       "      <td>[Historical]</td>\n",
       "    </tr>\n",
       "    <tr>\n",
       "      <th>20971</th>\n",
       "      <td>Uncle Meat</td>\n",
       "      <td>1987</td>\n",
       "      <td>[Frank Zappa, Linda Ronstadt, Haskell Wexler]</td>\n",
       "      <td>[Documentary]</td>\n",
       "    </tr>\n",
       "    <tr>\n",
       "      <th>756</th>\n",
       "      <td>Ragtime Snap Shots</td>\n",
       "      <td>1915</td>\n",
       "      <td>[Harold Lloyd]</td>\n",
       "      <td>[]</td>\n",
       "    </tr>\n",
       "    <tr>\n",
       "      <th>1644</th>\n",
       "      <td>The Thunderbolt</td>\n",
       "      <td>1919</td>\n",
       "      <td>[Katherine MacDonald, Thomas Meighan]</td>\n",
       "      <td>[Drama]</td>\n",
       "    </tr>\n",
       "    <tr>\n",
       "      <th>23476</th>\n",
       "      <td>Common Bonds</td>\n",
       "      <td>1997</td>\n",
       "      <td>[]</td>\n",
       "      <td>[]</td>\n",
       "    </tr>\n",
       "    <tr>\n",
       "      <th>21821</th>\n",
       "      <td>Barton Fink</td>\n",
       "      <td>1991</td>\n",
       "      <td>[John Turturro, John Goodman, John Mahoney, Ju...</td>\n",
       "      <td>[Drama]</td>\n",
       "    </tr>\n",
       "  </tbody>\n",
       "</table>\n",
       "</div>"
      ],
      "text/plain": [
       "                             title  year  \\\n",
       "18662  Jonathan Livingston Seagull  1973   \n",
       "6502           You Said a Mouthful  1932   \n",
       "1379             His Wife's Friend  1919   \n",
       "19525                    Rich Kids  1979   \n",
       "2291                  Monte Cristo  1922   \n",
       "20971                   Uncle Meat  1987   \n",
       "756             Ragtime Snap Shots  1915   \n",
       "1644               The Thunderbolt  1919   \n",
       "23476                 Common Bonds  1997   \n",
       "21821                  Barton Fink  1991   \n",
       "\n",
       "                                                    cast         genres  \n",
       "18662                   [James Franciscus, Juliet Mills]             []  \n",
       "6502                       [Joe E. Brown, Ginger Rogers]       [Comedy]  \n",
       "1379                       [Dorothy Dalton, Warren Cook]      [Mystery]  \n",
       "19525        [Trini Alvarado, Jeremy Levy, John Lithgow]       [Comedy]  \n",
       "2291                      [John Gilbert, Estelle Taylor]   [Historical]  \n",
       "20971      [Frank Zappa, Linda Ronstadt, Haskell Wexler]  [Documentary]  \n",
       "756                                       [Harold Lloyd]             []  \n",
       "1644               [Katherine MacDonald, Thomas Meighan]        [Drama]  \n",
       "23476                                                 []             []  \n",
       "21821  [John Turturro, John Goodman, John Mahoney, Ju...        [Drama]  "
      ]
     },
     "execution_count": 10,
     "metadata": {},
     "output_type": "execute_result"
    }
   ],
   "source": [
    "import pandas as pd\n",
    "\n",
    "filmes = pd.read_json('https://raw.githubusercontent.com/prust/wikipedia-movie-data/master/movies.json')\n",
    "filmes.sample(10)"
   ]
  },
  {
   "cell_type": "markdown",
   "metadata": {},
   "source": [
    "### Agrupando valores"
   ]
  },
  {
   "cell_type": "code",
   "execution_count": 11,
   "metadata": {},
   "outputs": [
    {
     "data": {
      "text/html": [
       "<div>\n",
       "<style scoped>\n",
       "    .dataframe tbody tr th:only-of-type {\n",
       "        vertical-align: middle;\n",
       "    }\n",
       "\n",
       "    .dataframe tbody tr th {\n",
       "        vertical-align: top;\n",
       "    }\n",
       "\n",
       "    .dataframe thead th {\n",
       "        text-align: right;\n",
       "    }\n",
       "</style>\n",
       "<table border=\"1\" class=\"dataframe\">\n",
       "  <thead>\n",
       "    <tr style=\"text-align: right;\">\n",
       "      <th></th>\n",
       "      <th>title</th>\n",
       "      <th>cast</th>\n",
       "      <th>genres</th>\n",
       "    </tr>\n",
       "    <tr>\n",
       "      <th>year</th>\n",
       "      <th></th>\n",
       "      <th></th>\n",
       "      <th></th>\n",
       "    </tr>\n",
       "  </thead>\n",
       "  <tbody>\n",
       "    <tr>\n",
       "      <th>1900</th>\n",
       "      <td>17</td>\n",
       "      <td>17</td>\n",
       "      <td>17</td>\n",
       "    </tr>\n",
       "    <tr>\n",
       "      <th>1901</th>\n",
       "      <td>80</td>\n",
       "      <td>80</td>\n",
       "      <td>80</td>\n",
       "    </tr>\n",
       "    <tr>\n",
       "      <th>1902</th>\n",
       "      <td>7</td>\n",
       "      <td>7</td>\n",
       "      <td>7</td>\n",
       "    </tr>\n",
       "    <tr>\n",
       "      <th>1903</th>\n",
       "      <td>78</td>\n",
       "      <td>78</td>\n",
       "      <td>78</td>\n",
       "    </tr>\n",
       "    <tr>\n",
       "      <th>1904</th>\n",
       "      <td>25</td>\n",
       "      <td>25</td>\n",
       "      <td>25</td>\n",
       "    </tr>\n",
       "    <tr>\n",
       "      <th>...</th>\n",
       "      <td>...</td>\n",
       "      <td>...</td>\n",
       "      <td>...</td>\n",
       "    </tr>\n",
       "    <tr>\n",
       "      <th>2014</th>\n",
       "      <td>214</td>\n",
       "      <td>214</td>\n",
       "      <td>214</td>\n",
       "    </tr>\n",
       "    <tr>\n",
       "      <th>2015</th>\n",
       "      <td>130</td>\n",
       "      <td>130</td>\n",
       "      <td>130</td>\n",
       "    </tr>\n",
       "    <tr>\n",
       "      <th>2016</th>\n",
       "      <td>143</td>\n",
       "      <td>143</td>\n",
       "      <td>143</td>\n",
       "    </tr>\n",
       "    <tr>\n",
       "      <th>2017</th>\n",
       "      <td>238</td>\n",
       "      <td>238</td>\n",
       "      <td>238</td>\n",
       "    </tr>\n",
       "    <tr>\n",
       "      <th>2018</th>\n",
       "      <td>236</td>\n",
       "      <td>236</td>\n",
       "      <td>236</td>\n",
       "    </tr>\n",
       "  </tbody>\n",
       "</table>\n",
       "<p>119 rows × 3 columns</p>\n",
       "</div>"
      ],
      "text/plain": [
       "      title  cast  genres\n",
       "year                     \n",
       "1900     17    17      17\n",
       "1901     80    80      80\n",
       "1902      7     7       7\n",
       "1903     78    78      78\n",
       "1904     25    25      25\n",
       "...     ...   ...     ...\n",
       "2014    214   214     214\n",
       "2015    130   130     130\n",
       "2016    143   143     143\n",
       "2017    238   238     238\n",
       "2018    236   236     236\n",
       "\n",
       "[119 rows x 3 columns]"
      ]
     },
     "execution_count": 11,
     "metadata": {},
     "output_type": "execute_result"
    }
   ],
   "source": [
    "filmes.groupby('year').count()"
   ]
  },
  {
   "cell_type": "markdown",
   "metadata": {},
   "source": [
    "# Webscraping"
   ]
  },
  {
   "cell_type": "markdown",
   "metadata": {},
   "source": [
    "## Exemplo 1 (Youtube)"
   ]
  },
  {
   "cell_type": "code",
   "execution_count": 15,
   "metadata": {},
   "outputs": [
    {
     "name": "stdout",
     "output_type": "stream",
     "text": [
      "ciencia de dados - YouTube\n"
     ]
    }
   ],
   "source": [
    "# Importando as bibliotecas\n",
    "import requests\n",
    "from bs4 import BeautifulSoup\n",
    "\n",
    "# Encontrar a URL\n",
    "url = 'https://www.youtube.com/results?search_query=ciencia+de+dados'\n",
    "\n",
    "# Contruir um objeto soup a partir da URL\n",
    "html = requests.get(url).text\n",
    "soup = BeautifulSoup(html, 'html.parser')\n",
    "print(soup.find('title').text)\n",
    "\n",
    "# Inspecionar a página"
   ]
  },
  {
   "cell_type": "markdown",
   "metadata": {},
   "source": [
    "### Achando o primeiro bloco do site"
   ]
  },
  {
   "cell_type": "code",
   "execution_count": 16,
   "metadata": {},
   "outputs": [],
   "source": [
    "# O primeiro vídeo do site é \"O que é ciência de dados | Nerdologia Tech\"\n",
    "soup.prettify()"
   ]
  },
  {
   "cell_type": "code",
   "execution_count": 17,
   "metadata": {},
   "outputs": [
    {
     "name": "stdout",
     "output_type": "stream",
     "text": [
      "<h3 class=\"yt-lockup-title\">\n",
      " <a aria-describedby=\"description-id-523755\" class=\"yt-uix-tile-link yt-ui-ellipsis yt-ui-ellipsis-2 yt-uix-sessionlink spf-link\" data-sessionlink=\"itct=CFgQ3DAYACITCIfc16D5n-kCFconkAodJYYEtTIGc2VhcmNoUhBjaWVuY2lhIGRlIGRhZG9zmgEDEPQk\" dir=\"ltr\" href=\"/watch?v=ykSILAQQu6o\" rel=\"spf-prefetch\" title=\"O que é ciência de dados | Nerdologia Tech\">\n",
      "  O que é ciência de dados | Nerdologia Tech\n",
      " </a>\n",
      " <span class=\"accessible-description\" id=\"description-id-523755\">\n",
      "  - Duração: 9:30.\n",
      " </span>\n",
      "</h3>\n",
      "\n"
     ]
    }
   ],
   "source": [
    "# Dar Ctrl-F no resultado de soup.prettify() para achar o título \"O que é ciência de dados | Nerdologia Tech\"\n",
    "# Achar a tag h3 nomeado com a classe yt-lockup-title\n",
    "titulo = soup.find('h3', attrs={'class': 'yt-lockup-title'})\n",
    "print(titulo.prettify())\n",
    "\n",
    "# Às vezes a página pode conter anúncios, então o primeiro elemento não vai ser o que queremos\n",
    "# Nesse caso, só rodar o código do BeautifulSoup desde o início"
   ]
  },
  {
   "cell_type": "code",
   "execution_count": 18,
   "metadata": {},
   "outputs": [
    {
     "name": "stdout",
     "output_type": "stream",
     "text": [
      "<div class=\"yt-lockup-content\">\n",
      " <h3 class=\"yt-lockup-title\">\n",
      "  <a aria-describedby=\"description-id-523755\" class=\"yt-uix-tile-link yt-ui-ellipsis yt-ui-ellipsis-2 yt-uix-sessionlink spf-link\" data-sessionlink=\"itct=CFgQ3DAYACITCIfc16D5n-kCFconkAodJYYEtTIGc2VhcmNoUhBjaWVuY2lhIGRlIGRhZG9zmgEDEPQk\" dir=\"ltr\" href=\"/watch?v=ykSILAQQu6o\" rel=\"spf-prefetch\" title=\"O que é ciência de dados | Nerdologia Tech\">\n",
      "   O que é ciência de dados | Nerdologia Tech\n",
      "  </a>\n",
      "  <span class=\"accessible-description\" id=\"description-id-523755\">\n",
      "   - Duração: 9:30.\n",
      "  </span>\n",
      " </h3>\n",
      " <div class=\"yt-lockup-byline\">\n",
      "  <a class=\"yt-uix-sessionlink spf-link\" data-sessionlink=\"itct=CFgQ3DAYACITCIfc16D5n-kCFconkAodJYYEtQ\" href=\"/user/nerdologia\">\n",
      "   Nerdologia\n",
      "  </a>\n",
      "  <span class=\"yt-uix-tooltip yt-channel-title-icon-verified yt-sprite\" title=\"Verificado\">\n",
      "  </span>\n",
      " </div>\n",
      " <div class=\"yt-lockup-meta\">\n",
      "  <ul class=\"yt-lockup-meta-info\">\n",
      "   <li>\n",
      "    há 1 ano\n",
      "   </li>\n",
      "   <li>\n",
      "    279.027 visualizações\n",
      "   </li>\n",
      "  </ul>\n",
      " </div>\n",
      " <div class=\"yt-lockup-description yt-ui-ellipsis yt-ui-ellipsis-2\" dir=\"ltr\">\n",
      "  ESTE NERDOLOGIA É UM OFERECIMENTO DA ALURA Acesse e aproveite a promoção da Alura com o Nerdologia Tech: ...\n",
      " </div>\n",
      "</div>\n"
     ]
    }
   ],
   "source": [
    "# Achar o bloco mãe (parent), o bloco que engloba todo o vídeo\n",
    "bloco = titulo.parent\n",
    "print(bloco.prettify())\n",
    "\n",
    "# Anotar as caracterísitcas do bloco mãe e utilizar no código final"
   ]
  },
  {
   "cell_type": "markdown",
   "metadata": {},
   "source": [
    "### Montado o código"
   ]
  },
  {
   "cell_type": "code",
   "execution_count": 19,
   "metadata": {},
   "outputs": [
    {
     "data": {
      "text/plain": [
       "['O que é ciência de dados | Nerdologia Tech',\n",
       " ' - Duração: 9:30.',\n",
       " '/watch?v=ykSILAQQu6o']"
      ]
     },
     "execution_count": 19,
     "metadata": {},
     "output_type": "execute_result"
    }
   ],
   "source": [
    "videos = []\n",
    "for video in soup.find_all('div', attrs={'class': 'yt-lockup-content'}):\n",
    "    titulo = video.find('h3', attrs={'class': 'yt-lockup-title'}).a.text\n",
    "    duracao = video.find('h3', attrs={'class': 'yt-lockup-title'}).span.text\n",
    "    url = video.find('h3', attrs={'class': 'yt-lockup-title'}).a['href']\n",
    "    videos.append([titulo, duracao, url])\n",
    "\n",
    "videos[0]"
   ]
  },
  {
   "cell_type": "code",
   "execution_count": 20,
   "metadata": {},
   "outputs": [
    {
     "data": {
      "text/html": [
       "<div>\n",
       "<style scoped>\n",
       "    .dataframe tbody tr th:only-of-type {\n",
       "        vertical-align: middle;\n",
       "    }\n",
       "\n",
       "    .dataframe tbody tr th {\n",
       "        vertical-align: top;\n",
       "    }\n",
       "\n",
       "    .dataframe thead th {\n",
       "        text-align: right;\n",
       "    }\n",
       "</style>\n",
       "<table border=\"1\" class=\"dataframe\">\n",
       "  <thead>\n",
       "    <tr style=\"text-align: right;\">\n",
       "      <th></th>\n",
       "      <th>Título</th>\n",
       "      <th>Duração</th>\n",
       "      <th>URL</th>\n",
       "    </tr>\n",
       "  </thead>\n",
       "  <tbody>\n",
       "    <tr>\n",
       "      <th>0</th>\n",
       "      <td>O que é ciência de dados | Nerdologia Tech</td>\n",
       "      <td>- Duração: 9:30.</td>\n",
       "      <td>/watch?v=ykSILAQQu6o</td>\n",
       "    </tr>\n",
       "    <tr>\n",
       "      <th>1</th>\n",
       "      <td>Episódio 1 - Cientista de Dados, Por Onde Come...</td>\n",
       "      <td>- Duração: 32:14.</td>\n",
       "      <td>/watch?v=NmCuEgkVLWo</td>\n",
       "    </tr>\n",
       "    <tr>\n",
       "      <th>2</th>\n",
       "      <td>Como se Tornar um Cientista de Dados de Sucess...</td>\n",
       "      <td>- Duração: 7:10.</td>\n",
       "      <td>/watch?v=-vawLSNdo-A</td>\n",
       "    </tr>\n",
       "    <tr>\n",
       "      <th>3</th>\n",
       "      <td>Minha Jornada em Ciência de Dados (Parte 1) - ...</td>\n",
       "      <td>- Duração: 5:59.</td>\n",
       "      <td>/watch?v=QrpAmjbSQHA</td>\n",
       "    </tr>\n",
       "    <tr>\n",
       "      <th>4</th>\n",
       "      <td>Ciência de dados: como é criar o primeiro proj...</td>\n",
       "      <td>- Duração: 6:23.</td>\n",
       "      <td>/watch?v=L_SZQKv5Cl0</td>\n",
       "    </tr>\n",
       "  </tbody>\n",
       "</table>\n",
       "</div>"
      ],
      "text/plain": [
       "                                              Título             Duração  \\\n",
       "0         O que é ciência de dados | Nerdologia Tech    - Duração: 9:30.   \n",
       "1  Episódio 1 - Cientista de Dados, Por Onde Come...   - Duração: 32:14.   \n",
       "2  Como se Tornar um Cientista de Dados de Sucess...    - Duração: 7:10.   \n",
       "3  Minha Jornada em Ciência de Dados (Parte 1) - ...    - Duração: 5:59.   \n",
       "4  Ciência de dados: como é criar o primeiro proj...    - Duração: 6:23.   \n",
       "\n",
       "                    URL  \n",
       "0  /watch?v=ykSILAQQu6o  \n",
       "1  /watch?v=NmCuEgkVLWo  \n",
       "2  /watch?v=-vawLSNdo-A  \n",
       "3  /watch?v=QrpAmjbSQHA  \n",
       "4  /watch?v=L_SZQKv5Cl0  "
      ]
     },
     "execution_count": 20,
     "metadata": {},
     "output_type": "execute_result"
    }
   ],
   "source": [
    "# Armazenando os dados\n",
    "df = pd.DataFrame(videos, columns=['Título', 'Duração', 'URL'])\n",
    "df.head()"
   ]
  },
  {
   "cell_type": "markdown",
   "metadata": {},
   "source": [
    "## Exemplo 2 (Google)"
   ]
  },
  {
   "cell_type": "code",
   "execution_count": 21,
   "metadata": {},
   "outputs": [
    {
     "name": "stdout",
     "output_type": "stream",
     "text": [
      "ciencia de dados - Pesquisa Google\n"
     ]
    }
   ],
   "source": [
    "# Importando as bibliotecas\n",
    "import requests\n",
    "from bs4 import BeautifulSoup\n",
    "\n",
    "# Encontrar a URL\n",
    "url = 'https://www.google.com/search?q=ciencia+de+dados'\n",
    "\n",
    "# Contruir um objeto soup a partir da URL\n",
    "html = requests.get(url).text\n",
    "soup = BeautifulSoup(html, 'html.parser')\n",
    "print(soup.find('title').text)\n",
    "\n",
    "# Inspecionar a página"
   ]
  },
  {
   "cell_type": "markdown",
   "metadata": {},
   "source": [
    "### Achando o primeiro bloco do site"
   ]
  },
  {
   "cell_type": "code",
   "execution_count": 22,
   "metadata": {},
   "outputs": [],
   "source": [
    "# O primeiro bloco do site tem o título \"Introdução à Ciência de Dados 2.0 - Data Science Academy\"\n",
    "soup.prettify()"
   ]
  },
  {
   "cell_type": "code",
   "execution_count": 23,
   "metadata": {},
   "outputs": [
    {
     "name": "stdout",
     "output_type": "stream",
     "text": [
      "<div class=\"BNeawe vvjwJb AP7Wnd\">\n",
      " Introdução à Ciência de Dados 2.0 - Data Science Academy\n",
      "</div>\n",
      "\n"
     ]
    }
   ],
   "source": [
    "# Dar Ctrl-F no resultado de soup.prettify() para achar o título \"Introdução à Ciência de Dados 2.0 - Data Science Academy\"\n",
    "# Achar a tag h3 nomeado com a classe yt-lockup-title\n",
    "titulo = soup.find('div', attrs={'class': 'BNeawe vvjwJb AP7Wnd'})\n",
    "print(titulo.prettify())\n",
    "\n",
    "# Às vezes a página pode conter anúncios, então o primeiro elemento não vai ser o que queremos\n",
    "# Nesse caso, só rodar o código do BeautifulSoup desde o início"
   ]
  },
  {
   "cell_type": "code",
   "execution_count": 24,
   "metadata": {},
   "outputs": [
    {
     "name": "stdout",
     "output_type": "stream",
     "text": [
      "<div>\n",
      " <div class=\"ZINbbc xpd O9g5cc uUPGi\">\n",
      "  <div class=\"kCrYT\">\n",
      "   <a href=\"/url?q=https://www.datascienceacademy.com.br/course%3Fcourseid%3Dintroduo--cincia-de-dados&amp;sa=U&amp;ved=2ahUKEwjr8Zap-Z_pAhXRb30KHUobCrEQFjATegQICBAB&amp;usg=AOvVaw3gzOKEiAWVF1jQtdRapnMx\">\n",
      "    <div class=\"BNeawe vvjwJb AP7Wnd\">\n",
      "     Introdução à Ciência de Dados 2.0 - Data Science Academy\n",
      "    </div>\n",
      "    <div class=\"BNeawe UPmit AP7Wnd\">\n",
      "     https://www.datascienceacademy.com.br › course › courseid=introduo--cin...\n",
      "    </div>\n",
      "   </a>\n",
      "  </div>\n",
      "  <div class=\"x54gtf\">\n",
      "  </div>\n",
      "  <div class=\"kCrYT\">\n",
      "   <div>\n",
      "    <div class=\"BNeawe s3v9rd AP7Wnd\">\n",
      "     <div>\n",
      "      <div>\n",
      "       <div class=\"BNeawe s3v9rd AP7Wnd\">\n",
      "        Ciência de Dados é a exploração e análise de todos os dados disponíveis, com o objetivo de desenvolver compreensão, extrair conhecimento e formular ações  ...\n",
      "       </div>\n",
      "      </div>\n",
      "     </div>\n",
      "    </div>\n",
      "   </div>\n",
      "  </div>\n",
      " </div>\n",
      "</div>\n",
      "\n"
     ]
    }
   ],
   "source": [
    "# Achar o bloco mãe (parent), o bloco que engloba todo o vídeo, neste caso, vão ser múltiploes comandos parent\n",
    "# Utilizar o comando parent até o código englobar a maioria das informações, mas que não inclua informação no próximo bloco\n",
    "bloco = titulo.parent.parent.parent.parent\n",
    "print(bloco.prettify())\n",
    "\n",
    "# Neste caso, o bloco mãe não possui nenhuma caracterísitca especial, então vamos fazer uma outra abordagem\n",
    "# Vamos combinar os códigos das duas células que escrevemos"
   ]
  },
  {
   "cell_type": "markdown",
   "metadata": {},
   "source": [
    "### Montando o código"
   ]
  },
  {
   "cell_type": "code",
   "execution_count": 25,
   "metadata": {},
   "outputs": [
    {
     "data": {
      "text/plain": [
       "['Introdução à Ciência de Dados 2.0 - Data Science Academy',\n",
       " '/url?q=https://www.datascienceacademy.com.br/course%3Fcourseid%3Dintroduo--cincia-de-dados&sa=U&ved=2ahUKEwjr8Zap-Z_pAhXRb30KHUobCrEQFjATegQICBAB&usg=AOvVaw3gzOKEiAWVF1jQtdRapnMx',\n",
       " 'Ciência de Dados é a exploração e análise de todos os dados disponíveis, com o objetivo de desenvolver compreensão, extrair conhecimento e formular ações \\xa0...']"
      ]
     },
     "execution_count": 25,
     "metadata": {},
     "output_type": "execute_result"
    }
   ],
   "source": [
    "buscas = []\n",
    "for resultado in soup.find_all('div', attrs={'class': 'BNeawe vvjwJb AP7Wnd'}):\n",
    "    bloco = resultado.parent.parent.parent.parent\n",
    "    \n",
    "    titulo = resultado.text\n",
    "    url = bloco.a['href']\n",
    "    descricao = bloco.find('div', attrs={'class': 'BNeawe s3v9rd AP7Wnd'}).text\n",
    "    \n",
    "    buscas.append([titulo, url, descricao])\n",
    "\n",
    "buscas[0]"
   ]
  },
  {
   "cell_type": "markdown",
   "metadata": {},
   "source": [
    "## Exemplo 3 (Kalunga)"
   ]
  },
  {
   "cell_type": "code",
   "execution_count": 26,
   "metadata": {},
   "outputs": [
    {
     "name": "stdout",
     "output_type": "stream",
     "text": [
      "\r\n",
      "\tnotebook - Busca em Kalunga.com - Informática, Papelaria e Materiais para Escritório\r\n",
      "\n"
     ]
    }
   ],
   "source": [
    "# Importando as bibliotecas\n",
    "import requests\n",
    "from bs4 import BeautifulSoup\n",
    "\n",
    "# Encontrar a URL\n",
    "url = 'https://www.kalunga.com.br/busca/notebook/1'\n",
    "\n",
    "# Contruir um objeto soup a partir da URL\n",
    "html = requests.get(url).text\n",
    "soup = BeautifulSoup(html, 'html.parser')\n",
    "print(soup.find('title').text)\n",
    "\n",
    "# Inspecionar a página"
   ]
  },
  {
   "cell_type": "markdown",
   "metadata": {},
   "source": [
    "### Achando o primeiro bloco do site"
   ]
  },
  {
   "cell_type": "code",
   "execution_count": 27,
   "metadata": {},
   "outputs": [],
   "source": [
    "# O primeiro bloco do site tem o título \"Notebook 246-G7 8MU94LA, Processador core i5 1.6ghz, Memória de 8GB, Armazenamento SSD de 256GB, Tela de 14\", Windows 10 Pro + Monitor LED 23,6\" widescreen V24b 2XM34AA HP CX 1 UN\"\n",
    "soup.prettify()"
   ]
  },
  {
   "cell_type": "code",
   "execution_count": 28,
   "metadata": {},
   "outputs": [
    {
     "name": "stdout",
     "output_type": "stream",
     "text": [
      "<h1 class=\"text-left mt-2 text-dark\">\n",
      " Notebook Probook 440G5 6VV85LA, Processador core i5 1.6ghz, Memória de 4GB, Armazenamento de 500GB+16GB, Tela de 14\", Windows 10 Pro + Monitor LED 23,6\" widescreen V24b 2XM34AA HP CX 1 UN\n",
      "</h1>\n",
      "\n"
     ]
    }
   ],
   "source": [
    "# Dar Ctrl-F no resultado de soup.prettify() para achar o título \"Notebook 246-G7 8MU94LA, Processador core i5 1.6ghz, Memória de 8GB, Armazenamento SSD de 256GB, Tela de 14\", Windows 10 Pro + Monitor LED 23,6\" widescreen V24b 2XM34AA HP CX 1 UN\"\n",
    "# Achar a tag h3 nomeado com a classe yt-lockup-title\n",
    "titulo = soup.find('h1', attrs={'class': 'text-left mt-2 text-dark'})\n",
    "print(titulo.prettify())\n",
    "\n",
    "# Às vezes a página pode conter anúncios, então o primeiro elemento não vai ser o que queremos\n",
    "# Nesse caso, só rodar o código do BeautifulSoup desde o início"
   ]
  },
  {
   "cell_type": "code",
   "execution_count": 29,
   "metadata": {},
   "outputs": [
    {
     "name": "stdout",
     "output_type": "stream",
     "text": [
      "<div class=\"col col-xs-8 col-sm-8 col-md-12 col-lg-12\">\n",
      " <div class=\"col-12 px-0 text-left\">\n",
      "  <div class=\"col-12\">\n",
      "   <a +=\"\" ,=\"\" 1=\"\" 10=\"\" 23,6\"=\"\" 2xm34aa=\"\" cx=\"\" hp=\"\" href=\"/prod/notebook-probook-440g5-6vv85la-processador-core-i5-1-6ghz-memoria-de-4gb-armazenamento-de-500gb-16gb-tela-de-14-windows-10-pro-monitor-led-23-6-widescreen-v24b-2xm34aa-hp/998551?menuID=47&amp;WT.svl=1\" led=\"\" monitor=\"\" pro=\"\" title=\"Notebook Probook 440G5 6VV85LA, Processador core i5 1.6ghz, Memória de 4GB, Armazenamento de 500GB+16GB, Tela de 14\" un\"=\"\" v24b=\"\" widescreen=\"\" windows=\"\">\n",
      "    <h1 class=\"text-left mt-2 text-dark\">\n",
      "     Notebook Probook 440G5 6VV85LA, Processador core i5 1.6ghz, Memória de 4GB, Armazenamento de 500GB+16GB, Tela de 14\", Windows 10 Pro + Monitor LED 23,6\" widescreen V24b 2XM34AA HP CX 1 UN\n",
      "    </h1>\n",
      "    <div class=\"reviews my-2 text-left d-none d-md-block\">\n",
      "     <i class=\"fas fa-star mr-1\">\n",
      "     </i>\n",
      "     <i class=\"fas fa-star mr-1\">\n",
      "     </i>\n",
      "     <i class=\"fas fa-star mr-1\">\n",
      "     </i>\n",
      "     <i class=\"fas fa-star mr-1\">\n",
      "     </i>\n",
      "     <i class=\"fas fa-star mr-1\">\n",
      "     </i>\n",
      "     <span class=\"text-dark\">\n",
      "      (0)\n",
      "     </span>\n",
      "    </div>\n",
      "    <div class=\"levemais border-levemais rounded text-center\" style=\"display:none\">\n",
      "     <div class=\"bg-levemais text-white tiny h6 py-1 mb-0 text-uppercase\">\n",
      "      Leve Mais Por Menos\n",
      "     </div>\n",
      "     [LEVE_MAIS]\n",
      "    </div>\n",
      "   </a>\n",
      "  </div>\n",
      "  <div class=\"col-12 col-sm-12 col-md-12 col-lg-12 text-left\">\n",
      "   <div class=\"text-secondary\">\n",
      "    <span class=\"text-muted\">\n",
      "     <del>\n",
      "      <small>\n",
      "       De: R$5.591,76\n",
      "      </small>\n",
      "     </del>\n",
      "    </span>\n",
      "   </div>\n",
      "   <span class=\"text-primary h6\">\n",
      "    <span class=\"h3 font-weight-bold\">\n",
      "     R$\n",
      "     <span>\n",
      "      5.032\n",
      "     </span>\n",
      "     ,58\n",
      "    </span>\n",
      "    à vista\n",
      "   </span>\n",
      "   <div class=\"text-dark font-weight-bold small border-top border-light mt-1 pt-1\">\n",
      "    10x de R$547,02 iguais -\n",
      "    <span class=\"font-weight-normal\">\n",
      "     Acréscimo de 1,55%a.m. e 20,21% a.a.\n",
      "    </span>\n",
      "    <p class=\"mt-2 mb-1\">\n",
      "     Total a prazo: R$ 5.470,20\n",
      "    </p>\n",
      "   </div>\n",
      "  </div>\n",
      " </div>\n",
      "</div>\n",
      "\n"
     ]
    }
   ],
   "source": [
    "# Achar o bloco mãe (parent), o bloco que engloba todo o vídeo, neste caso, vão ser múltiploes comandos parent\n",
    "# Utilizar o comando parent até o código englobar a maioria das informações, mas que não inclua informação no próximo bloco\n",
    "bloco = titulo.parent.parent.parent.parent\n",
    "print(bloco.prettify())\n",
    "\n",
    "# Neste caso, o bloco mãe não possui nenhuma caracterísitca especial, então vamos fazer uma outra abordagem\n",
    "# Vamos combinar os códigos das duas células que escrevemos"
   ]
  },
  {
   "cell_type": "markdown",
   "metadata": {},
   "source": [
    "### Montando o código"
   ]
  },
  {
   "cell_type": "code",
   "execution_count": 30,
   "metadata": {},
   "outputs": [
    {
     "data": {
      "text/plain": [
       "['Notebook Probook 440G5 6VV85LA, Processador core i5 1.6ghz, Memória de 4GB, Armazenamento de 500GB+16GB, Tela de 14\", Windows 10 Pro + Monitor LED 23,6\" widescreen V24b 2XM34AA HP CX 1 UN',\n",
       " '\\nR$ 5.032,58 à vista\\r\\n        ',\n",
       " 'Notebook']"
      ]
     },
     "execution_count": 30,
     "metadata": {},
     "output_type": "execute_result"
    }
   ],
   "source": [
    "produtos = []\n",
    "for resultado in soup.find_all('h1', attrs={'class': 'text-left mt-2 text-dark'}):\n",
    "    bloco = resultado.parent.parent.parent.parent\n",
    "    \n",
    "    titulo = resultado.text\n",
    "    preco = bloco.find('span', attrs={'class': 'text-primary h6'}).text\n",
    "    categoria = resultado.text.split(' ')[0]\n",
    "    produtos.append([titulo, preco, categoria])\n",
    "\n",
    "produtos[0]"
   ]
  },
  {
   "cell_type": "code",
   "execution_count": 31,
   "metadata": {},
   "outputs": [
    {
     "data": {
      "text/html": [
       "<div>\n",
       "<style scoped>\n",
       "    .dataframe tbody tr th:only-of-type {\n",
       "        vertical-align: middle;\n",
       "    }\n",
       "\n",
       "    .dataframe tbody tr th {\n",
       "        vertical-align: top;\n",
       "    }\n",
       "\n",
       "    .dataframe thead th {\n",
       "        text-align: right;\n",
       "    }\n",
       "</style>\n",
       "<table border=\"1\" class=\"dataframe\">\n",
       "  <thead>\n",
       "    <tr style=\"text-align: right;\">\n",
       "      <th></th>\n",
       "      <th>Título</th>\n",
       "      <th>Preço</th>\n",
       "      <th>Categoria</th>\n",
       "    </tr>\n",
       "  </thead>\n",
       "  <tbody>\n",
       "    <tr>\n",
       "      <th>0</th>\n",
       "      <td>Notebook Probook 440G5 6VV85LA, Processador co...</td>\n",
       "      <td>\\nR$ 5.032,58 à vista\\r\\n</td>\n",
       "      <td>Notebook</td>\n",
       "    </tr>\n",
       "    <tr>\n",
       "      <th>1</th>\n",
       "      <td>Notebook Probook 440G5 6VV85LA, Processador co...</td>\n",
       "      <td>\\nR$ 4.958,06 à vista\\r\\n</td>\n",
       "      <td>Notebook</td>\n",
       "    </tr>\n",
       "    <tr>\n",
       "      <th>2</th>\n",
       "      <td>Notebook 246-G7 8MU94LA, Processador core i5 1...</td>\n",
       "      <td>\\nR$ 3.881,66 à vista\\r\\n</td>\n",
       "      <td>Notebook</td>\n",
       "    </tr>\n",
       "    <tr>\n",
       "      <th>3</th>\n",
       "      <td>Notebook 246-G7 6YH27LA, Processador core i5 1...</td>\n",
       "      <td>\\nR$ 3.716,06 à vista\\r\\n</td>\n",
       "      <td>Notebook</td>\n",
       "    </tr>\n",
       "    <tr>\n",
       "      <th>4</th>\n",
       "      <td>Notebook 246-G7 8MU94LA, Processador core i5 1...</td>\n",
       "      <td>\\nR$ 3.956,18 à vista\\r\\n</td>\n",
       "      <td>Notebook</td>\n",
       "    </tr>\n",
       "  </tbody>\n",
       "</table>\n",
       "</div>"
      ],
      "text/plain": [
       "                                              Título  \\\n",
       "0  Notebook Probook 440G5 6VV85LA, Processador co...   \n",
       "1  Notebook Probook 440G5 6VV85LA, Processador co...   \n",
       "2  Notebook 246-G7 8MU94LA, Processador core i5 1...   \n",
       "3  Notebook 246-G7 6YH27LA, Processador core i5 1...   \n",
       "4  Notebook 246-G7 8MU94LA, Processador core i5 1...   \n",
       "\n",
       "                               Preço Categoria  \n",
       "0  \\nR$ 5.032,58 à vista\\r\\n          Notebook  \n",
       "1  \\nR$ 4.958,06 à vista\\r\\n          Notebook  \n",
       "2  \\nR$ 3.881,66 à vista\\r\\n          Notebook  \n",
       "3  \\nR$ 3.716,06 à vista\\r\\n          Notebook  \n",
       "4  \\nR$ 3.956,18 à vista\\r\\n          Notebook  "
      ]
     },
     "execution_count": 31,
     "metadata": {},
     "output_type": "execute_result"
    }
   ],
   "source": [
    "import pandas as pd\n",
    "\n",
    "# Armazenando os dados\n",
    "df = pd.DataFrame(produtos, columns=['Título', 'Preço', 'Categoria'])\n",
    "df.head()"
   ]
  }
 ],
 "metadata": {
  "kernelspec": {
   "display_name": "Python 3",
   "language": "python",
   "name": "python3"
  },
  "language_info": {
   "codemirror_mode": {
    "name": "ipython",
    "version": 3
   },
   "file_extension": ".py",
   "mimetype": "text/x-python",
   "name": "python",
   "nbconvert_exporter": "python",
   "pygments_lexer": "ipython3",
   "version": "3.7.6"
  },
  "toc": {
   "base_numbering": 1,
   "nav_menu": {
    "height": "419px",
    "width": "273px"
   },
   "number_sections": true,
   "sideBar": true,
   "skip_h1_title": false,
   "title_cell": "Table of Contents",
   "title_sidebar": "Contents",
   "toc_cell": false,
   "toc_position": {},
   "toc_section_display": true,
   "toc_window_display": false
  }
 },
 "nbformat": 4,
 "nbformat_minor": 4
}
